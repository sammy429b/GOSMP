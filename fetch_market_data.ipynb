{
 "cells": [
  {
   "cell_type": "markdown",
   "id": "c13af780",
   "metadata": {},
   "source": [
    "# if strip code UNavailable "
   ]
  },
  {
   "cell_type": "code",
   "execution_count": 3,
   "id": "0173878d",
   "metadata": {
    "scrolled": true
   },
   "outputs": [],
   "source": [
    "from bsedata.bse import BSE\n",
    "from bsedata.exceptions import InvalidStockException  # Import the exception\n",
    "\n",
    "import pandas as pd\n",
    "\n",
    "bse = BSE(update_codes=True)\n",
    "\n",
    "strip_code_data = pd.read_csv(\"Equity.csv\")\n",
    "strip_code_data.reset_index(inplace=True)\n",
    "tick_data = pd.DataFrame(strip_code_data[[\"index\", \"Issuer Name\"]])\n",
    "\n",
    "\n",
    "        "
   ]
  },
  {
   "cell_type": "code",
   "execution_count": null,
   "id": "7cff5e59",
   "metadata": {},
   "outputs": [],
   "source": [
    "# columns_to_drop = ['change', 'pChange', 'updatedOn','group', 'faceValue', 'industry',\n",
    "#        'previousClose', 'previousOpen', 'dayHigh', 'dayLow', '52weekHigh',\n",
    "#        '52weekLow', 'weightedAvgPrice', 'totalTradedValue',\n",
    "#        'totalTradedQuantity', '2WeekAvgQuantity', 'marketCapFull',\n",
    "#        'marketCapFreeFloat', 'buy', 'sell']\n",
    "\n",
    "# stock_data.drop(columns=columns_to_drop, inplace = True)"
   ]
  },
  {
   "cell_type": "code",
   "execution_count": null,
   "id": "25c289eb",
   "metadata": {},
   "outputs": [],
   "source": [
    "def get_stock_quote(id):\n",
    "    try: \n",
    "        id = str(id)\n",
    "        return bse.getQuote(id)\n",
    "    except InvalidStockException as e:\n",
    "        return None  # Return None to indicate an issue\n",
    "\n",
    "stock_data = pd.DataFrame()\n",
    "\n",
    "\n",
    "inactive_count = 0\n",
    "\n",
    "for id in tick_data[\"index\"]:\n",
    "    try:\n",
    "        print(id)\n",
    "        stock_quote = get_stock_quote(id)\n",
    "\n",
    "        # Check if stock_quote is not None before processing\n",
    "        if stock_quote is not None:\n",
    "            # Convert the dictionary to a DataFrame row\n",
    "            row_df = pd.DataFrame.from_dict(stock_quote, orient='index').T\n",
    "\n",
    "            # Append the row to the result DataFrame\n",
    "            stock_data = pd.concat([row_df,stock_data])\n",
    "        else:\n",
    "            # Increment the counter for inactive stocks\n",
    "            inactive_count += 1\n",
    "\n",
    "        print (\"Inactive Count is \", inactive_count)\n",
    "\n",
    "    except Exception as e:\n",
    "        print(e)\n",
    "        print(\"Error for \", id)"
   ]
  },
  {
   "cell_type": "code",
   "execution_count": 2,
   "id": "2130867f",
   "metadata": {
    "scrolled": true
   },
   "outputs": [
    {
     "data": {
      "text/html": [
       "<div>\n",
       "<style scoped>\n",
       "    .dataframe tbody tr th:only-of-type {\n",
       "        vertical-align: middle;\n",
       "    }\n",
       "\n",
       "    .dataframe tbody tr th {\n",
       "        vertical-align: top;\n",
       "    }\n",
       "\n",
       "    .dataframe thead th {\n",
       "        text-align: right;\n",
       "    }\n",
       "</style>\n",
       "<table border=\"1\" class=\"dataframe\">\n",
       "  <thead>\n",
       "    <tr style=\"text-align: right;\">\n",
       "      <th></th>\n",
       "      <th>companyName</th>\n",
       "      <th>currentValue</th>\n",
       "      <th>change</th>\n",
       "      <th>pChange</th>\n",
       "      <th>updatedOn</th>\n",
       "      <th>securityID</th>\n",
       "      <th>scripCode</th>\n",
       "      <th>group</th>\n",
       "      <th>faceValue</th>\n",
       "      <th>industry</th>\n",
       "      <th>...</th>\n",
       "      <th>52weekHigh</th>\n",
       "      <th>52weekLow</th>\n",
       "      <th>weightedAvgPrice</th>\n",
       "      <th>totalTradedValue</th>\n",
       "      <th>totalTradedQuantity</th>\n",
       "      <th>2WeekAvgQuantity</th>\n",
       "      <th>marketCapFull</th>\n",
       "      <th>marketCapFreeFloat</th>\n",
       "      <th>buy</th>\n",
       "      <th>sell</th>\n",
       "    </tr>\n",
       "  </thead>\n",
       "  <tbody>\n",
       "    <tr>\n",
       "      <th>0</th>\n",
       "      <td>BOMBAY DYEING &amp; MFG.CO.LTD.</td>\n",
       "      <td>185.20</td>\n",
       "      <td>-3.60</td>\n",
       "      <td>-1.91</td>\n",
       "      <td>08 Feb 24 | 12:31 PM</td>\n",
       "      <td>BOMDYEING</td>\n",
       "      <td>500020</td>\n",
       "      <td>A  / S&amp;P BSE SmallCap</td>\n",
       "      <td>2.00</td>\n",
       "      <td>Textiles</td>\n",
       "      <td>...</td>\n",
       "      <td>194.95</td>\n",
       "      <td>53.37</td>\n",
       "      <td>187.90</td>\n",
       "      <td>3.35 Cr.</td>\n",
       "      <td>1.78 Lakh</td>\n",
       "      <td>4.63 Lakh</td>\n",
       "      <td>3,825.03 Cr.</td>\n",
       "      <td>1,759.51 Cr.</td>\n",
       "      <td>{'1': {'quantity': '101', 'price': '184.85'}, ...</td>\n",
       "      <td>{'1': {'price': '185.10', 'quantity': '96'}, '...</td>\n",
       "    </tr>\n",
       "    <tr>\n",
       "      <th>1</th>\n",
       "      <td>BOMBAY DYEING &amp; MFG.CO.LTD.</td>\n",
       "      <td>185.20</td>\n",
       "      <td>-3.60</td>\n",
       "      <td>-1.91</td>\n",
       "      <td>08 Feb 24 | 12:31 PM</td>\n",
       "      <td>BOMDYEING</td>\n",
       "      <td>500020</td>\n",
       "      <td>A  / S&amp;P BSE SmallCap</td>\n",
       "      <td>2.00</td>\n",
       "      <td>Textiles</td>\n",
       "      <td>...</td>\n",
       "      <td>194.95</td>\n",
       "      <td>53.37</td>\n",
       "      <td>187.90</td>\n",
       "      <td>3.35 Cr.</td>\n",
       "      <td>1.78 Lakh</td>\n",
       "      <td>4.63 Lakh</td>\n",
       "      <td>3,825.03 Cr.</td>\n",
       "      <td>1,759.51 Cr.</td>\n",
       "      <td>{'1': {'quantity': '101', 'price': '184.85'}, ...</td>\n",
       "      <td>{'1': {'price': '185.10', 'quantity': '96'}, '...</td>\n",
       "    </tr>\n",
       "    <tr>\n",
       "      <th>2</th>\n",
       "      <td>ARUNA HOTELS LTD.</td>\n",
       "      <td>19.77</td>\n",
       "      <td>0.21</td>\n",
       "      <td>1.07</td>\n",
       "      <td>08 Feb 24 | 12:31 PM</td>\n",
       "      <td>ARUNAHTEL</td>\n",
       "      <td>500016</td>\n",
       "      <td>XT /</td>\n",
       "      <td>10.00</td>\n",
       "      <td>Consumer Services</td>\n",
       "      <td>...</td>\n",
       "      <td>24.58</td>\n",
       "      <td>11.50</td>\n",
       "      <td>18.95</td>\n",
       "      <td>0.02 Cr.</td>\n",
       "      <td>0.13 Lakh</td>\n",
       "      <td>0.27 Lakh</td>\n",
       "      <td>67.02 Cr.</td>\n",
       "      <td>29.49 Cr.</td>\n",
       "      <td>{'1': {'quantity': '250', 'price': '18.61'}, '...</td>\n",
       "      <td>{'1': {'price': '19.74', 'quantity': '1100'}, ...</td>\n",
       "    </tr>\n",
       "    <tr>\n",
       "      <th>3</th>\n",
       "      <td>Utique Enterprises Ltd</td>\n",
       "      <td>9.93</td>\n",
       "      <td>-1.01</td>\n",
       "      <td>-9.23</td>\n",
       "      <td>08 Feb 24 | 12:31 PM</td>\n",
       "      <td>UTIQUE</td>\n",
       "      <td>500014</td>\n",
       "      <td>X  /</td>\n",
       "      <td>10.00</td>\n",
       "      <td>Metals &amp; Mining</td>\n",
       "      <td>...</td>\n",
       "      <td>11.85</td>\n",
       "      <td>4.00</td>\n",
       "      <td>10.01</td>\n",
       "      <td>0.29 Cr.</td>\n",
       "      <td>2.90 Lakh</td>\n",
       "      <td>2.78 Lakh</td>\n",
       "      <td>55.28 Cr.</td>\n",
       "      <td>38.15 Cr.</td>\n",
       "      <td>{'1': {'quantity': '249', 'price': '9.84'}, '2...</td>\n",
       "      <td>{'1': {'price': '9.93', 'quantity': '2117'}, '...</td>\n",
       "    </tr>\n",
       "    <tr>\n",
       "      <th>4</th>\n",
       "      <td>ANSAL PROPERTIES &amp; INFRASTRUCTURE LTD.</td>\n",
       "      <td>12.90</td>\n",
       "      <td>0.61</td>\n",
       "      <td>4.96</td>\n",
       "      <td>08 Feb 24 | 12:31 PM</td>\n",
       "      <td>ANSALAPI</td>\n",
       "      <td>500013</td>\n",
       "      <td>Z  /</td>\n",
       "      <td>5.00</td>\n",
       "      <td>Realty</td>\n",
       "      <td>...</td>\n",
       "      <td>15.05</td>\n",
       "      <td>8.00</td>\n",
       "      <td>12.89</td>\n",
       "      <td>0.60 Cr.</td>\n",
       "      <td>4.69 Lakh</td>\n",
       "      <td>0.35 Lakh</td>\n",
       "      <td>203.05 Cr.</td>\n",
       "      <td>103.55 Cr.</td>\n",
       "      <td>{'1': {'quantity': '107712', 'price': '12.90'}...</td>\n",
       "      <td>{'1': {'price': '0.00', 'quantity': '-'}, '2':...</td>\n",
       "    </tr>\n",
       "    <tr>\n",
       "      <th>5</th>\n",
       "      <td>ANDHRA PETROCHEMICALS LTD.</td>\n",
       "      <td>110.30</td>\n",
       "      <td>0.45</td>\n",
       "      <td>0.41</td>\n",
       "      <td>08 Feb 24 | 12:31 PM</td>\n",
       "      <td>ANDHRAPET</td>\n",
       "      <td>500012</td>\n",
       "      <td>X  / S&amp;P BSE SmallCap</td>\n",
       "      <td>10.00</td>\n",
       "      <td>Chemicals</td>\n",
       "      <td>...</td>\n",
       "      <td>115.95</td>\n",
       "      <td>46.00</td>\n",
       "      <td>109.97</td>\n",
       "      <td>1.43 Cr.</td>\n",
       "      <td>1.31 Lakh</td>\n",
       "      <td>2.87 Lakh</td>\n",
       "      <td>937.24 Cr.</td>\n",
       "      <td>487.36 Cr.</td>\n",
       "      <td>{'1': {'quantity': '79', 'price': '110.00'}, '...</td>\n",
       "      <td>{'1': {'price': '110.75', 'quantity': '50'}, '...</td>\n",
       "    </tr>\n",
       "    <tr>\n",
       "      <th>6</th>\n",
       "      <td>AMBALAL SARABHAI ENTERPRISES LTD.</td>\n",
       "      <td>65.96</td>\n",
       "      <td>-2.18</td>\n",
       "      <td>-3.20</td>\n",
       "      <td>08 Feb 24 | 12:31 PM</td>\n",
       "      <td>AMBALALSA</td>\n",
       "      <td>500009</td>\n",
       "      <td>X  /</td>\n",
       "      <td>10.00</td>\n",
       "      <td>Healthcare</td>\n",
       "      <td>...</td>\n",
       "      <td>70.00</td>\n",
       "      <td>20.04</td>\n",
       "      <td>67.32</td>\n",
       "      <td>2.57 Cr.</td>\n",
       "      <td>3.83 Lakh</td>\n",
       "      <td>6.31 Lakh</td>\n",
       "      <td>505.47 Cr.</td>\n",
       "      <td>348.78 Cr.</td>\n",
       "      <td>{'1': {'quantity': '20', 'price': '65.56'}, '2...</td>\n",
       "      <td>{'1': {'price': '65.96', 'quantity': '30'}, '2...</td>\n",
       "    </tr>\n",
       "    <tr>\n",
       "      <th>7</th>\n",
       "      <td>Amara Raja Energy &amp; Mobility Ltd</td>\n",
       "      <td>887.55</td>\n",
       "      <td>3.25</td>\n",
       "      <td>0.37</td>\n",
       "      <td>08 Feb 24 | 12:31 PM</td>\n",
       "      <td>ARE&amp;M</td>\n",
       "      <td>500008</td>\n",
       "      <td>A  / S&amp;P BSE 500</td>\n",
       "      <td>1.00</td>\n",
       "      <td>Automobile and Auto Components</td>\n",
       "      <td>...</td>\n",
       "      <td>922.00</td>\n",
       "      <td>546.55</td>\n",
       "      <td>888.60</td>\n",
       "      <td>0.79 Cr.</td>\n",
       "      <td>0.09 Lakh</td>\n",
       "      <td>0.72 Lakh</td>\n",
       "      <td>15,160.46 Cr.</td>\n",
       "      <td>10,915.53 Cr.</td>\n",
       "      <td>{'1': {'quantity': '2', 'price': '886.75'}, '2...</td>\n",
       "      <td>{'1': {'price': '888.20', 'quantity': '24'}, '...</td>\n",
       "    </tr>\n",
       "    <tr>\n",
       "      <th>8</th>\n",
       "      <td>AEGIS LOGISTICS LTD.</td>\n",
       "      <td>383.70</td>\n",
       "      <td>6.85</td>\n",
       "      <td>1.82</td>\n",
       "      <td>08 Feb 24 | 12:31 PM</td>\n",
       "      <td>AEGISLOG</td>\n",
       "      <td>500003</td>\n",
       "      <td>A  / S&amp;P BSE 500</td>\n",
       "      <td>1.00</td>\n",
       "      <td>Oil, Gas &amp; Consumable Fuels</td>\n",
       "      <td>...</td>\n",
       "      <td>410.20</td>\n",
       "      <td>280.00</td>\n",
       "      <td>379.03</td>\n",
       "      <td>0.71 Cr.</td>\n",
       "      <td>0.19 Lakh</td>\n",
       "      <td>0.66 Lakh</td>\n",
       "      <td>13,467.87 Cr.</td>\n",
       "      <td>4,848.43 Cr.</td>\n",
       "      <td>{'1': {'quantity': '123', 'price': '383.30'}, ...</td>\n",
       "      <td>{'1': {'price': '383.85', 'quantity': '18'}, '...</td>\n",
       "    </tr>\n",
       "    <tr>\n",
       "      <th>9</th>\n",
       "      <td>ABB India Limited</td>\n",
       "      <td>4497.45</td>\n",
       "      <td>-74.10</td>\n",
       "      <td>-1.62</td>\n",
       "      <td>08 Feb 24 | 12:31 PM</td>\n",
       "      <td>ABB</td>\n",
       "      <td>500002</td>\n",
       "      <td>A  / S&amp;P BSE 200</td>\n",
       "      <td>2.00</td>\n",
       "      <td>Capital Goods</td>\n",
       "      <td>...</td>\n",
       "      <td>4984.30</td>\n",
       "      <td>3006.35</td>\n",
       "      <td>4544.68</td>\n",
       "      <td>1.21 Cr.</td>\n",
       "      <td>0.03 Lakh</td>\n",
       "      <td>0.10 Lakh</td>\n",
       "      <td>95,304.73 Cr.</td>\n",
       "      <td>23,826.18 Cr.</td>\n",
       "      <td>{'1': {'quantity': '7', 'price': '4497.40'}, '...</td>\n",
       "      <td>{'1': {'price': '4503.10', 'quantity': '6'}, '...</td>\n",
       "    </tr>\n",
       "  </tbody>\n",
       "</table>\n",
       "<p>10 rows × 24 columns</p>\n",
       "</div>"
      ],
      "text/plain": [
       "                              companyName currentValue  change pChange  \\\n",
       "0             BOMBAY DYEING & MFG.CO.LTD.       185.20   -3.60   -1.91   \n",
       "1             BOMBAY DYEING & MFG.CO.LTD.       185.20   -3.60   -1.91   \n",
       "2                       ARUNA HOTELS LTD.        19.77    0.21    1.07   \n",
       "3                  Utique Enterprises Ltd         9.93   -1.01   -9.23   \n",
       "4  ANSAL PROPERTIES & INFRASTRUCTURE LTD.        12.90    0.61    4.96   \n",
       "5              ANDHRA PETROCHEMICALS LTD.       110.30    0.45    0.41   \n",
       "6       AMBALAL SARABHAI ENTERPRISES LTD.        65.96   -2.18   -3.20   \n",
       "7        Amara Raja Energy & Mobility Ltd       887.55    3.25    0.37   \n",
       "8                    AEGIS LOGISTICS LTD.       383.70    6.85    1.82   \n",
       "9                       ABB India Limited      4497.45  -74.10   -1.62   \n",
       "\n",
       "              updatedOn securityID scripCode                  group faceValue  \\\n",
       "0  08 Feb 24 | 12:31 PM  BOMDYEING    500020  A  / S&P BSE SmallCap      2.00   \n",
       "1  08 Feb 24 | 12:31 PM  BOMDYEING    500020  A  / S&P BSE SmallCap      2.00   \n",
       "2  08 Feb 24 | 12:31 PM  ARUNAHTEL    500016                   XT /     10.00   \n",
       "3  08 Feb 24 | 12:31 PM     UTIQUE    500014                   X  /     10.00   \n",
       "4  08 Feb 24 | 12:31 PM   ANSALAPI    500013                   Z  /      5.00   \n",
       "5  08 Feb 24 | 12:31 PM  ANDHRAPET    500012  X  / S&P BSE SmallCap     10.00   \n",
       "6  08 Feb 24 | 12:31 PM  AMBALALSA    500009                   X  /     10.00   \n",
       "7  08 Feb 24 | 12:31 PM      ARE&M    500008       A  / S&P BSE 500      1.00   \n",
       "8  08 Feb 24 | 12:31 PM   AEGISLOG    500003       A  / S&P BSE 500      1.00   \n",
       "9  08 Feb 24 | 12:31 PM        ABB    500002       A  / S&P BSE 200      2.00   \n",
       "\n",
       "                         industry  ... 52weekHigh 52weekLow weightedAvgPrice  \\\n",
       "0                        Textiles  ...     194.95     53.37           187.90   \n",
       "1                        Textiles  ...     194.95     53.37           187.90   \n",
       "2               Consumer Services  ...      24.58     11.50            18.95   \n",
       "3                 Metals & Mining  ...      11.85      4.00            10.01   \n",
       "4                          Realty  ...      15.05      8.00            12.89   \n",
       "5                       Chemicals  ...     115.95     46.00           109.97   \n",
       "6                      Healthcare  ...      70.00     20.04            67.32   \n",
       "7  Automobile and Auto Components  ...     922.00    546.55           888.60   \n",
       "8     Oil, Gas & Consumable Fuels  ...     410.20    280.00           379.03   \n",
       "9                   Capital Goods  ...    4984.30   3006.35          4544.68   \n",
       "\n",
       "  totalTradedValue totalTradedQuantity 2WeekAvgQuantity  marketCapFull  \\\n",
       "0         3.35 Cr.           1.78 Lakh        4.63 Lakh   3,825.03 Cr.   \n",
       "1         3.35 Cr.           1.78 Lakh        4.63 Lakh   3,825.03 Cr.   \n",
       "2         0.02 Cr.           0.13 Lakh        0.27 Lakh      67.02 Cr.   \n",
       "3         0.29 Cr.           2.90 Lakh        2.78 Lakh      55.28 Cr.   \n",
       "4         0.60 Cr.           4.69 Lakh        0.35 Lakh     203.05 Cr.   \n",
       "5         1.43 Cr.           1.31 Lakh        2.87 Lakh     937.24 Cr.   \n",
       "6         2.57 Cr.           3.83 Lakh        6.31 Lakh     505.47 Cr.   \n",
       "7         0.79 Cr.           0.09 Lakh        0.72 Lakh  15,160.46 Cr.   \n",
       "8         0.71 Cr.           0.19 Lakh        0.66 Lakh  13,467.87 Cr.   \n",
       "9         1.21 Cr.           0.03 Lakh        0.10 Lakh  95,304.73 Cr.   \n",
       "\n",
       "  marketCapFreeFloat                                                buy  \\\n",
       "0       1,759.51 Cr.  {'1': {'quantity': '101', 'price': '184.85'}, ...   \n",
       "1       1,759.51 Cr.  {'1': {'quantity': '101', 'price': '184.85'}, ...   \n",
       "2          29.49 Cr.  {'1': {'quantity': '250', 'price': '18.61'}, '...   \n",
       "3          38.15 Cr.  {'1': {'quantity': '249', 'price': '9.84'}, '2...   \n",
       "4         103.55 Cr.  {'1': {'quantity': '107712', 'price': '12.90'}...   \n",
       "5         487.36 Cr.  {'1': {'quantity': '79', 'price': '110.00'}, '...   \n",
       "6         348.78 Cr.  {'1': {'quantity': '20', 'price': '65.56'}, '2...   \n",
       "7      10,915.53 Cr.  {'1': {'quantity': '2', 'price': '886.75'}, '2...   \n",
       "8       4,848.43 Cr.  {'1': {'quantity': '123', 'price': '383.30'}, ...   \n",
       "9      23,826.18 Cr.  {'1': {'quantity': '7', 'price': '4497.40'}, '...   \n",
       "\n",
       "                                                sell  \n",
       "0  {'1': {'price': '185.10', 'quantity': '96'}, '...  \n",
       "1  {'1': {'price': '185.10', 'quantity': '96'}, '...  \n",
       "2  {'1': {'price': '19.74', 'quantity': '1100'}, ...  \n",
       "3  {'1': {'price': '9.93', 'quantity': '2117'}, '...  \n",
       "4  {'1': {'price': '0.00', 'quantity': '-'}, '2':...  \n",
       "5  {'1': {'price': '110.75', 'quantity': '50'}, '...  \n",
       "6  {'1': {'price': '65.96', 'quantity': '30'}, '2...  \n",
       "7  {'1': {'price': '888.20', 'quantity': '24'}, '...  \n",
       "8  {'1': {'price': '383.85', 'quantity': '18'}, '...  \n",
       "9  {'1': {'price': '4503.10', 'quantity': '6'}, '...  \n",
       "\n",
       "[10 rows x 24 columns]"
      ]
     },
     "execution_count": 2,
     "metadata": {},
     "output_type": "execute_result"
    }
   ],
   "source": [
    "pd.concat([row_df,stock_data],ignore_index=True)"
   ]
  },
  {
   "cell_type": "code",
   "execution_count": null,
   "id": "2e17fb35",
   "metadata": {},
   "outputs": [],
   "source": []
  },
  {
   "cell_type": "code",
   "execution_count": null,
   "id": "68b43927",
   "metadata": {},
   "outputs": [],
   "source": []
  },
  {
   "cell_type": "markdown",
   "id": "6c6036dc",
   "metadata": {},
   "source": [
    "# if strip code available "
   ]
  },
  {
   "cell_type": "code",
   "execution_count": null,
   "id": "d33b3b77",
   "metadata": {},
   "outputs": [],
   "source": [
    "strip_code_data = pd.read_csv(\"ind_nifty500list.csv\")\n",
    "strip_code_data_code_data.head()"
   ]
  },
  {
   "cell_type": "code",
   "execution_count": null,
   "id": "6447d0c7",
   "metadata": {},
   "outputs": [],
   "source": [
    "strip_code_data.columns"
   ]
  },
  {
   "cell_type": "code",
   "execution_count": null,
   "id": "f0ccd668",
   "metadata": {},
   "outputs": [],
   "source": []
  },
  {
   "cell_type": "markdown",
   "id": "f409465a",
   "metadata": {},
   "source": [
    "# ------------------ DATA MINING for stocks ------------------ "
   ]
  },
  {
   "cell_type": "code",
   "execution_count": 7,
   "id": "908b73b6",
   "metadata": {},
   "outputs": [],
   "source": [
    "import yfinance as yf"
   ]
  },
  {
   "cell_type": "code",
   "execution_count": 9,
   "id": "d9c50e2c",
   "metadata": {
    "scrolled": true
   },
   "outputs": [
    {
     "name": "stdout",
     "output_type": "stream",
     "text": [
      "[*********************100%%**********************]  1 of 1 completed\n",
      "[*********************100%%**********************]  1 of 1 completed\n",
      "[*********************100%%**********************]  1 of 1 completed\n",
      "[*********************100%%**********************]  1 of 1 completed\n",
      "[*********************100%%**********************]  1 of 1 completed\n",
      "[*********************100%%**********************]  1 of 1 completed\n",
      "[*********************100%%**********************]  1 of 1 completed\n",
      "[*********************100%%**********************]  1 of 1 completed\n",
      "[*********************100%%**********************]  1 of 1 completed\n",
      "[*********************100%%**********************]  1 of 1 completed\n",
      "[*********************100%%**********************]  1 of 1 completed\n",
      "[*********************100%%**********************]  1 of 1 completed\n",
      "[*********************100%%**********************]  1 of 1 completed\n",
      "[*********************100%%**********************]  1 of 1 completed\n",
      "[*********************100%%**********************]  1 of 1 completed\n",
      "[*********************100%%**********************]  1 of 1 completed\n",
      "[*********************100%%**********************]  1 of 1 completed\n",
      "[*********************100%%**********************]  1 of 1 completed\n",
      "[*********************100%%**********************]  1 of 1 completed\n",
      "[*********************100%%**********************]  1 of 1 completed\n",
      "[*********************100%%**********************]  1 of 1 completed\n",
      "[*********************100%%**********************]  1 of 1 completed\n",
      "[*********************100%%**********************]  1 of 1 completed\n",
      "[*********************100%%**********************]  1 of 1 completed\n",
      "[*********************100%%**********************]  1 of 1 completed\n",
      "[*********************100%%**********************]  1 of 1 completed\n",
      "[*********************100%%**********************]  1 of 1 completed\n",
      "[*********************100%%**********************]  1 of 1 completed\n",
      "[*********************100%%**********************]  1 of 1 completed\n",
      "[*********************100%%**********************]  1 of 1 completed\n",
      "[*********************100%%**********************]  1 of 1 completed\n",
      "[*********************100%%**********************]  1 of 1 completed\n",
      "[*********************100%%**********************]  1 of 1 completed\n",
      "[*********************100%%**********************]  1 of 1 completed\n",
      "[*********************100%%**********************]  1 of 1 completed\n",
      "[*********************100%%**********************]  1 of 1 completed\n",
      "[*********************100%%**********************]  1 of 1 completed\n",
      "[*********************100%%**********************]  1 of 1 completed\n",
      "[*********************100%%**********************]  1 of 1 completed\n",
      "[*********************100%%**********************]  1 of 1 completed\n",
      "[*********************100%%**********************]  1 of 1 completed\n",
      "[*********************100%%**********************]  1 of 1 completed\n",
      "[*********************100%%**********************]  1 of 1 completed\n",
      "[*********************100%%**********************]  1 of 1 completed\n",
      "[*********************100%%**********************]  1 of 1 completed\n",
      "[*********************100%%**********************]  1 of 1 completed\n",
      "[*********************100%%**********************]  1 of 1 completed\n",
      "[*********************100%%**********************]  1 of 1 completed\n",
      "[*********************100%%**********************]  1 of 1 completed\n",
      "[*********************100%%**********************]  1 of 1 completed\n",
      "[*********************100%%**********************]  1 of 1 completed\n",
      "[*********************100%%**********************]  1 of 1 completed\n",
      "[*********************100%%**********************]  1 of 1 completed\n",
      "[*********************100%%**********************]  1 of 1 completed\n",
      "[*********************100%%**********************]  1 of 1 completed\n",
      "[*********************100%%**********************]  1 of 1 completed\n",
      "[*********************100%%**********************]  1 of 1 completed\n",
      "[*********************100%%**********************]  1 of 1 completed\n",
      "[*********************100%%**********************]  1 of 1 completed\n",
      "[*********************100%%**********************]  1 of 1 completed\n",
      "[*********************100%%**********************]  1 of 1 completed\n",
      "[*********************100%%**********************]  1 of 1 completed\n",
      "[*********************100%%**********************]  1 of 1 completed\n",
      "[*********************100%%**********************]  1 of 1 completed\n",
      "[*********************100%%**********************]  1 of 1 completed\n",
      "[*********************100%%**********************]  1 of 1 completed\n",
      "[*********************100%%**********************]  1 of 1 completed\n",
      "[*********************100%%**********************]  1 of 1 completed\n",
      "[*********************100%%**********************]  1 of 1 completed\n",
      "[*********************100%%**********************]  1 of 1 completed\n",
      "[*********************100%%**********************]  1 of 1 completed\n",
      "[*********************100%%**********************]  1 of 1 completed\n",
      "[*********************100%%**********************]  1 of 1 completed\n",
      "[*********************100%%**********************]  1 of 1 completed\n",
      "[*********************100%%**********************]  1 of 1 completed\n",
      "[*********************100%%**********************]  1 of 1 completed\n",
      "[*********************100%%**********************]  1 of 1 completed\n",
      "[*********************100%%**********************]  1 of 1 completed\n",
      "[*********************100%%**********************]  1 of 1 completed\n",
      "[*********************100%%**********************]  1 of 1 completed\n",
      "[*********************100%%**********************]  1 of 1 completed\n",
      "[*********************100%%**********************]  1 of 1 completed\n",
      "[*********************100%%**********************]  1 of 1 completed\n",
      "[*********************100%%**********************]  1 of 1 completed\n",
      "[*********************100%%**********************]  1 of 1 completed\n",
      "[*********************100%%**********************]  1 of 1 completed\n",
      "[*********************100%%**********************]  1 of 1 completed\n",
      "[*********************100%%**********************]  1 of 1 completed\n",
      "[*********************100%%**********************]  1 of 1 completed\n",
      "[*********************100%%**********************]  1 of 1 completed\n",
      "[*********************100%%**********************]  1 of 1 completed\n",
      "[*********************100%%**********************]  1 of 1 completed\n",
      "[*********************100%%**********************]  1 of 1 completed\n",
      "[*********************100%%**********************]  1 of 1 completed\n",
      "[*********************100%%**********************]  1 of 1 completed\n",
      "[*********************100%%**********************]  1 of 1 completed\n",
      "[*********************100%%**********************]  1 of 1 completed\n",
      "[*********************100%%**********************]  1 of 1 completed\n",
      "[*********************100%%**********************]  1 of 1 completed\n",
      "[*********************100%%**********************]  1 of 1 completed\n",
      "[*********************100%%**********************]  1 of 1 completed\n"
     ]
    },
    {
     "name": "stderr",
     "output_type": "stream",
     "text": [
      "C:\\Users\\Rohan Sheth\\AppData\\Local\\Temp\\ipykernel_6076\\223551119.py:10: PerformanceWarning: DataFrame is highly fragmented.  This is usually the result of calling `frame.insert` many times, which has poor performance.  Consider joining all columns at once using pd.concat(axis=1) instead. To get a de-fragmented frame, use `newframe = frame.copy()`\n",
      "  close_prices_df[symbol] = temp_df['Close']          #select only one column from df\n"
     ]
    },
    {
     "name": "stdout",
     "output_type": "stream",
     "text": [
      "[*********************100%%**********************]  1 of 1 completed\n"
     ]
    },
    {
     "name": "stderr",
     "output_type": "stream",
     "text": [
      "C:\\Users\\Rohan Sheth\\AppData\\Local\\Temp\\ipykernel_6076\\223551119.py:10: PerformanceWarning: DataFrame is highly fragmented.  This is usually the result of calling `frame.insert` many times, which has poor performance.  Consider joining all columns at once using pd.concat(axis=1) instead. To get a de-fragmented frame, use `newframe = frame.copy()`\n",
      "  close_prices_df[symbol] = temp_df['Close']          #select only one column from df\n"
     ]
    },
    {
     "name": "stdout",
     "output_type": "stream",
     "text": [
      "[*********************100%%**********************]  1 of 1 completed\n"
     ]
    },
    {
     "name": "stderr",
     "output_type": "stream",
     "text": [
      "C:\\Users\\Rohan Sheth\\AppData\\Local\\Temp\\ipykernel_6076\\223551119.py:10: PerformanceWarning: DataFrame is highly fragmented.  This is usually the result of calling `frame.insert` many times, which has poor performance.  Consider joining all columns at once using pd.concat(axis=1) instead. To get a de-fragmented frame, use `newframe = frame.copy()`\n",
      "  close_prices_df[symbol] = temp_df['Close']          #select only one column from df\n"
     ]
    },
    {
     "name": "stdout",
     "output_type": "stream",
     "text": [
      "[*********************100%%**********************]  1 of 1 completed\n"
     ]
    },
    {
     "name": "stderr",
     "output_type": "stream",
     "text": [
      "C:\\Users\\Rohan Sheth\\AppData\\Local\\Temp\\ipykernel_6076\\223551119.py:10: PerformanceWarning: DataFrame is highly fragmented.  This is usually the result of calling `frame.insert` many times, which has poor performance.  Consider joining all columns at once using pd.concat(axis=1) instead. To get a de-fragmented frame, use `newframe = frame.copy()`\n",
      "  close_prices_df[symbol] = temp_df['Close']          #select only one column from df\n"
     ]
    },
    {
     "name": "stdout",
     "output_type": "stream",
     "text": [
      "[*********************100%%**********************]  1 of 1 completed\n"
     ]
    },
    {
     "name": "stderr",
     "output_type": "stream",
     "text": [
      "C:\\Users\\Rohan Sheth\\AppData\\Local\\Temp\\ipykernel_6076\\223551119.py:10: PerformanceWarning: DataFrame is highly fragmented.  This is usually the result of calling `frame.insert` many times, which has poor performance.  Consider joining all columns at once using pd.concat(axis=1) instead. To get a de-fragmented frame, use `newframe = frame.copy()`\n",
      "  close_prices_df[symbol] = temp_df['Close']          #select only one column from df\n"
     ]
    },
    {
     "name": "stdout",
     "output_type": "stream",
     "text": [
      "[*********************100%%**********************]  1 of 1 completed\n"
     ]
    },
    {
     "name": "stderr",
     "output_type": "stream",
     "text": [
      "C:\\Users\\Rohan Sheth\\AppData\\Local\\Temp\\ipykernel_6076\\223551119.py:10: PerformanceWarning: DataFrame is highly fragmented.  This is usually the result of calling `frame.insert` many times, which has poor performance.  Consider joining all columns at once using pd.concat(axis=1) instead. To get a de-fragmented frame, use `newframe = frame.copy()`\n",
      "  close_prices_df[symbol] = temp_df['Close']          #select only one column from df\n"
     ]
    },
    {
     "name": "stdout",
     "output_type": "stream",
     "text": [
      "[*********************100%%**********************]  1 of 1 completed\n"
     ]
    },
    {
     "name": "stderr",
     "output_type": "stream",
     "text": [
      "C:\\Users\\Rohan Sheth\\AppData\\Local\\Temp\\ipykernel_6076\\223551119.py:10: PerformanceWarning: DataFrame is highly fragmented.  This is usually the result of calling `frame.insert` many times, which has poor performance.  Consider joining all columns at once using pd.concat(axis=1) instead. To get a de-fragmented frame, use `newframe = frame.copy()`\n",
      "  close_prices_df[symbol] = temp_df['Close']          #select only one column from df\n"
     ]
    },
    {
     "name": "stdout",
     "output_type": "stream",
     "text": [
      "[*********************100%%**********************]  1 of 1 completed\n"
     ]
    },
    {
     "name": "stderr",
     "output_type": "stream",
     "text": [
      "C:\\Users\\Rohan Sheth\\AppData\\Local\\Temp\\ipykernel_6076\\223551119.py:10: PerformanceWarning: DataFrame is highly fragmented.  This is usually the result of calling `frame.insert` many times, which has poor performance.  Consider joining all columns at once using pd.concat(axis=1) instead. To get a de-fragmented frame, use `newframe = frame.copy()`\n",
      "  close_prices_df[symbol] = temp_df['Close']          #select only one column from df\n"
     ]
    },
    {
     "name": "stdout",
     "output_type": "stream",
     "text": [
      "[*********************100%%**********************]  1 of 1 completed\n"
     ]
    },
    {
     "name": "stderr",
     "output_type": "stream",
     "text": [
      "C:\\Users\\Rohan Sheth\\AppData\\Local\\Temp\\ipykernel_6076\\223551119.py:10: PerformanceWarning: DataFrame is highly fragmented.  This is usually the result of calling `frame.insert` many times, which has poor performance.  Consider joining all columns at once using pd.concat(axis=1) instead. To get a de-fragmented frame, use `newframe = frame.copy()`\n",
      "  close_prices_df[symbol] = temp_df['Close']          #select only one column from df\n"
     ]
    },
    {
     "name": "stdout",
     "output_type": "stream",
     "text": [
      "[*********************100%%**********************]  1 of 1 completed\n"
     ]
    },
    {
     "name": "stderr",
     "output_type": "stream",
     "text": [
      "C:\\Users\\Rohan Sheth\\AppData\\Local\\Temp\\ipykernel_6076\\223551119.py:10: PerformanceWarning: DataFrame is highly fragmented.  This is usually the result of calling `frame.insert` many times, which has poor performance.  Consider joining all columns at once using pd.concat(axis=1) instead. To get a de-fragmented frame, use `newframe = frame.copy()`\n",
      "  close_prices_df[symbol] = temp_df['Close']          #select only one column from df\n"
     ]
    },
    {
     "name": "stdout",
     "output_type": "stream",
     "text": [
      "[*********************100%%**********************]  1 of 1 completed\n"
     ]
    },
    {
     "name": "stderr",
     "output_type": "stream",
     "text": [
      "C:\\Users\\Rohan Sheth\\AppData\\Local\\Temp\\ipykernel_6076\\223551119.py:10: PerformanceWarning: DataFrame is highly fragmented.  This is usually the result of calling `frame.insert` many times, which has poor performance.  Consider joining all columns at once using pd.concat(axis=1) instead. To get a de-fragmented frame, use `newframe = frame.copy()`\n",
      "  close_prices_df[symbol] = temp_df['Close']          #select only one column from df\n"
     ]
    },
    {
     "name": "stdout",
     "output_type": "stream",
     "text": [
      "[*********************100%%**********************]  1 of 1 completed\n"
     ]
    },
    {
     "name": "stderr",
     "output_type": "stream",
     "text": [
      "C:\\Users\\Rohan Sheth\\AppData\\Local\\Temp\\ipykernel_6076\\223551119.py:10: PerformanceWarning: DataFrame is highly fragmented.  This is usually the result of calling `frame.insert` many times, which has poor performance.  Consider joining all columns at once using pd.concat(axis=1) instead. To get a de-fragmented frame, use `newframe = frame.copy()`\n",
      "  close_prices_df[symbol] = temp_df['Close']          #select only one column from df\n"
     ]
    },
    {
     "name": "stdout",
     "output_type": "stream",
     "text": [
      "[*********************100%%**********************]  1 of 1 completed\n"
     ]
    },
    {
     "name": "stderr",
     "output_type": "stream",
     "text": [
      "C:\\Users\\Rohan Sheth\\AppData\\Local\\Temp\\ipykernel_6076\\223551119.py:10: PerformanceWarning: DataFrame is highly fragmented.  This is usually the result of calling `frame.insert` many times, which has poor performance.  Consider joining all columns at once using pd.concat(axis=1) instead. To get a de-fragmented frame, use `newframe = frame.copy()`\n",
      "  close_prices_df[symbol] = temp_df['Close']          #select only one column from df\n"
     ]
    },
    {
     "name": "stdout",
     "output_type": "stream",
     "text": [
      "[*********************100%%**********************]  1 of 1 completed\n"
     ]
    },
    {
     "name": "stderr",
     "output_type": "stream",
     "text": [
      "C:\\Users\\Rohan Sheth\\AppData\\Local\\Temp\\ipykernel_6076\\223551119.py:10: PerformanceWarning: DataFrame is highly fragmented.  This is usually the result of calling `frame.insert` many times, which has poor performance.  Consider joining all columns at once using pd.concat(axis=1) instead. To get a de-fragmented frame, use `newframe = frame.copy()`\n",
      "  close_prices_df[symbol] = temp_df['Close']          #select only one column from df\n"
     ]
    },
    {
     "name": "stdout",
     "output_type": "stream",
     "text": [
      "[*********************100%%**********************]  1 of 1 completed\n"
     ]
    },
    {
     "name": "stderr",
     "output_type": "stream",
     "text": [
      "C:\\Users\\Rohan Sheth\\AppData\\Local\\Temp\\ipykernel_6076\\223551119.py:10: PerformanceWarning: DataFrame is highly fragmented.  This is usually the result of calling `frame.insert` many times, which has poor performance.  Consider joining all columns at once using pd.concat(axis=1) instead. To get a de-fragmented frame, use `newframe = frame.copy()`\n",
      "  close_prices_df[symbol] = temp_df['Close']          #select only one column from df\n"
     ]
    },
    {
     "name": "stdout",
     "output_type": "stream",
     "text": [
      "[*********************100%%**********************]  1 of 1 completed\n"
     ]
    },
    {
     "name": "stderr",
     "output_type": "stream",
     "text": [
      "C:\\Users\\Rohan Sheth\\AppData\\Local\\Temp\\ipykernel_6076\\223551119.py:10: PerformanceWarning: DataFrame is highly fragmented.  This is usually the result of calling `frame.insert` many times, which has poor performance.  Consider joining all columns at once using pd.concat(axis=1) instead. To get a de-fragmented frame, use `newframe = frame.copy()`\n",
      "  close_prices_df[symbol] = temp_df['Close']          #select only one column from df\n"
     ]
    },
    {
     "name": "stdout",
     "output_type": "stream",
     "text": [
      "[*********************100%%**********************]  1 of 1 completed\n"
     ]
    },
    {
     "name": "stderr",
     "output_type": "stream",
     "text": [
      "C:\\Users\\Rohan Sheth\\AppData\\Local\\Temp\\ipykernel_6076\\223551119.py:10: PerformanceWarning: DataFrame is highly fragmented.  This is usually the result of calling `frame.insert` many times, which has poor performance.  Consider joining all columns at once using pd.concat(axis=1) instead. To get a de-fragmented frame, use `newframe = frame.copy()`\n",
      "  close_prices_df[symbol] = temp_df['Close']          #select only one column from df\n"
     ]
    },
    {
     "name": "stdout",
     "output_type": "stream",
     "text": [
      "[*********************100%%**********************]  1 of 1 completed\n"
     ]
    },
    {
     "name": "stderr",
     "output_type": "stream",
     "text": [
      "C:\\Users\\Rohan Sheth\\AppData\\Local\\Temp\\ipykernel_6076\\223551119.py:10: PerformanceWarning: DataFrame is highly fragmented.  This is usually the result of calling `frame.insert` many times, which has poor performance.  Consider joining all columns at once using pd.concat(axis=1) instead. To get a de-fragmented frame, use `newframe = frame.copy()`\n",
      "  close_prices_df[symbol] = temp_df['Close']          #select only one column from df\n"
     ]
    },
    {
     "name": "stdout",
     "output_type": "stream",
     "text": [
      "[*********************100%%**********************]  1 of 1 completed\n"
     ]
    },
    {
     "name": "stderr",
     "output_type": "stream",
     "text": [
      "C:\\Users\\Rohan Sheth\\AppData\\Local\\Temp\\ipykernel_6076\\223551119.py:10: PerformanceWarning: DataFrame is highly fragmented.  This is usually the result of calling `frame.insert` many times, which has poor performance.  Consider joining all columns at once using pd.concat(axis=1) instead. To get a de-fragmented frame, use `newframe = frame.copy()`\n",
      "  close_prices_df[symbol] = temp_df['Close']          #select only one column from df\n"
     ]
    },
    {
     "name": "stdout",
     "output_type": "stream",
     "text": [
      "[*********************100%%**********************]  1 of 1 completed\n"
     ]
    },
    {
     "name": "stderr",
     "output_type": "stream",
     "text": [
      "C:\\Users\\Rohan Sheth\\AppData\\Local\\Temp\\ipykernel_6076\\223551119.py:10: PerformanceWarning: DataFrame is highly fragmented.  This is usually the result of calling `frame.insert` many times, which has poor performance.  Consider joining all columns at once using pd.concat(axis=1) instead. To get a de-fragmented frame, use `newframe = frame.copy()`\n",
      "  close_prices_df[symbol] = temp_df['Close']          #select only one column from df\n"
     ]
    },
    {
     "name": "stdout",
     "output_type": "stream",
     "text": [
      "[*********************100%%**********************]  1 of 1 completed\n"
     ]
    },
    {
     "name": "stderr",
     "output_type": "stream",
     "text": [
      "C:\\Users\\Rohan Sheth\\AppData\\Local\\Temp\\ipykernel_6076\\223551119.py:10: PerformanceWarning: DataFrame is highly fragmented.  This is usually the result of calling `frame.insert` many times, which has poor performance.  Consider joining all columns at once using pd.concat(axis=1) instead. To get a de-fragmented frame, use `newframe = frame.copy()`\n",
      "  close_prices_df[symbol] = temp_df['Close']          #select only one column from df\n"
     ]
    },
    {
     "name": "stdout",
     "output_type": "stream",
     "text": [
      "[*********************100%%**********************]  1 of 1 completed\n"
     ]
    },
    {
     "name": "stderr",
     "output_type": "stream",
     "text": [
      "C:\\Users\\Rohan Sheth\\AppData\\Local\\Temp\\ipykernel_6076\\223551119.py:10: PerformanceWarning: DataFrame is highly fragmented.  This is usually the result of calling `frame.insert` many times, which has poor performance.  Consider joining all columns at once using pd.concat(axis=1) instead. To get a de-fragmented frame, use `newframe = frame.copy()`\n",
      "  close_prices_df[symbol] = temp_df['Close']          #select only one column from df\n"
     ]
    },
    {
     "name": "stdout",
     "output_type": "stream",
     "text": [
      "[*********************100%%**********************]  1 of 1 completed\n"
     ]
    },
    {
     "name": "stderr",
     "output_type": "stream",
     "text": [
      "C:\\Users\\Rohan Sheth\\AppData\\Local\\Temp\\ipykernel_6076\\223551119.py:10: PerformanceWarning: DataFrame is highly fragmented.  This is usually the result of calling `frame.insert` many times, which has poor performance.  Consider joining all columns at once using pd.concat(axis=1) instead. To get a de-fragmented frame, use `newframe = frame.copy()`\n",
      "  close_prices_df[symbol] = temp_df['Close']          #select only one column from df\n"
     ]
    },
    {
     "name": "stdout",
     "output_type": "stream",
     "text": [
      "[*********************100%%**********************]  1 of 1 completed\n"
     ]
    },
    {
     "name": "stderr",
     "output_type": "stream",
     "text": [
      "C:\\Users\\Rohan Sheth\\AppData\\Local\\Temp\\ipykernel_6076\\223551119.py:10: PerformanceWarning: DataFrame is highly fragmented.  This is usually the result of calling `frame.insert` many times, which has poor performance.  Consider joining all columns at once using pd.concat(axis=1) instead. To get a de-fragmented frame, use `newframe = frame.copy()`\n",
      "  close_prices_df[symbol] = temp_df['Close']          #select only one column from df\n"
     ]
    },
    {
     "name": "stdout",
     "output_type": "stream",
     "text": [
      "[*********************100%%**********************]  1 of 1 completed\n"
     ]
    },
    {
     "name": "stderr",
     "output_type": "stream",
     "text": [
      "C:\\Users\\Rohan Sheth\\AppData\\Local\\Temp\\ipykernel_6076\\223551119.py:10: PerformanceWarning: DataFrame is highly fragmented.  This is usually the result of calling `frame.insert` many times, which has poor performance.  Consider joining all columns at once using pd.concat(axis=1) instead. To get a de-fragmented frame, use `newframe = frame.copy()`\n",
      "  close_prices_df[symbol] = temp_df['Close']          #select only one column from df\n"
     ]
    },
    {
     "name": "stdout",
     "output_type": "stream",
     "text": [
      "[*********************100%%**********************]  1 of 1 completed\n"
     ]
    },
    {
     "name": "stderr",
     "output_type": "stream",
     "text": [
      "C:\\Users\\Rohan Sheth\\AppData\\Local\\Temp\\ipykernel_6076\\223551119.py:10: PerformanceWarning: DataFrame is highly fragmented.  This is usually the result of calling `frame.insert` many times, which has poor performance.  Consider joining all columns at once using pd.concat(axis=1) instead. To get a de-fragmented frame, use `newframe = frame.copy()`\n",
      "  close_prices_df[symbol] = temp_df['Close']          #select only one column from df\n"
     ]
    },
    {
     "name": "stdout",
     "output_type": "stream",
     "text": [
      "[*********************100%%**********************]  1 of 1 completed\n"
     ]
    },
    {
     "name": "stderr",
     "output_type": "stream",
     "text": [
      "C:\\Users\\Rohan Sheth\\AppData\\Local\\Temp\\ipykernel_6076\\223551119.py:10: PerformanceWarning: DataFrame is highly fragmented.  This is usually the result of calling `frame.insert` many times, which has poor performance.  Consider joining all columns at once using pd.concat(axis=1) instead. To get a de-fragmented frame, use `newframe = frame.copy()`\n",
      "  close_prices_df[symbol] = temp_df['Close']          #select only one column from df\n"
     ]
    },
    {
     "name": "stdout",
     "output_type": "stream",
     "text": [
      "[*********************100%%**********************]  1 of 1 completed\n"
     ]
    },
    {
     "name": "stderr",
     "output_type": "stream",
     "text": [
      "C:\\Users\\Rohan Sheth\\AppData\\Local\\Temp\\ipykernel_6076\\223551119.py:10: PerformanceWarning: DataFrame is highly fragmented.  This is usually the result of calling `frame.insert` many times, which has poor performance.  Consider joining all columns at once using pd.concat(axis=1) instead. To get a de-fragmented frame, use `newframe = frame.copy()`\n",
      "  close_prices_df[symbol] = temp_df['Close']          #select only one column from df\n"
     ]
    },
    {
     "name": "stdout",
     "output_type": "stream",
     "text": [
      "[*********************100%%**********************]  1 of 1 completed\n"
     ]
    },
    {
     "name": "stderr",
     "output_type": "stream",
     "text": [
      "C:\\Users\\Rohan Sheth\\AppData\\Local\\Temp\\ipykernel_6076\\223551119.py:10: PerformanceWarning: DataFrame is highly fragmented.  This is usually the result of calling `frame.insert` many times, which has poor performance.  Consider joining all columns at once using pd.concat(axis=1) instead. To get a de-fragmented frame, use `newframe = frame.copy()`\n",
      "  close_prices_df[symbol] = temp_df['Close']          #select only one column from df\n"
     ]
    },
    {
     "name": "stdout",
     "output_type": "stream",
     "text": [
      "[*********************100%%**********************]  1 of 1 completed\n"
     ]
    },
    {
     "name": "stderr",
     "output_type": "stream",
     "text": [
      "C:\\Users\\Rohan Sheth\\AppData\\Local\\Temp\\ipykernel_6076\\223551119.py:10: PerformanceWarning: DataFrame is highly fragmented.  This is usually the result of calling `frame.insert` many times, which has poor performance.  Consider joining all columns at once using pd.concat(axis=1) instead. To get a de-fragmented frame, use `newframe = frame.copy()`\n",
      "  close_prices_df[symbol] = temp_df['Close']          #select only one column from df\n"
     ]
    },
    {
     "name": "stdout",
     "output_type": "stream",
     "text": [
      "[*********************100%%**********************]  1 of 1 completed\n"
     ]
    },
    {
     "name": "stderr",
     "output_type": "stream",
     "text": [
      "C:\\Users\\Rohan Sheth\\AppData\\Local\\Temp\\ipykernel_6076\\223551119.py:10: PerformanceWarning: DataFrame is highly fragmented.  This is usually the result of calling `frame.insert` many times, which has poor performance.  Consider joining all columns at once using pd.concat(axis=1) instead. To get a de-fragmented frame, use `newframe = frame.copy()`\n",
      "  close_prices_df[symbol] = temp_df['Close']          #select only one column from df\n"
     ]
    },
    {
     "name": "stdout",
     "output_type": "stream",
     "text": [
      "[*********************100%%**********************]  1 of 1 completed\n"
     ]
    },
    {
     "name": "stderr",
     "output_type": "stream",
     "text": [
      "C:\\Users\\Rohan Sheth\\AppData\\Local\\Temp\\ipykernel_6076\\223551119.py:10: PerformanceWarning: DataFrame is highly fragmented.  This is usually the result of calling `frame.insert` many times, which has poor performance.  Consider joining all columns at once using pd.concat(axis=1) instead. To get a de-fragmented frame, use `newframe = frame.copy()`\n",
      "  close_prices_df[symbol] = temp_df['Close']          #select only one column from df\n"
     ]
    },
    {
     "name": "stdout",
     "output_type": "stream",
     "text": [
      "[*********************100%%**********************]  1 of 1 completed\n"
     ]
    },
    {
     "name": "stderr",
     "output_type": "stream",
     "text": [
      "C:\\Users\\Rohan Sheth\\AppData\\Local\\Temp\\ipykernel_6076\\223551119.py:10: PerformanceWarning: DataFrame is highly fragmented.  This is usually the result of calling `frame.insert` many times, which has poor performance.  Consider joining all columns at once using pd.concat(axis=1) instead. To get a de-fragmented frame, use `newframe = frame.copy()`\n",
      "  close_prices_df[symbol] = temp_df['Close']          #select only one column from df\n"
     ]
    },
    {
     "name": "stdout",
     "output_type": "stream",
     "text": [
      "[*********************100%%**********************]  1 of 1 completed\n"
     ]
    },
    {
     "name": "stderr",
     "output_type": "stream",
     "text": [
      "C:\\Users\\Rohan Sheth\\AppData\\Local\\Temp\\ipykernel_6076\\223551119.py:10: PerformanceWarning: DataFrame is highly fragmented.  This is usually the result of calling `frame.insert` many times, which has poor performance.  Consider joining all columns at once using pd.concat(axis=1) instead. To get a de-fragmented frame, use `newframe = frame.copy()`\n",
      "  close_prices_df[symbol] = temp_df['Close']          #select only one column from df\n"
     ]
    },
    {
     "name": "stdout",
     "output_type": "stream",
     "text": [
      "[*********************100%%**********************]  1 of 1 completed\n"
     ]
    },
    {
     "name": "stderr",
     "output_type": "stream",
     "text": [
      "C:\\Users\\Rohan Sheth\\AppData\\Local\\Temp\\ipykernel_6076\\223551119.py:10: PerformanceWarning: DataFrame is highly fragmented.  This is usually the result of calling `frame.insert` many times, which has poor performance.  Consider joining all columns at once using pd.concat(axis=1) instead. To get a de-fragmented frame, use `newframe = frame.copy()`\n",
      "  close_prices_df[symbol] = temp_df['Close']          #select only one column from df\n"
     ]
    },
    {
     "name": "stdout",
     "output_type": "stream",
     "text": [
      "[*********************100%%**********************]  1 of 1 completed\n"
     ]
    },
    {
     "name": "stderr",
     "output_type": "stream",
     "text": [
      "C:\\Users\\Rohan Sheth\\AppData\\Local\\Temp\\ipykernel_6076\\223551119.py:10: PerformanceWarning: DataFrame is highly fragmented.  This is usually the result of calling `frame.insert` many times, which has poor performance.  Consider joining all columns at once using pd.concat(axis=1) instead. To get a de-fragmented frame, use `newframe = frame.copy()`\n",
      "  close_prices_df[symbol] = temp_df['Close']          #select only one column from df\n"
     ]
    },
    {
     "name": "stdout",
     "output_type": "stream",
     "text": [
      "[*********************100%%**********************]  1 of 1 completed\n"
     ]
    },
    {
     "name": "stderr",
     "output_type": "stream",
     "text": [
      "C:\\Users\\Rohan Sheth\\AppData\\Local\\Temp\\ipykernel_6076\\223551119.py:10: PerformanceWarning: DataFrame is highly fragmented.  This is usually the result of calling `frame.insert` many times, which has poor performance.  Consider joining all columns at once using pd.concat(axis=1) instead. To get a de-fragmented frame, use `newframe = frame.copy()`\n",
      "  close_prices_df[symbol] = temp_df['Close']          #select only one column from df\n"
     ]
    },
    {
     "name": "stdout",
     "output_type": "stream",
     "text": [
      "[*********************100%%**********************]  1 of 1 completed\n"
     ]
    },
    {
     "name": "stderr",
     "output_type": "stream",
     "text": [
      "C:\\Users\\Rohan Sheth\\AppData\\Local\\Temp\\ipykernel_6076\\223551119.py:10: PerformanceWarning: DataFrame is highly fragmented.  This is usually the result of calling `frame.insert` many times, which has poor performance.  Consider joining all columns at once using pd.concat(axis=1) instead. To get a de-fragmented frame, use `newframe = frame.copy()`\n",
      "  close_prices_df[symbol] = temp_df['Close']          #select only one column from df\n"
     ]
    },
    {
     "name": "stdout",
     "output_type": "stream",
     "text": [
      "[*********************100%%**********************]  1 of 1 completed\n"
     ]
    },
    {
     "name": "stderr",
     "output_type": "stream",
     "text": [
      "C:\\Users\\Rohan Sheth\\AppData\\Local\\Temp\\ipykernel_6076\\223551119.py:10: PerformanceWarning: DataFrame is highly fragmented.  This is usually the result of calling `frame.insert` many times, which has poor performance.  Consider joining all columns at once using pd.concat(axis=1) instead. To get a de-fragmented frame, use `newframe = frame.copy()`\n",
      "  close_prices_df[symbol] = temp_df['Close']          #select only one column from df\n"
     ]
    },
    {
     "name": "stdout",
     "output_type": "stream",
     "text": [
      "[*********************100%%**********************]  1 of 1 completed\n"
     ]
    },
    {
     "name": "stderr",
     "output_type": "stream",
     "text": [
      "C:\\Users\\Rohan Sheth\\AppData\\Local\\Temp\\ipykernel_6076\\223551119.py:10: PerformanceWarning: DataFrame is highly fragmented.  This is usually the result of calling `frame.insert` many times, which has poor performance.  Consider joining all columns at once using pd.concat(axis=1) instead. To get a de-fragmented frame, use `newframe = frame.copy()`\n",
      "  close_prices_df[symbol] = temp_df['Close']          #select only one column from df\n"
     ]
    },
    {
     "name": "stdout",
     "output_type": "stream",
     "text": [
      "[*********************100%%**********************]  1 of 1 completed\n"
     ]
    },
    {
     "name": "stderr",
     "output_type": "stream",
     "text": [
      "C:\\Users\\Rohan Sheth\\AppData\\Local\\Temp\\ipykernel_6076\\223551119.py:10: PerformanceWarning: DataFrame is highly fragmented.  This is usually the result of calling `frame.insert` many times, which has poor performance.  Consider joining all columns at once using pd.concat(axis=1) instead. To get a de-fragmented frame, use `newframe = frame.copy()`\n",
      "  close_prices_df[symbol] = temp_df['Close']          #select only one column from df\n"
     ]
    },
    {
     "name": "stdout",
     "output_type": "stream",
     "text": [
      "[*********************100%%**********************]  1 of 1 completed\n"
     ]
    },
    {
     "name": "stderr",
     "output_type": "stream",
     "text": [
      "C:\\Users\\Rohan Sheth\\AppData\\Local\\Temp\\ipykernel_6076\\223551119.py:10: PerformanceWarning: DataFrame is highly fragmented.  This is usually the result of calling `frame.insert` many times, which has poor performance.  Consider joining all columns at once using pd.concat(axis=1) instead. To get a de-fragmented frame, use `newframe = frame.copy()`\n",
      "  close_prices_df[symbol] = temp_df['Close']          #select only one column from df\n"
     ]
    },
    {
     "name": "stdout",
     "output_type": "stream",
     "text": [
      "[*********************100%%**********************]  1 of 1 completed\n"
     ]
    },
    {
     "name": "stderr",
     "output_type": "stream",
     "text": [
      "C:\\Users\\Rohan Sheth\\AppData\\Local\\Temp\\ipykernel_6076\\223551119.py:10: PerformanceWarning: DataFrame is highly fragmented.  This is usually the result of calling `frame.insert` many times, which has poor performance.  Consider joining all columns at once using pd.concat(axis=1) instead. To get a de-fragmented frame, use `newframe = frame.copy()`\n",
      "  close_prices_df[symbol] = temp_df['Close']          #select only one column from df\n"
     ]
    },
    {
     "name": "stdout",
     "output_type": "stream",
     "text": [
      "[*********************100%%**********************]  1 of 1 completed\n"
     ]
    },
    {
     "name": "stderr",
     "output_type": "stream",
     "text": [
      "C:\\Users\\Rohan Sheth\\AppData\\Local\\Temp\\ipykernel_6076\\223551119.py:10: PerformanceWarning: DataFrame is highly fragmented.  This is usually the result of calling `frame.insert` many times, which has poor performance.  Consider joining all columns at once using pd.concat(axis=1) instead. To get a de-fragmented frame, use `newframe = frame.copy()`\n",
      "  close_prices_df[symbol] = temp_df['Close']          #select only one column from df\n"
     ]
    },
    {
     "name": "stdout",
     "output_type": "stream",
     "text": [
      "[*********************100%%**********************]  1 of 1 completed\n"
     ]
    },
    {
     "name": "stderr",
     "output_type": "stream",
     "text": [
      "C:\\Users\\Rohan Sheth\\AppData\\Local\\Temp\\ipykernel_6076\\223551119.py:10: PerformanceWarning: DataFrame is highly fragmented.  This is usually the result of calling `frame.insert` many times, which has poor performance.  Consider joining all columns at once using pd.concat(axis=1) instead. To get a de-fragmented frame, use `newframe = frame.copy()`\n",
      "  close_prices_df[symbol] = temp_df['Close']          #select only one column from df\n"
     ]
    },
    {
     "name": "stdout",
     "output_type": "stream",
     "text": [
      "[*********************100%%**********************]  1 of 1 completed\n"
     ]
    },
    {
     "name": "stderr",
     "output_type": "stream",
     "text": [
      "C:\\Users\\Rohan Sheth\\AppData\\Local\\Temp\\ipykernel_6076\\223551119.py:10: PerformanceWarning: DataFrame is highly fragmented.  This is usually the result of calling `frame.insert` many times, which has poor performance.  Consider joining all columns at once using pd.concat(axis=1) instead. To get a de-fragmented frame, use `newframe = frame.copy()`\n",
      "  close_prices_df[symbol] = temp_df['Close']          #select only one column from df\n"
     ]
    },
    {
     "name": "stdout",
     "output_type": "stream",
     "text": [
      "[*********************100%%**********************]  1 of 1 completed\n"
     ]
    },
    {
     "name": "stderr",
     "output_type": "stream",
     "text": [
      "C:\\Users\\Rohan Sheth\\AppData\\Local\\Temp\\ipykernel_6076\\223551119.py:10: PerformanceWarning: DataFrame is highly fragmented.  This is usually the result of calling `frame.insert` many times, which has poor performance.  Consider joining all columns at once using pd.concat(axis=1) instead. To get a de-fragmented frame, use `newframe = frame.copy()`\n",
      "  close_prices_df[symbol] = temp_df['Close']          #select only one column from df\n"
     ]
    },
    {
     "name": "stdout",
     "output_type": "stream",
     "text": [
      "[*********************100%%**********************]  1 of 1 completed\n"
     ]
    },
    {
     "name": "stderr",
     "output_type": "stream",
     "text": [
      "C:\\Users\\Rohan Sheth\\AppData\\Local\\Temp\\ipykernel_6076\\223551119.py:10: PerformanceWarning: DataFrame is highly fragmented.  This is usually the result of calling `frame.insert` many times, which has poor performance.  Consider joining all columns at once using pd.concat(axis=1) instead. To get a de-fragmented frame, use `newframe = frame.copy()`\n",
      "  close_prices_df[symbol] = temp_df['Close']          #select only one column from df\n"
     ]
    },
    {
     "name": "stdout",
     "output_type": "stream",
     "text": [
      "[*********************100%%**********************]  1 of 1 completed\n"
     ]
    },
    {
     "name": "stderr",
     "output_type": "stream",
     "text": [
      "C:\\Users\\Rohan Sheth\\AppData\\Local\\Temp\\ipykernel_6076\\223551119.py:10: PerformanceWarning: DataFrame is highly fragmented.  This is usually the result of calling `frame.insert` many times, which has poor performance.  Consider joining all columns at once using pd.concat(axis=1) instead. To get a de-fragmented frame, use `newframe = frame.copy()`\n",
      "  close_prices_df[symbol] = temp_df['Close']          #select only one column from df\n"
     ]
    },
    {
     "name": "stdout",
     "output_type": "stream",
     "text": [
      "[*********************100%%**********************]  1 of 1 completed\n"
     ]
    },
    {
     "name": "stderr",
     "output_type": "stream",
     "text": [
      "C:\\Users\\Rohan Sheth\\AppData\\Local\\Temp\\ipykernel_6076\\223551119.py:10: PerformanceWarning: DataFrame is highly fragmented.  This is usually the result of calling `frame.insert` many times, which has poor performance.  Consider joining all columns at once using pd.concat(axis=1) instead. To get a de-fragmented frame, use `newframe = frame.copy()`\n",
      "  close_prices_df[symbol] = temp_df['Close']          #select only one column from df\n"
     ]
    },
    {
     "name": "stdout",
     "output_type": "stream",
     "text": [
      "[*********************100%%**********************]  1 of 1 completed\n"
     ]
    },
    {
     "name": "stderr",
     "output_type": "stream",
     "text": [
      "C:\\Users\\Rohan Sheth\\AppData\\Local\\Temp\\ipykernel_6076\\223551119.py:10: PerformanceWarning: DataFrame is highly fragmented.  This is usually the result of calling `frame.insert` many times, which has poor performance.  Consider joining all columns at once using pd.concat(axis=1) instead. To get a de-fragmented frame, use `newframe = frame.copy()`\n",
      "  close_prices_df[symbol] = temp_df['Close']          #select only one column from df\n"
     ]
    },
    {
     "name": "stdout",
     "output_type": "stream",
     "text": [
      "[*********************100%%**********************]  1 of 1 completed\n"
     ]
    },
    {
     "name": "stderr",
     "output_type": "stream",
     "text": [
      "C:\\Users\\Rohan Sheth\\AppData\\Local\\Temp\\ipykernel_6076\\223551119.py:10: PerformanceWarning: DataFrame is highly fragmented.  This is usually the result of calling `frame.insert` many times, which has poor performance.  Consider joining all columns at once using pd.concat(axis=1) instead. To get a de-fragmented frame, use `newframe = frame.copy()`\n",
      "  close_prices_df[symbol] = temp_df['Close']          #select only one column from df\n"
     ]
    },
    {
     "name": "stdout",
     "output_type": "stream",
     "text": [
      "[*********************100%%**********************]  1 of 1 completed\n"
     ]
    },
    {
     "name": "stderr",
     "output_type": "stream",
     "text": [
      "C:\\Users\\Rohan Sheth\\AppData\\Local\\Temp\\ipykernel_6076\\223551119.py:10: PerformanceWarning: DataFrame is highly fragmented.  This is usually the result of calling `frame.insert` many times, which has poor performance.  Consider joining all columns at once using pd.concat(axis=1) instead. To get a de-fragmented frame, use `newframe = frame.copy()`\n",
      "  close_prices_df[symbol] = temp_df['Close']          #select only one column from df\n"
     ]
    },
    {
     "name": "stdout",
     "output_type": "stream",
     "text": [
      "[*********************100%%**********************]  1 of 1 completed\n"
     ]
    },
    {
     "name": "stderr",
     "output_type": "stream",
     "text": [
      "C:\\Users\\Rohan Sheth\\AppData\\Local\\Temp\\ipykernel_6076\\223551119.py:10: PerformanceWarning: DataFrame is highly fragmented.  This is usually the result of calling `frame.insert` many times, which has poor performance.  Consider joining all columns at once using pd.concat(axis=1) instead. To get a de-fragmented frame, use `newframe = frame.copy()`\n",
      "  close_prices_df[symbol] = temp_df['Close']          #select only one column from df\n"
     ]
    },
    {
     "name": "stdout",
     "output_type": "stream",
     "text": [
      "[*********************100%%**********************]  1 of 1 completed\n"
     ]
    },
    {
     "name": "stderr",
     "output_type": "stream",
     "text": [
      "C:\\Users\\Rohan Sheth\\AppData\\Local\\Temp\\ipykernel_6076\\223551119.py:10: PerformanceWarning: DataFrame is highly fragmented.  This is usually the result of calling `frame.insert` many times, which has poor performance.  Consider joining all columns at once using pd.concat(axis=1) instead. To get a de-fragmented frame, use `newframe = frame.copy()`\n",
      "  close_prices_df[symbol] = temp_df['Close']          #select only one column from df\n"
     ]
    },
    {
     "name": "stdout",
     "output_type": "stream",
     "text": [
      "[*********************100%%**********************]  1 of 1 completed\n"
     ]
    },
    {
     "name": "stderr",
     "output_type": "stream",
     "text": [
      "C:\\Users\\Rohan Sheth\\AppData\\Local\\Temp\\ipykernel_6076\\223551119.py:10: PerformanceWarning: DataFrame is highly fragmented.  This is usually the result of calling `frame.insert` many times, which has poor performance.  Consider joining all columns at once using pd.concat(axis=1) instead. To get a de-fragmented frame, use `newframe = frame.copy()`\n",
      "  close_prices_df[symbol] = temp_df['Close']          #select only one column from df\n"
     ]
    },
    {
     "name": "stdout",
     "output_type": "stream",
     "text": [
      "[*********************100%%**********************]  1 of 1 completed\n"
     ]
    },
    {
     "name": "stderr",
     "output_type": "stream",
     "text": [
      "C:\\Users\\Rohan Sheth\\AppData\\Local\\Temp\\ipykernel_6076\\223551119.py:10: PerformanceWarning: DataFrame is highly fragmented.  This is usually the result of calling `frame.insert` many times, which has poor performance.  Consider joining all columns at once using pd.concat(axis=1) instead. To get a de-fragmented frame, use `newframe = frame.copy()`\n",
      "  close_prices_df[symbol] = temp_df['Close']          #select only one column from df\n"
     ]
    },
    {
     "name": "stdout",
     "output_type": "stream",
     "text": [
      "[*********************100%%**********************]  1 of 1 completed\n"
     ]
    },
    {
     "name": "stderr",
     "output_type": "stream",
     "text": [
      "C:\\Users\\Rohan Sheth\\AppData\\Local\\Temp\\ipykernel_6076\\223551119.py:10: PerformanceWarning: DataFrame is highly fragmented.  This is usually the result of calling `frame.insert` many times, which has poor performance.  Consider joining all columns at once using pd.concat(axis=1) instead. To get a de-fragmented frame, use `newframe = frame.copy()`\n",
      "  close_prices_df[symbol] = temp_df['Close']          #select only one column from df\n"
     ]
    },
    {
     "name": "stdout",
     "output_type": "stream",
     "text": [
      "[*********************100%%**********************]  1 of 1 completed\n"
     ]
    },
    {
     "name": "stderr",
     "output_type": "stream",
     "text": [
      "C:\\Users\\Rohan Sheth\\AppData\\Local\\Temp\\ipykernel_6076\\223551119.py:10: PerformanceWarning: DataFrame is highly fragmented.  This is usually the result of calling `frame.insert` many times, which has poor performance.  Consider joining all columns at once using pd.concat(axis=1) instead. To get a de-fragmented frame, use `newframe = frame.copy()`\n",
      "  close_prices_df[symbol] = temp_df['Close']          #select only one column from df\n"
     ]
    },
    {
     "name": "stdout",
     "output_type": "stream",
     "text": [
      "[*********************100%%**********************]  1 of 1 completed\n"
     ]
    },
    {
     "name": "stderr",
     "output_type": "stream",
     "text": [
      "C:\\Users\\Rohan Sheth\\AppData\\Local\\Temp\\ipykernel_6076\\223551119.py:10: PerformanceWarning: DataFrame is highly fragmented.  This is usually the result of calling `frame.insert` many times, which has poor performance.  Consider joining all columns at once using pd.concat(axis=1) instead. To get a de-fragmented frame, use `newframe = frame.copy()`\n",
      "  close_prices_df[symbol] = temp_df['Close']          #select only one column from df\n"
     ]
    },
    {
     "name": "stdout",
     "output_type": "stream",
     "text": [
      "[*********************100%%**********************]  1 of 1 completed\n"
     ]
    },
    {
     "name": "stderr",
     "output_type": "stream",
     "text": [
      "C:\\Users\\Rohan Sheth\\AppData\\Local\\Temp\\ipykernel_6076\\223551119.py:10: PerformanceWarning: DataFrame is highly fragmented.  This is usually the result of calling `frame.insert` many times, which has poor performance.  Consider joining all columns at once using pd.concat(axis=1) instead. To get a de-fragmented frame, use `newframe = frame.copy()`\n",
      "  close_prices_df[symbol] = temp_df['Close']          #select only one column from df\n"
     ]
    },
    {
     "name": "stdout",
     "output_type": "stream",
     "text": [
      "[*********************100%%**********************]  1 of 1 completed\n"
     ]
    },
    {
     "name": "stderr",
     "output_type": "stream",
     "text": [
      "C:\\Users\\Rohan Sheth\\AppData\\Local\\Temp\\ipykernel_6076\\223551119.py:10: PerformanceWarning: DataFrame is highly fragmented.  This is usually the result of calling `frame.insert` many times, which has poor performance.  Consider joining all columns at once using pd.concat(axis=1) instead. To get a de-fragmented frame, use `newframe = frame.copy()`\n",
      "  close_prices_df[symbol] = temp_df['Close']          #select only one column from df\n"
     ]
    },
    {
     "name": "stdout",
     "output_type": "stream",
     "text": [
      "[*********************100%%**********************]  1 of 1 completed\n"
     ]
    },
    {
     "name": "stderr",
     "output_type": "stream",
     "text": [
      "C:\\Users\\Rohan Sheth\\AppData\\Local\\Temp\\ipykernel_6076\\223551119.py:10: PerformanceWarning: DataFrame is highly fragmented.  This is usually the result of calling `frame.insert` many times, which has poor performance.  Consider joining all columns at once using pd.concat(axis=1) instead. To get a de-fragmented frame, use `newframe = frame.copy()`\n",
      "  close_prices_df[symbol] = temp_df['Close']          #select only one column from df\n"
     ]
    },
    {
     "name": "stdout",
     "output_type": "stream",
     "text": [
      "[*********************100%%**********************]  1 of 1 completed\n"
     ]
    },
    {
     "name": "stderr",
     "output_type": "stream",
     "text": [
      "C:\\Users\\Rohan Sheth\\AppData\\Local\\Temp\\ipykernel_6076\\223551119.py:10: PerformanceWarning: DataFrame is highly fragmented.  This is usually the result of calling `frame.insert` many times, which has poor performance.  Consider joining all columns at once using pd.concat(axis=1) instead. To get a de-fragmented frame, use `newframe = frame.copy()`\n",
      "  close_prices_df[symbol] = temp_df['Close']          #select only one column from df\n"
     ]
    },
    {
     "name": "stdout",
     "output_type": "stream",
     "text": [
      "[*********************100%%**********************]  1 of 1 completed\n"
     ]
    },
    {
     "name": "stderr",
     "output_type": "stream",
     "text": [
      "C:\\Users\\Rohan Sheth\\AppData\\Local\\Temp\\ipykernel_6076\\223551119.py:10: PerformanceWarning: DataFrame is highly fragmented.  This is usually the result of calling `frame.insert` many times, which has poor performance.  Consider joining all columns at once using pd.concat(axis=1) instead. To get a de-fragmented frame, use `newframe = frame.copy()`\n",
      "  close_prices_df[symbol] = temp_df['Close']          #select only one column from df\n"
     ]
    },
    {
     "name": "stdout",
     "output_type": "stream",
     "text": [
      "[*********************100%%**********************]  1 of 1 completed\n"
     ]
    },
    {
     "name": "stderr",
     "output_type": "stream",
     "text": [
      "C:\\Users\\Rohan Sheth\\AppData\\Local\\Temp\\ipykernel_6076\\223551119.py:10: PerformanceWarning: DataFrame is highly fragmented.  This is usually the result of calling `frame.insert` many times, which has poor performance.  Consider joining all columns at once using pd.concat(axis=1) instead. To get a de-fragmented frame, use `newframe = frame.copy()`\n",
      "  close_prices_df[symbol] = temp_df['Close']          #select only one column from df\n"
     ]
    },
    {
     "name": "stdout",
     "output_type": "stream",
     "text": [
      "[*********************100%%**********************]  1 of 1 completed\n"
     ]
    },
    {
     "name": "stderr",
     "output_type": "stream",
     "text": [
      "C:\\Users\\Rohan Sheth\\AppData\\Local\\Temp\\ipykernel_6076\\223551119.py:10: PerformanceWarning: DataFrame is highly fragmented.  This is usually the result of calling `frame.insert` many times, which has poor performance.  Consider joining all columns at once using pd.concat(axis=1) instead. To get a de-fragmented frame, use `newframe = frame.copy()`\n",
      "  close_prices_df[symbol] = temp_df['Close']          #select only one column from df\n"
     ]
    },
    {
     "name": "stdout",
     "output_type": "stream",
     "text": [
      "[*********************100%%**********************]  1 of 1 completed\n"
     ]
    },
    {
     "name": "stderr",
     "output_type": "stream",
     "text": [
      "C:\\Users\\Rohan Sheth\\AppData\\Local\\Temp\\ipykernel_6076\\223551119.py:10: PerformanceWarning: DataFrame is highly fragmented.  This is usually the result of calling `frame.insert` many times, which has poor performance.  Consider joining all columns at once using pd.concat(axis=1) instead. To get a de-fragmented frame, use `newframe = frame.copy()`\n",
      "  close_prices_df[symbol] = temp_df['Close']          #select only one column from df\n"
     ]
    },
    {
     "name": "stdout",
     "output_type": "stream",
     "text": [
      "[*********************100%%**********************]  1 of 1 completed\n"
     ]
    },
    {
     "name": "stderr",
     "output_type": "stream",
     "text": [
      "C:\\Users\\Rohan Sheth\\AppData\\Local\\Temp\\ipykernel_6076\\223551119.py:10: PerformanceWarning: DataFrame is highly fragmented.  This is usually the result of calling `frame.insert` many times, which has poor performance.  Consider joining all columns at once using pd.concat(axis=1) instead. To get a de-fragmented frame, use `newframe = frame.copy()`\n",
      "  close_prices_df[symbol] = temp_df['Close']          #select only one column from df\n"
     ]
    },
    {
     "name": "stdout",
     "output_type": "stream",
     "text": [
      "[*********************100%%**********************]  1 of 1 completed\n"
     ]
    },
    {
     "name": "stderr",
     "output_type": "stream",
     "text": [
      "C:\\Users\\Rohan Sheth\\AppData\\Local\\Temp\\ipykernel_6076\\223551119.py:10: PerformanceWarning: DataFrame is highly fragmented.  This is usually the result of calling `frame.insert` many times, which has poor performance.  Consider joining all columns at once using pd.concat(axis=1) instead. To get a de-fragmented frame, use `newframe = frame.copy()`\n",
      "  close_prices_df[symbol] = temp_df['Close']          #select only one column from df\n"
     ]
    },
    {
     "name": "stdout",
     "output_type": "stream",
     "text": [
      "[*********************100%%**********************]  1 of 1 completed\n"
     ]
    },
    {
     "name": "stderr",
     "output_type": "stream",
     "text": [
      "C:\\Users\\Rohan Sheth\\AppData\\Local\\Temp\\ipykernel_6076\\223551119.py:10: PerformanceWarning: DataFrame is highly fragmented.  This is usually the result of calling `frame.insert` many times, which has poor performance.  Consider joining all columns at once using pd.concat(axis=1) instead. To get a de-fragmented frame, use `newframe = frame.copy()`\n",
      "  close_prices_df[symbol] = temp_df['Close']          #select only one column from df\n"
     ]
    },
    {
     "name": "stdout",
     "output_type": "stream",
     "text": [
      "[*********************100%%**********************]  1 of 1 completed\n"
     ]
    },
    {
     "name": "stderr",
     "output_type": "stream",
     "text": [
      "C:\\Users\\Rohan Sheth\\AppData\\Local\\Temp\\ipykernel_6076\\223551119.py:10: PerformanceWarning: DataFrame is highly fragmented.  This is usually the result of calling `frame.insert` many times, which has poor performance.  Consider joining all columns at once using pd.concat(axis=1) instead. To get a de-fragmented frame, use `newframe = frame.copy()`\n",
      "  close_prices_df[symbol] = temp_df['Close']          #select only one column from df\n"
     ]
    },
    {
     "name": "stdout",
     "output_type": "stream",
     "text": [
      "[*********************100%%**********************]  1 of 1 completed\n"
     ]
    },
    {
     "name": "stderr",
     "output_type": "stream",
     "text": [
      "C:\\Users\\Rohan Sheth\\AppData\\Local\\Temp\\ipykernel_6076\\223551119.py:10: PerformanceWarning: DataFrame is highly fragmented.  This is usually the result of calling `frame.insert` many times, which has poor performance.  Consider joining all columns at once using pd.concat(axis=1) instead. To get a de-fragmented frame, use `newframe = frame.copy()`\n",
      "  close_prices_df[symbol] = temp_df['Close']          #select only one column from df\n"
     ]
    },
    {
     "name": "stdout",
     "output_type": "stream",
     "text": [
      "[*********************100%%**********************]  1 of 1 completed\n"
     ]
    },
    {
     "name": "stderr",
     "output_type": "stream",
     "text": [
      "C:\\Users\\Rohan Sheth\\AppData\\Local\\Temp\\ipykernel_6076\\223551119.py:10: PerformanceWarning: DataFrame is highly fragmented.  This is usually the result of calling `frame.insert` many times, which has poor performance.  Consider joining all columns at once using pd.concat(axis=1) instead. To get a de-fragmented frame, use `newframe = frame.copy()`\n",
      "  close_prices_df[symbol] = temp_df['Close']          #select only one column from df\n"
     ]
    },
    {
     "name": "stdout",
     "output_type": "stream",
     "text": [
      "[*********************100%%**********************]  1 of 1 completed\n"
     ]
    },
    {
     "name": "stderr",
     "output_type": "stream",
     "text": [
      "C:\\Users\\Rohan Sheth\\AppData\\Local\\Temp\\ipykernel_6076\\223551119.py:10: PerformanceWarning: DataFrame is highly fragmented.  This is usually the result of calling `frame.insert` many times, which has poor performance.  Consider joining all columns at once using pd.concat(axis=1) instead. To get a de-fragmented frame, use `newframe = frame.copy()`\n",
      "  close_prices_df[symbol] = temp_df['Close']          #select only one column from df\n"
     ]
    },
    {
     "name": "stdout",
     "output_type": "stream",
     "text": [
      "[*********************100%%**********************]  1 of 1 completed\n"
     ]
    },
    {
     "name": "stderr",
     "output_type": "stream",
     "text": [
      "C:\\Users\\Rohan Sheth\\AppData\\Local\\Temp\\ipykernel_6076\\223551119.py:10: PerformanceWarning: DataFrame is highly fragmented.  This is usually the result of calling `frame.insert` many times, which has poor performance.  Consider joining all columns at once using pd.concat(axis=1) instead. To get a de-fragmented frame, use `newframe = frame.copy()`\n",
      "  close_prices_df[symbol] = temp_df['Close']          #select only one column from df\n"
     ]
    },
    {
     "name": "stdout",
     "output_type": "stream",
     "text": [
      "[*********************100%%**********************]  1 of 1 completed\n"
     ]
    },
    {
     "name": "stderr",
     "output_type": "stream",
     "text": [
      "C:\\Users\\Rohan Sheth\\AppData\\Local\\Temp\\ipykernel_6076\\223551119.py:10: PerformanceWarning: DataFrame is highly fragmented.  This is usually the result of calling `frame.insert` many times, which has poor performance.  Consider joining all columns at once using pd.concat(axis=1) instead. To get a de-fragmented frame, use `newframe = frame.copy()`\n",
      "  close_prices_df[symbol] = temp_df['Close']          #select only one column from df\n"
     ]
    },
    {
     "name": "stdout",
     "output_type": "stream",
     "text": [
      "[*********************100%%**********************]  1 of 1 completed\n"
     ]
    },
    {
     "name": "stderr",
     "output_type": "stream",
     "text": [
      "C:\\Users\\Rohan Sheth\\AppData\\Local\\Temp\\ipykernel_6076\\223551119.py:10: PerformanceWarning: DataFrame is highly fragmented.  This is usually the result of calling `frame.insert` many times, which has poor performance.  Consider joining all columns at once using pd.concat(axis=1) instead. To get a de-fragmented frame, use `newframe = frame.copy()`\n",
      "  close_prices_df[symbol] = temp_df['Close']          #select only one column from df\n"
     ]
    },
    {
     "name": "stdout",
     "output_type": "stream",
     "text": [
      "[*********************100%%**********************]  1 of 1 completed\n"
     ]
    },
    {
     "name": "stderr",
     "output_type": "stream",
     "text": [
      "C:\\Users\\Rohan Sheth\\AppData\\Local\\Temp\\ipykernel_6076\\223551119.py:10: PerformanceWarning: DataFrame is highly fragmented.  This is usually the result of calling `frame.insert` many times, which has poor performance.  Consider joining all columns at once using pd.concat(axis=1) instead. To get a de-fragmented frame, use `newframe = frame.copy()`\n",
      "  close_prices_df[symbol] = temp_df['Close']          #select only one column from df\n"
     ]
    },
    {
     "name": "stdout",
     "output_type": "stream",
     "text": [
      "[*********************100%%**********************]  1 of 1 completed\n"
     ]
    },
    {
     "name": "stderr",
     "output_type": "stream",
     "text": [
      "C:\\Users\\Rohan Sheth\\AppData\\Local\\Temp\\ipykernel_6076\\223551119.py:10: PerformanceWarning: DataFrame is highly fragmented.  This is usually the result of calling `frame.insert` many times, which has poor performance.  Consider joining all columns at once using pd.concat(axis=1) instead. To get a de-fragmented frame, use `newframe = frame.copy()`\n",
      "  close_prices_df[symbol] = temp_df['Close']          #select only one column from df\n"
     ]
    },
    {
     "name": "stdout",
     "output_type": "stream",
     "text": [
      "[*********************100%%**********************]  1 of 1 completed\n"
     ]
    },
    {
     "name": "stderr",
     "output_type": "stream",
     "text": [
      "C:\\Users\\Rohan Sheth\\AppData\\Local\\Temp\\ipykernel_6076\\223551119.py:10: PerformanceWarning: DataFrame is highly fragmented.  This is usually the result of calling `frame.insert` many times, which has poor performance.  Consider joining all columns at once using pd.concat(axis=1) instead. To get a de-fragmented frame, use `newframe = frame.copy()`\n",
      "  close_prices_df[symbol] = temp_df['Close']          #select only one column from df\n"
     ]
    },
    {
     "name": "stdout",
     "output_type": "stream",
     "text": [
      "[*********************100%%**********************]  1 of 1 completed\n"
     ]
    },
    {
     "name": "stderr",
     "output_type": "stream",
     "text": [
      "C:\\Users\\Rohan Sheth\\AppData\\Local\\Temp\\ipykernel_6076\\223551119.py:10: PerformanceWarning: DataFrame is highly fragmented.  This is usually the result of calling `frame.insert` many times, which has poor performance.  Consider joining all columns at once using pd.concat(axis=1) instead. To get a de-fragmented frame, use `newframe = frame.copy()`\n",
      "  close_prices_df[symbol] = temp_df['Close']          #select only one column from df\n"
     ]
    },
    {
     "name": "stdout",
     "output_type": "stream",
     "text": [
      "[*********************100%%**********************]  1 of 1 completed\n"
     ]
    },
    {
     "name": "stderr",
     "output_type": "stream",
     "text": [
      "C:\\Users\\Rohan Sheth\\AppData\\Local\\Temp\\ipykernel_6076\\223551119.py:10: PerformanceWarning: DataFrame is highly fragmented.  This is usually the result of calling `frame.insert` many times, which has poor performance.  Consider joining all columns at once using pd.concat(axis=1) instead. To get a de-fragmented frame, use `newframe = frame.copy()`\n",
      "  close_prices_df[symbol] = temp_df['Close']          #select only one column from df\n"
     ]
    },
    {
     "name": "stdout",
     "output_type": "stream",
     "text": [
      "[*********************100%%**********************]  1 of 1 completed\n"
     ]
    },
    {
     "name": "stderr",
     "output_type": "stream",
     "text": [
      "C:\\Users\\Rohan Sheth\\AppData\\Local\\Temp\\ipykernel_6076\\223551119.py:10: PerformanceWarning: DataFrame is highly fragmented.  This is usually the result of calling `frame.insert` many times, which has poor performance.  Consider joining all columns at once using pd.concat(axis=1) instead. To get a de-fragmented frame, use `newframe = frame.copy()`\n",
      "  close_prices_df[symbol] = temp_df['Close']          #select only one column from df\n"
     ]
    },
    {
     "name": "stdout",
     "output_type": "stream",
     "text": [
      "[*********************100%%**********************]  1 of 1 completed\n"
     ]
    },
    {
     "name": "stderr",
     "output_type": "stream",
     "text": [
      "C:\\Users\\Rohan Sheth\\AppData\\Local\\Temp\\ipykernel_6076\\223551119.py:10: PerformanceWarning: DataFrame is highly fragmented.  This is usually the result of calling `frame.insert` many times, which has poor performance.  Consider joining all columns at once using pd.concat(axis=1) instead. To get a de-fragmented frame, use `newframe = frame.copy()`\n",
      "  close_prices_df[symbol] = temp_df['Close']          #select only one column from df\n"
     ]
    },
    {
     "name": "stdout",
     "output_type": "stream",
     "text": [
      "[*********************100%%**********************]  1 of 1 completed\n"
     ]
    },
    {
     "name": "stderr",
     "output_type": "stream",
     "text": [
      "C:\\Users\\Rohan Sheth\\AppData\\Local\\Temp\\ipykernel_6076\\223551119.py:10: PerformanceWarning: DataFrame is highly fragmented.  This is usually the result of calling `frame.insert` many times, which has poor performance.  Consider joining all columns at once using pd.concat(axis=1) instead. To get a de-fragmented frame, use `newframe = frame.copy()`\n",
      "  close_prices_df[symbol] = temp_df['Close']          #select only one column from df\n"
     ]
    },
    {
     "name": "stdout",
     "output_type": "stream",
     "text": [
      "[*********************100%%**********************]  1 of 1 completed\n"
     ]
    },
    {
     "name": "stderr",
     "output_type": "stream",
     "text": [
      "C:\\Users\\Rohan Sheth\\AppData\\Local\\Temp\\ipykernel_6076\\223551119.py:10: PerformanceWarning: DataFrame is highly fragmented.  This is usually the result of calling `frame.insert` many times, which has poor performance.  Consider joining all columns at once using pd.concat(axis=1) instead. To get a de-fragmented frame, use `newframe = frame.copy()`\n",
      "  close_prices_df[symbol] = temp_df['Close']          #select only one column from df\n"
     ]
    },
    {
     "name": "stdout",
     "output_type": "stream",
     "text": [
      "[*********************100%%**********************]  1 of 1 completed\n"
     ]
    },
    {
     "name": "stderr",
     "output_type": "stream",
     "text": [
      "C:\\Users\\Rohan Sheth\\AppData\\Local\\Temp\\ipykernel_6076\\223551119.py:10: PerformanceWarning: DataFrame is highly fragmented.  This is usually the result of calling `frame.insert` many times, which has poor performance.  Consider joining all columns at once using pd.concat(axis=1) instead. To get a de-fragmented frame, use `newframe = frame.copy()`\n",
      "  close_prices_df[symbol] = temp_df['Close']          #select only one column from df\n"
     ]
    },
    {
     "name": "stdout",
     "output_type": "stream",
     "text": [
      "[*********************100%%**********************]  1 of 1 completed\n"
     ]
    },
    {
     "name": "stderr",
     "output_type": "stream",
     "text": [
      "C:\\Users\\Rohan Sheth\\AppData\\Local\\Temp\\ipykernel_6076\\223551119.py:10: PerformanceWarning: DataFrame is highly fragmented.  This is usually the result of calling `frame.insert` many times, which has poor performance.  Consider joining all columns at once using pd.concat(axis=1) instead. To get a de-fragmented frame, use `newframe = frame.copy()`\n",
      "  close_prices_df[symbol] = temp_df['Close']          #select only one column from df\n"
     ]
    },
    {
     "name": "stdout",
     "output_type": "stream",
     "text": [
      "[*********************100%%**********************]  1 of 1 completed\n"
     ]
    },
    {
     "name": "stderr",
     "output_type": "stream",
     "text": [
      "C:\\Users\\Rohan Sheth\\AppData\\Local\\Temp\\ipykernel_6076\\223551119.py:10: PerformanceWarning: DataFrame is highly fragmented.  This is usually the result of calling `frame.insert` many times, which has poor performance.  Consider joining all columns at once using pd.concat(axis=1) instead. To get a de-fragmented frame, use `newframe = frame.copy()`\n",
      "  close_prices_df[symbol] = temp_df['Close']          #select only one column from df\n"
     ]
    },
    {
     "name": "stdout",
     "output_type": "stream",
     "text": [
      "[*********************100%%**********************]  1 of 1 completed\n"
     ]
    },
    {
     "name": "stderr",
     "output_type": "stream",
     "text": [
      "C:\\Users\\Rohan Sheth\\AppData\\Local\\Temp\\ipykernel_6076\\223551119.py:10: PerformanceWarning: DataFrame is highly fragmented.  This is usually the result of calling `frame.insert` many times, which has poor performance.  Consider joining all columns at once using pd.concat(axis=1) instead. To get a de-fragmented frame, use `newframe = frame.copy()`\n",
      "  close_prices_df[symbol] = temp_df['Close']          #select only one column from df\n"
     ]
    },
    {
     "name": "stdout",
     "output_type": "stream",
     "text": [
      "[*********************100%%**********************]  1 of 1 completed\n"
     ]
    },
    {
     "name": "stderr",
     "output_type": "stream",
     "text": [
      "C:\\Users\\Rohan Sheth\\AppData\\Local\\Temp\\ipykernel_6076\\223551119.py:10: PerformanceWarning: DataFrame is highly fragmented.  This is usually the result of calling `frame.insert` many times, which has poor performance.  Consider joining all columns at once using pd.concat(axis=1) instead. To get a de-fragmented frame, use `newframe = frame.copy()`\n",
      "  close_prices_df[symbol] = temp_df['Close']          #select only one column from df\n"
     ]
    },
    {
     "name": "stdout",
     "output_type": "stream",
     "text": [
      "[*********************100%%**********************]  1 of 1 completed\n"
     ]
    },
    {
     "name": "stderr",
     "output_type": "stream",
     "text": [
      "C:\\Users\\Rohan Sheth\\AppData\\Local\\Temp\\ipykernel_6076\\223551119.py:10: PerformanceWarning: DataFrame is highly fragmented.  This is usually the result of calling `frame.insert` many times, which has poor performance.  Consider joining all columns at once using pd.concat(axis=1) instead. To get a de-fragmented frame, use `newframe = frame.copy()`\n",
      "  close_prices_df[symbol] = temp_df['Close']          #select only one column from df\n"
     ]
    },
    {
     "name": "stdout",
     "output_type": "stream",
     "text": [
      "[*********************100%%**********************]  1 of 1 completed\n"
     ]
    },
    {
     "name": "stderr",
     "output_type": "stream",
     "text": [
      "C:\\Users\\Rohan Sheth\\AppData\\Local\\Temp\\ipykernel_6076\\223551119.py:10: PerformanceWarning: DataFrame is highly fragmented.  This is usually the result of calling `frame.insert` many times, which has poor performance.  Consider joining all columns at once using pd.concat(axis=1) instead. To get a de-fragmented frame, use `newframe = frame.copy()`\n",
      "  close_prices_df[symbol] = temp_df['Close']          #select only one column from df\n"
     ]
    },
    {
     "name": "stdout",
     "output_type": "stream",
     "text": [
      "[*********************100%%**********************]  1 of 1 completed\n"
     ]
    },
    {
     "name": "stderr",
     "output_type": "stream",
     "text": [
      "C:\\Users\\Rohan Sheth\\AppData\\Local\\Temp\\ipykernel_6076\\223551119.py:10: PerformanceWarning: DataFrame is highly fragmented.  This is usually the result of calling `frame.insert` many times, which has poor performance.  Consider joining all columns at once using pd.concat(axis=1) instead. To get a de-fragmented frame, use `newframe = frame.copy()`\n",
      "  close_prices_df[symbol] = temp_df['Close']          #select only one column from df\n"
     ]
    },
    {
     "name": "stdout",
     "output_type": "stream",
     "text": [
      "[*********************100%%**********************]  1 of 1 completed\n"
     ]
    },
    {
     "name": "stderr",
     "output_type": "stream",
     "text": [
      "C:\\Users\\Rohan Sheth\\AppData\\Local\\Temp\\ipykernel_6076\\223551119.py:10: PerformanceWarning: DataFrame is highly fragmented.  This is usually the result of calling `frame.insert` many times, which has poor performance.  Consider joining all columns at once using pd.concat(axis=1) instead. To get a de-fragmented frame, use `newframe = frame.copy()`\n",
      "  close_prices_df[symbol] = temp_df['Close']          #select only one column from df\n"
     ]
    },
    {
     "name": "stdout",
     "output_type": "stream",
     "text": [
      "[*********************100%%**********************]  1 of 1 completed\n"
     ]
    },
    {
     "name": "stderr",
     "output_type": "stream",
     "text": [
      "C:\\Users\\Rohan Sheth\\AppData\\Local\\Temp\\ipykernel_6076\\223551119.py:10: PerformanceWarning: DataFrame is highly fragmented.  This is usually the result of calling `frame.insert` many times, which has poor performance.  Consider joining all columns at once using pd.concat(axis=1) instead. To get a de-fragmented frame, use `newframe = frame.copy()`\n",
      "  close_prices_df[symbol] = temp_df['Close']          #select only one column from df\n"
     ]
    },
    {
     "name": "stdout",
     "output_type": "stream",
     "text": [
      "[*********************100%%**********************]  1 of 1 completed\n"
     ]
    },
    {
     "name": "stderr",
     "output_type": "stream",
     "text": [
      "C:\\Users\\Rohan Sheth\\AppData\\Local\\Temp\\ipykernel_6076\\223551119.py:10: PerformanceWarning: DataFrame is highly fragmented.  This is usually the result of calling `frame.insert` many times, which has poor performance.  Consider joining all columns at once using pd.concat(axis=1) instead. To get a de-fragmented frame, use `newframe = frame.copy()`\n",
      "  close_prices_df[symbol] = temp_df['Close']          #select only one column from df\n"
     ]
    },
    {
     "name": "stdout",
     "output_type": "stream",
     "text": [
      "[*********************100%%**********************]  1 of 1 completed\n"
     ]
    },
    {
     "name": "stderr",
     "output_type": "stream",
     "text": [
      "C:\\Users\\Rohan Sheth\\AppData\\Local\\Temp\\ipykernel_6076\\223551119.py:10: PerformanceWarning: DataFrame is highly fragmented.  This is usually the result of calling `frame.insert` many times, which has poor performance.  Consider joining all columns at once using pd.concat(axis=1) instead. To get a de-fragmented frame, use `newframe = frame.copy()`\n",
      "  close_prices_df[symbol] = temp_df['Close']          #select only one column from df\n"
     ]
    },
    {
     "name": "stdout",
     "output_type": "stream",
     "text": [
      "[*********************100%%**********************]  1 of 1 completed\n"
     ]
    },
    {
     "name": "stderr",
     "output_type": "stream",
     "text": [
      "C:\\Users\\Rohan Sheth\\AppData\\Local\\Temp\\ipykernel_6076\\223551119.py:10: PerformanceWarning: DataFrame is highly fragmented.  This is usually the result of calling `frame.insert` many times, which has poor performance.  Consider joining all columns at once using pd.concat(axis=1) instead. To get a de-fragmented frame, use `newframe = frame.copy()`\n",
      "  close_prices_df[symbol] = temp_df['Close']          #select only one column from df\n"
     ]
    },
    {
     "name": "stdout",
     "output_type": "stream",
     "text": [
      "[*********************100%%**********************]  1 of 1 completed\n"
     ]
    },
    {
     "name": "stderr",
     "output_type": "stream",
     "text": [
      "C:\\Users\\Rohan Sheth\\AppData\\Local\\Temp\\ipykernel_6076\\223551119.py:10: PerformanceWarning: DataFrame is highly fragmented.  This is usually the result of calling `frame.insert` many times, which has poor performance.  Consider joining all columns at once using pd.concat(axis=1) instead. To get a de-fragmented frame, use `newframe = frame.copy()`\n",
      "  close_prices_df[symbol] = temp_df['Close']          #select only one column from df\n"
     ]
    },
    {
     "name": "stdout",
     "output_type": "stream",
     "text": [
      "[*********************100%%**********************]  1 of 1 completed\n"
     ]
    },
    {
     "name": "stderr",
     "output_type": "stream",
     "text": [
      "C:\\Users\\Rohan Sheth\\AppData\\Local\\Temp\\ipykernel_6076\\223551119.py:10: PerformanceWarning: DataFrame is highly fragmented.  This is usually the result of calling `frame.insert` many times, which has poor performance.  Consider joining all columns at once using pd.concat(axis=1) instead. To get a de-fragmented frame, use `newframe = frame.copy()`\n",
      "  close_prices_df[symbol] = temp_df['Close']          #select only one column from df\n"
     ]
    },
    {
     "name": "stdout",
     "output_type": "stream",
     "text": [
      "[*********************100%%**********************]  1 of 1 completed\n"
     ]
    },
    {
     "name": "stderr",
     "output_type": "stream",
     "text": [
      "C:\\Users\\Rohan Sheth\\AppData\\Local\\Temp\\ipykernel_6076\\223551119.py:10: PerformanceWarning: DataFrame is highly fragmented.  This is usually the result of calling `frame.insert` many times, which has poor performance.  Consider joining all columns at once using pd.concat(axis=1) instead. To get a de-fragmented frame, use `newframe = frame.copy()`\n",
      "  close_prices_df[symbol] = temp_df['Close']          #select only one column from df\n"
     ]
    },
    {
     "name": "stdout",
     "output_type": "stream",
     "text": [
      "[*********************100%%**********************]  1 of 1 completed\n"
     ]
    },
    {
     "name": "stderr",
     "output_type": "stream",
     "text": [
      "C:\\Users\\Rohan Sheth\\AppData\\Local\\Temp\\ipykernel_6076\\223551119.py:10: PerformanceWarning: DataFrame is highly fragmented.  This is usually the result of calling `frame.insert` many times, which has poor performance.  Consider joining all columns at once using pd.concat(axis=1) instead. To get a de-fragmented frame, use `newframe = frame.copy()`\n",
      "  close_prices_df[symbol] = temp_df['Close']          #select only one column from df\n"
     ]
    },
    {
     "name": "stdout",
     "output_type": "stream",
     "text": [
      "[*********************100%%**********************]  1 of 1 completed\n"
     ]
    },
    {
     "name": "stderr",
     "output_type": "stream",
     "text": [
      "C:\\Users\\Rohan Sheth\\AppData\\Local\\Temp\\ipykernel_6076\\223551119.py:10: PerformanceWarning: DataFrame is highly fragmented.  This is usually the result of calling `frame.insert` many times, which has poor performance.  Consider joining all columns at once using pd.concat(axis=1) instead. To get a de-fragmented frame, use `newframe = frame.copy()`\n",
      "  close_prices_df[symbol] = temp_df['Close']          #select only one column from df\n"
     ]
    },
    {
     "name": "stdout",
     "output_type": "stream",
     "text": [
      "[*********************100%%**********************]  1 of 1 completed\n"
     ]
    },
    {
     "name": "stderr",
     "output_type": "stream",
     "text": [
      "C:\\Users\\Rohan Sheth\\AppData\\Local\\Temp\\ipykernel_6076\\223551119.py:10: PerformanceWarning: DataFrame is highly fragmented.  This is usually the result of calling `frame.insert` many times, which has poor performance.  Consider joining all columns at once using pd.concat(axis=1) instead. To get a de-fragmented frame, use `newframe = frame.copy()`\n",
      "  close_prices_df[symbol] = temp_df['Close']          #select only one column from df\n"
     ]
    },
    {
     "name": "stdout",
     "output_type": "stream",
     "text": [
      "[*********************100%%**********************]  1 of 1 completed\n"
     ]
    },
    {
     "name": "stderr",
     "output_type": "stream",
     "text": [
      "C:\\Users\\Rohan Sheth\\AppData\\Local\\Temp\\ipykernel_6076\\223551119.py:10: PerformanceWarning: DataFrame is highly fragmented.  This is usually the result of calling `frame.insert` many times, which has poor performance.  Consider joining all columns at once using pd.concat(axis=1) instead. To get a de-fragmented frame, use `newframe = frame.copy()`\n",
      "  close_prices_df[symbol] = temp_df['Close']          #select only one column from df\n"
     ]
    },
    {
     "name": "stdout",
     "output_type": "stream",
     "text": [
      "[*********************100%%**********************]  1 of 1 completed\n"
     ]
    },
    {
     "name": "stderr",
     "output_type": "stream",
     "text": [
      "C:\\Users\\Rohan Sheth\\AppData\\Local\\Temp\\ipykernel_6076\\223551119.py:10: PerformanceWarning: DataFrame is highly fragmented.  This is usually the result of calling `frame.insert` many times, which has poor performance.  Consider joining all columns at once using pd.concat(axis=1) instead. To get a de-fragmented frame, use `newframe = frame.copy()`\n",
      "  close_prices_df[symbol] = temp_df['Close']          #select only one column from df\n"
     ]
    },
    {
     "name": "stdout",
     "output_type": "stream",
     "text": [
      "[*********************100%%**********************]  1 of 1 completed\n"
     ]
    },
    {
     "name": "stderr",
     "output_type": "stream",
     "text": [
      "C:\\Users\\Rohan Sheth\\AppData\\Local\\Temp\\ipykernel_6076\\223551119.py:10: PerformanceWarning: DataFrame is highly fragmented.  This is usually the result of calling `frame.insert` many times, which has poor performance.  Consider joining all columns at once using pd.concat(axis=1) instead. To get a de-fragmented frame, use `newframe = frame.copy()`\n",
      "  close_prices_df[symbol] = temp_df['Close']          #select only one column from df\n"
     ]
    },
    {
     "name": "stdout",
     "output_type": "stream",
     "text": [
      "[*********************100%%**********************]  1 of 1 completed\n"
     ]
    },
    {
     "name": "stderr",
     "output_type": "stream",
     "text": [
      "C:\\Users\\Rohan Sheth\\AppData\\Local\\Temp\\ipykernel_6076\\223551119.py:10: PerformanceWarning: DataFrame is highly fragmented.  This is usually the result of calling `frame.insert` many times, which has poor performance.  Consider joining all columns at once using pd.concat(axis=1) instead. To get a de-fragmented frame, use `newframe = frame.copy()`\n",
      "  close_prices_df[symbol] = temp_df['Close']          #select only one column from df\n"
     ]
    },
    {
     "name": "stdout",
     "output_type": "stream",
     "text": [
      "[*********************100%%**********************]  1 of 1 completed\n"
     ]
    },
    {
     "name": "stderr",
     "output_type": "stream",
     "text": [
      "C:\\Users\\Rohan Sheth\\AppData\\Local\\Temp\\ipykernel_6076\\223551119.py:10: PerformanceWarning: DataFrame is highly fragmented.  This is usually the result of calling `frame.insert` many times, which has poor performance.  Consider joining all columns at once using pd.concat(axis=1) instead. To get a de-fragmented frame, use `newframe = frame.copy()`\n",
      "  close_prices_df[symbol] = temp_df['Close']          #select only one column from df\n"
     ]
    },
    {
     "name": "stdout",
     "output_type": "stream",
     "text": [
      "[*********************100%%**********************]  1 of 1 completed\n"
     ]
    },
    {
     "name": "stderr",
     "output_type": "stream",
     "text": [
      "C:\\Users\\Rohan Sheth\\AppData\\Local\\Temp\\ipykernel_6076\\223551119.py:10: PerformanceWarning: DataFrame is highly fragmented.  This is usually the result of calling `frame.insert` many times, which has poor performance.  Consider joining all columns at once using pd.concat(axis=1) instead. To get a de-fragmented frame, use `newframe = frame.copy()`\n",
      "  close_prices_df[symbol] = temp_df['Close']          #select only one column from df\n"
     ]
    },
    {
     "name": "stdout",
     "output_type": "stream",
     "text": [
      "[*********************100%%**********************]  1 of 1 completed\n"
     ]
    },
    {
     "name": "stderr",
     "output_type": "stream",
     "text": [
      "C:\\Users\\Rohan Sheth\\AppData\\Local\\Temp\\ipykernel_6076\\223551119.py:10: PerformanceWarning: DataFrame is highly fragmented.  This is usually the result of calling `frame.insert` many times, which has poor performance.  Consider joining all columns at once using pd.concat(axis=1) instead. To get a de-fragmented frame, use `newframe = frame.copy()`\n",
      "  close_prices_df[symbol] = temp_df['Close']          #select only one column from df\n"
     ]
    },
    {
     "name": "stdout",
     "output_type": "stream",
     "text": [
      "[*********************100%%**********************]  1 of 1 completed\n"
     ]
    },
    {
     "name": "stderr",
     "output_type": "stream",
     "text": [
      "C:\\Users\\Rohan Sheth\\AppData\\Local\\Temp\\ipykernel_6076\\223551119.py:10: PerformanceWarning: DataFrame is highly fragmented.  This is usually the result of calling `frame.insert` many times, which has poor performance.  Consider joining all columns at once using pd.concat(axis=1) instead. To get a de-fragmented frame, use `newframe = frame.copy()`\n",
      "  close_prices_df[symbol] = temp_df['Close']          #select only one column from df\n"
     ]
    },
    {
     "name": "stdout",
     "output_type": "stream",
     "text": [
      "[*********************100%%**********************]  1 of 1 completed\n"
     ]
    },
    {
     "name": "stderr",
     "output_type": "stream",
     "text": [
      "C:\\Users\\Rohan Sheth\\AppData\\Local\\Temp\\ipykernel_6076\\223551119.py:10: PerformanceWarning: DataFrame is highly fragmented.  This is usually the result of calling `frame.insert` many times, which has poor performance.  Consider joining all columns at once using pd.concat(axis=1) instead. To get a de-fragmented frame, use `newframe = frame.copy()`\n",
      "  close_prices_df[symbol] = temp_df['Close']          #select only one column from df\n"
     ]
    },
    {
     "name": "stdout",
     "output_type": "stream",
     "text": [
      "[*********************100%%**********************]  1 of 1 completed\n"
     ]
    },
    {
     "name": "stderr",
     "output_type": "stream",
     "text": [
      "C:\\Users\\Rohan Sheth\\AppData\\Local\\Temp\\ipykernel_6076\\223551119.py:10: PerformanceWarning: DataFrame is highly fragmented.  This is usually the result of calling `frame.insert` many times, which has poor performance.  Consider joining all columns at once using pd.concat(axis=1) instead. To get a de-fragmented frame, use `newframe = frame.copy()`\n",
      "  close_prices_df[symbol] = temp_df['Close']          #select only one column from df\n"
     ]
    },
    {
     "name": "stdout",
     "output_type": "stream",
     "text": [
      "[*********************100%%**********************]  1 of 1 completed\n"
     ]
    },
    {
     "name": "stderr",
     "output_type": "stream",
     "text": [
      "C:\\Users\\Rohan Sheth\\AppData\\Local\\Temp\\ipykernel_6076\\223551119.py:10: PerformanceWarning: DataFrame is highly fragmented.  This is usually the result of calling `frame.insert` many times, which has poor performance.  Consider joining all columns at once using pd.concat(axis=1) instead. To get a de-fragmented frame, use `newframe = frame.copy()`\n",
      "  close_prices_df[symbol] = temp_df['Close']          #select only one column from df\n"
     ]
    },
    {
     "name": "stdout",
     "output_type": "stream",
     "text": [
      "[*********************100%%**********************]  1 of 1 completed\n"
     ]
    },
    {
     "name": "stderr",
     "output_type": "stream",
     "text": [
      "C:\\Users\\Rohan Sheth\\AppData\\Local\\Temp\\ipykernel_6076\\223551119.py:10: PerformanceWarning: DataFrame is highly fragmented.  This is usually the result of calling `frame.insert` many times, which has poor performance.  Consider joining all columns at once using pd.concat(axis=1) instead. To get a de-fragmented frame, use `newframe = frame.copy()`\n",
      "  close_prices_df[symbol] = temp_df['Close']          #select only one column from df\n"
     ]
    },
    {
     "name": "stdout",
     "output_type": "stream",
     "text": [
      "[*********************100%%**********************]  1 of 1 completed\n"
     ]
    },
    {
     "name": "stderr",
     "output_type": "stream",
     "text": [
      "C:\\Users\\Rohan Sheth\\AppData\\Local\\Temp\\ipykernel_6076\\223551119.py:10: PerformanceWarning: DataFrame is highly fragmented.  This is usually the result of calling `frame.insert` many times, which has poor performance.  Consider joining all columns at once using pd.concat(axis=1) instead. To get a de-fragmented frame, use `newframe = frame.copy()`\n",
      "  close_prices_df[symbol] = temp_df['Close']          #select only one column from df\n"
     ]
    },
    {
     "name": "stdout",
     "output_type": "stream",
     "text": [
      "[*********************100%%**********************]  1 of 1 completed\n"
     ]
    },
    {
     "name": "stderr",
     "output_type": "stream",
     "text": [
      "C:\\Users\\Rohan Sheth\\AppData\\Local\\Temp\\ipykernel_6076\\223551119.py:10: PerformanceWarning: DataFrame is highly fragmented.  This is usually the result of calling `frame.insert` many times, which has poor performance.  Consider joining all columns at once using pd.concat(axis=1) instead. To get a de-fragmented frame, use `newframe = frame.copy()`\n",
      "  close_prices_df[symbol] = temp_df['Close']          #select only one column from df\n"
     ]
    },
    {
     "name": "stdout",
     "output_type": "stream",
     "text": [
      "[*********************100%%**********************]  1 of 1 completed\n"
     ]
    },
    {
     "name": "stderr",
     "output_type": "stream",
     "text": [
      "C:\\Users\\Rohan Sheth\\AppData\\Local\\Temp\\ipykernel_6076\\223551119.py:10: PerformanceWarning: DataFrame is highly fragmented.  This is usually the result of calling `frame.insert` many times, which has poor performance.  Consider joining all columns at once using pd.concat(axis=1) instead. To get a de-fragmented frame, use `newframe = frame.copy()`\n",
      "  close_prices_df[symbol] = temp_df['Close']          #select only one column from df\n"
     ]
    },
    {
     "name": "stdout",
     "output_type": "stream",
     "text": [
      "[*********************100%%**********************]  1 of 1 completed\n"
     ]
    },
    {
     "name": "stderr",
     "output_type": "stream",
     "text": [
      "C:\\Users\\Rohan Sheth\\AppData\\Local\\Temp\\ipykernel_6076\\223551119.py:10: PerformanceWarning: DataFrame is highly fragmented.  This is usually the result of calling `frame.insert` many times, which has poor performance.  Consider joining all columns at once using pd.concat(axis=1) instead. To get a de-fragmented frame, use `newframe = frame.copy()`\n",
      "  close_prices_df[symbol] = temp_df['Close']          #select only one column from df\n"
     ]
    },
    {
     "name": "stdout",
     "output_type": "stream",
     "text": [
      "[*********************100%%**********************]  1 of 1 completed\n"
     ]
    },
    {
     "name": "stderr",
     "output_type": "stream",
     "text": [
      "C:\\Users\\Rohan Sheth\\AppData\\Local\\Temp\\ipykernel_6076\\223551119.py:10: PerformanceWarning: DataFrame is highly fragmented.  This is usually the result of calling `frame.insert` many times, which has poor performance.  Consider joining all columns at once using pd.concat(axis=1) instead. To get a de-fragmented frame, use `newframe = frame.copy()`\n",
      "  close_prices_df[symbol] = temp_df['Close']          #select only one column from df\n"
     ]
    },
    {
     "name": "stdout",
     "output_type": "stream",
     "text": [
      "[*********************100%%**********************]  1 of 1 completed\n"
     ]
    },
    {
     "name": "stderr",
     "output_type": "stream",
     "text": [
      "C:\\Users\\Rohan Sheth\\AppData\\Local\\Temp\\ipykernel_6076\\223551119.py:10: PerformanceWarning: DataFrame is highly fragmented.  This is usually the result of calling `frame.insert` many times, which has poor performance.  Consider joining all columns at once using pd.concat(axis=1) instead. To get a de-fragmented frame, use `newframe = frame.copy()`\n",
      "  close_prices_df[symbol] = temp_df['Close']          #select only one column from df\n"
     ]
    },
    {
     "name": "stdout",
     "output_type": "stream",
     "text": [
      "[*********************100%%**********************]  1 of 1 completed\n"
     ]
    },
    {
     "name": "stderr",
     "output_type": "stream",
     "text": [
      "C:\\Users\\Rohan Sheth\\AppData\\Local\\Temp\\ipykernel_6076\\223551119.py:10: PerformanceWarning: DataFrame is highly fragmented.  This is usually the result of calling `frame.insert` many times, which has poor performance.  Consider joining all columns at once using pd.concat(axis=1) instead. To get a de-fragmented frame, use `newframe = frame.copy()`\n",
      "  close_prices_df[symbol] = temp_df['Close']          #select only one column from df\n"
     ]
    },
    {
     "name": "stdout",
     "output_type": "stream",
     "text": [
      "[*********************100%%**********************]  1 of 1 completed\n"
     ]
    },
    {
     "name": "stderr",
     "output_type": "stream",
     "text": [
      "C:\\Users\\Rohan Sheth\\AppData\\Local\\Temp\\ipykernel_6076\\223551119.py:10: PerformanceWarning: DataFrame is highly fragmented.  This is usually the result of calling `frame.insert` many times, which has poor performance.  Consider joining all columns at once using pd.concat(axis=1) instead. To get a de-fragmented frame, use `newframe = frame.copy()`\n",
      "  close_prices_df[symbol] = temp_df['Close']          #select only one column from df\n"
     ]
    },
    {
     "name": "stdout",
     "output_type": "stream",
     "text": [
      "[*********************100%%**********************]  1 of 1 completed\n"
     ]
    },
    {
     "name": "stderr",
     "output_type": "stream",
     "text": [
      "C:\\Users\\Rohan Sheth\\AppData\\Local\\Temp\\ipykernel_6076\\223551119.py:10: PerformanceWarning: DataFrame is highly fragmented.  This is usually the result of calling `frame.insert` many times, which has poor performance.  Consider joining all columns at once using pd.concat(axis=1) instead. To get a de-fragmented frame, use `newframe = frame.copy()`\n",
      "  close_prices_df[symbol] = temp_df['Close']          #select only one column from df\n"
     ]
    },
    {
     "name": "stdout",
     "output_type": "stream",
     "text": [
      "[*********************100%%**********************]  1 of 1 completed\n"
     ]
    },
    {
     "name": "stderr",
     "output_type": "stream",
     "text": [
      "C:\\Users\\Rohan Sheth\\AppData\\Local\\Temp\\ipykernel_6076\\223551119.py:10: PerformanceWarning: DataFrame is highly fragmented.  This is usually the result of calling `frame.insert` many times, which has poor performance.  Consider joining all columns at once using pd.concat(axis=1) instead. To get a de-fragmented frame, use `newframe = frame.copy()`\n",
      "  close_prices_df[symbol] = temp_df['Close']          #select only one column from df\n"
     ]
    },
    {
     "name": "stdout",
     "output_type": "stream",
     "text": [
      "[*********************100%%**********************]  1 of 1 completed\n"
     ]
    },
    {
     "name": "stderr",
     "output_type": "stream",
     "text": [
      "C:\\Users\\Rohan Sheth\\AppData\\Local\\Temp\\ipykernel_6076\\223551119.py:10: PerformanceWarning: DataFrame is highly fragmented.  This is usually the result of calling `frame.insert` many times, which has poor performance.  Consider joining all columns at once using pd.concat(axis=1) instead. To get a de-fragmented frame, use `newframe = frame.copy()`\n",
      "  close_prices_df[symbol] = temp_df['Close']          #select only one column from df\n"
     ]
    },
    {
     "name": "stdout",
     "output_type": "stream",
     "text": [
      "[*********************100%%**********************]  1 of 1 completed\n"
     ]
    },
    {
     "name": "stderr",
     "output_type": "stream",
     "text": [
      "C:\\Users\\Rohan Sheth\\AppData\\Local\\Temp\\ipykernel_6076\\223551119.py:10: PerformanceWarning: DataFrame is highly fragmented.  This is usually the result of calling `frame.insert` many times, which has poor performance.  Consider joining all columns at once using pd.concat(axis=1) instead. To get a de-fragmented frame, use `newframe = frame.copy()`\n",
      "  close_prices_df[symbol] = temp_df['Close']          #select only one column from df\n"
     ]
    },
    {
     "name": "stdout",
     "output_type": "stream",
     "text": [
      "[*********************100%%**********************]  1 of 1 completed\n"
     ]
    },
    {
     "name": "stderr",
     "output_type": "stream",
     "text": [
      "C:\\Users\\Rohan Sheth\\AppData\\Local\\Temp\\ipykernel_6076\\223551119.py:10: PerformanceWarning: DataFrame is highly fragmented.  This is usually the result of calling `frame.insert` many times, which has poor performance.  Consider joining all columns at once using pd.concat(axis=1) instead. To get a de-fragmented frame, use `newframe = frame.copy()`\n",
      "  close_prices_df[symbol] = temp_df['Close']          #select only one column from df\n"
     ]
    },
    {
     "name": "stdout",
     "output_type": "stream",
     "text": [
      "[*********************100%%**********************]  1 of 1 completed\n"
     ]
    },
    {
     "name": "stderr",
     "output_type": "stream",
     "text": [
      "C:\\Users\\Rohan Sheth\\AppData\\Local\\Temp\\ipykernel_6076\\223551119.py:10: PerformanceWarning: DataFrame is highly fragmented.  This is usually the result of calling `frame.insert` many times, which has poor performance.  Consider joining all columns at once using pd.concat(axis=1) instead. To get a de-fragmented frame, use `newframe = frame.copy()`\n",
      "  close_prices_df[symbol] = temp_df['Close']          #select only one column from df\n"
     ]
    },
    {
     "name": "stdout",
     "output_type": "stream",
     "text": [
      "[*********************100%%**********************]  1 of 1 completed\n"
     ]
    },
    {
     "name": "stderr",
     "output_type": "stream",
     "text": [
      "C:\\Users\\Rohan Sheth\\AppData\\Local\\Temp\\ipykernel_6076\\223551119.py:10: PerformanceWarning: DataFrame is highly fragmented.  This is usually the result of calling `frame.insert` many times, which has poor performance.  Consider joining all columns at once using pd.concat(axis=1) instead. To get a de-fragmented frame, use `newframe = frame.copy()`\n",
      "  close_prices_df[symbol] = temp_df['Close']          #select only one column from df\n"
     ]
    },
    {
     "name": "stdout",
     "output_type": "stream",
     "text": [
      "[*********************100%%**********************]  1 of 1 completed\n"
     ]
    },
    {
     "name": "stderr",
     "output_type": "stream",
     "text": [
      "C:\\Users\\Rohan Sheth\\AppData\\Local\\Temp\\ipykernel_6076\\223551119.py:10: PerformanceWarning: DataFrame is highly fragmented.  This is usually the result of calling `frame.insert` many times, which has poor performance.  Consider joining all columns at once using pd.concat(axis=1) instead. To get a de-fragmented frame, use `newframe = frame.copy()`\n",
      "  close_prices_df[symbol] = temp_df['Close']          #select only one column from df\n"
     ]
    },
    {
     "name": "stdout",
     "output_type": "stream",
     "text": [
      "[*********************100%%**********************]  1 of 1 completed\n"
     ]
    },
    {
     "name": "stderr",
     "output_type": "stream",
     "text": [
      "C:\\Users\\Rohan Sheth\\AppData\\Local\\Temp\\ipykernel_6076\\223551119.py:10: PerformanceWarning: DataFrame is highly fragmented.  This is usually the result of calling `frame.insert` many times, which has poor performance.  Consider joining all columns at once using pd.concat(axis=1) instead. To get a de-fragmented frame, use `newframe = frame.copy()`\n",
      "  close_prices_df[symbol] = temp_df['Close']          #select only one column from df\n"
     ]
    },
    {
     "name": "stdout",
     "output_type": "stream",
     "text": [
      "[*********************100%%**********************]  1 of 1 completed\n"
     ]
    },
    {
     "name": "stderr",
     "output_type": "stream",
     "text": [
      "C:\\Users\\Rohan Sheth\\AppData\\Local\\Temp\\ipykernel_6076\\223551119.py:10: PerformanceWarning: DataFrame is highly fragmented.  This is usually the result of calling `frame.insert` many times, which has poor performance.  Consider joining all columns at once using pd.concat(axis=1) instead. To get a de-fragmented frame, use `newframe = frame.copy()`\n",
      "  close_prices_df[symbol] = temp_df['Close']          #select only one column from df\n"
     ]
    },
    {
     "name": "stdout",
     "output_type": "stream",
     "text": [
      "[*********************100%%**********************]  1 of 1 completed\n"
     ]
    },
    {
     "name": "stderr",
     "output_type": "stream",
     "text": [
      "C:\\Users\\Rohan Sheth\\AppData\\Local\\Temp\\ipykernel_6076\\223551119.py:10: PerformanceWarning: DataFrame is highly fragmented.  This is usually the result of calling `frame.insert` many times, which has poor performance.  Consider joining all columns at once using pd.concat(axis=1) instead. To get a de-fragmented frame, use `newframe = frame.copy()`\n",
      "  close_prices_df[symbol] = temp_df['Close']          #select only one column from df\n"
     ]
    },
    {
     "name": "stdout",
     "output_type": "stream",
     "text": [
      "[*********************100%%**********************]  1 of 1 completed\n"
     ]
    },
    {
     "name": "stderr",
     "output_type": "stream",
     "text": [
      "C:\\Users\\Rohan Sheth\\AppData\\Local\\Temp\\ipykernel_6076\\223551119.py:10: PerformanceWarning: DataFrame is highly fragmented.  This is usually the result of calling `frame.insert` many times, which has poor performance.  Consider joining all columns at once using pd.concat(axis=1) instead. To get a de-fragmented frame, use `newframe = frame.copy()`\n",
      "  close_prices_df[symbol] = temp_df['Close']          #select only one column from df\n"
     ]
    },
    {
     "name": "stdout",
     "output_type": "stream",
     "text": [
      "[*********************100%%**********************]  1 of 1 completed\n"
     ]
    },
    {
     "name": "stderr",
     "output_type": "stream",
     "text": [
      "C:\\Users\\Rohan Sheth\\AppData\\Local\\Temp\\ipykernel_6076\\223551119.py:10: PerformanceWarning: DataFrame is highly fragmented.  This is usually the result of calling `frame.insert` many times, which has poor performance.  Consider joining all columns at once using pd.concat(axis=1) instead. To get a de-fragmented frame, use `newframe = frame.copy()`\n",
      "  close_prices_df[symbol] = temp_df['Close']          #select only one column from df\n"
     ]
    },
    {
     "name": "stdout",
     "output_type": "stream",
     "text": [
      "[*********************100%%**********************]  1 of 1 completed\n"
     ]
    },
    {
     "name": "stderr",
     "output_type": "stream",
     "text": [
      "C:\\Users\\Rohan Sheth\\AppData\\Local\\Temp\\ipykernel_6076\\223551119.py:10: PerformanceWarning: DataFrame is highly fragmented.  This is usually the result of calling `frame.insert` many times, which has poor performance.  Consider joining all columns at once using pd.concat(axis=1) instead. To get a de-fragmented frame, use `newframe = frame.copy()`\n",
      "  close_prices_df[symbol] = temp_df['Close']          #select only one column from df\n"
     ]
    },
    {
     "name": "stdout",
     "output_type": "stream",
     "text": [
      "[*********************100%%**********************]  1 of 1 completed\n"
     ]
    },
    {
     "name": "stderr",
     "output_type": "stream",
     "text": [
      "C:\\Users\\Rohan Sheth\\AppData\\Local\\Temp\\ipykernel_6076\\223551119.py:10: PerformanceWarning: DataFrame is highly fragmented.  This is usually the result of calling `frame.insert` many times, which has poor performance.  Consider joining all columns at once using pd.concat(axis=1) instead. To get a de-fragmented frame, use `newframe = frame.copy()`\n",
      "  close_prices_df[symbol] = temp_df['Close']          #select only one column from df\n"
     ]
    },
    {
     "name": "stdout",
     "output_type": "stream",
     "text": [
      "[*********************100%%**********************]  1 of 1 completed\n"
     ]
    },
    {
     "name": "stderr",
     "output_type": "stream",
     "text": [
      "C:\\Users\\Rohan Sheth\\AppData\\Local\\Temp\\ipykernel_6076\\223551119.py:10: PerformanceWarning: DataFrame is highly fragmented.  This is usually the result of calling `frame.insert` many times, which has poor performance.  Consider joining all columns at once using pd.concat(axis=1) instead. To get a de-fragmented frame, use `newframe = frame.copy()`\n",
      "  close_prices_df[symbol] = temp_df['Close']          #select only one column from df\n"
     ]
    },
    {
     "name": "stdout",
     "output_type": "stream",
     "text": [
      "[*********************100%%**********************]  1 of 1 completed\n"
     ]
    },
    {
     "name": "stderr",
     "output_type": "stream",
     "text": [
      "C:\\Users\\Rohan Sheth\\AppData\\Local\\Temp\\ipykernel_6076\\223551119.py:10: PerformanceWarning: DataFrame is highly fragmented.  This is usually the result of calling `frame.insert` many times, which has poor performance.  Consider joining all columns at once using pd.concat(axis=1) instead. To get a de-fragmented frame, use `newframe = frame.copy()`\n",
      "  close_prices_df[symbol] = temp_df['Close']          #select only one column from df\n"
     ]
    },
    {
     "name": "stdout",
     "output_type": "stream",
     "text": [
      "[*********************100%%**********************]  1 of 1 completed\n"
     ]
    },
    {
     "name": "stderr",
     "output_type": "stream",
     "text": [
      "C:\\Users\\Rohan Sheth\\AppData\\Local\\Temp\\ipykernel_6076\\223551119.py:10: PerformanceWarning: DataFrame is highly fragmented.  This is usually the result of calling `frame.insert` many times, which has poor performance.  Consider joining all columns at once using pd.concat(axis=1) instead. To get a de-fragmented frame, use `newframe = frame.copy()`\n",
      "  close_prices_df[symbol] = temp_df['Close']          #select only one column from df\n"
     ]
    },
    {
     "name": "stdout",
     "output_type": "stream",
     "text": [
      "[*********************100%%**********************]  1 of 1 completed\n"
     ]
    },
    {
     "name": "stderr",
     "output_type": "stream",
     "text": [
      "C:\\Users\\Rohan Sheth\\AppData\\Local\\Temp\\ipykernel_6076\\223551119.py:10: PerformanceWarning: DataFrame is highly fragmented.  This is usually the result of calling `frame.insert` many times, which has poor performance.  Consider joining all columns at once using pd.concat(axis=1) instead. To get a de-fragmented frame, use `newframe = frame.copy()`\n",
      "  close_prices_df[symbol] = temp_df['Close']          #select only one column from df\n"
     ]
    },
    {
     "name": "stdout",
     "output_type": "stream",
     "text": [
      "[*********************100%%**********************]  1 of 1 completed\n"
     ]
    },
    {
     "name": "stderr",
     "output_type": "stream",
     "text": [
      "C:\\Users\\Rohan Sheth\\AppData\\Local\\Temp\\ipykernel_6076\\223551119.py:10: PerformanceWarning: DataFrame is highly fragmented.  This is usually the result of calling `frame.insert` many times, which has poor performance.  Consider joining all columns at once using pd.concat(axis=1) instead. To get a de-fragmented frame, use `newframe = frame.copy()`\n",
      "  close_prices_df[symbol] = temp_df['Close']          #select only one column from df\n"
     ]
    },
    {
     "name": "stdout",
     "output_type": "stream",
     "text": [
      "[*********************100%%**********************]  1 of 1 completed\n"
     ]
    },
    {
     "name": "stderr",
     "output_type": "stream",
     "text": [
      "C:\\Users\\Rohan Sheth\\AppData\\Local\\Temp\\ipykernel_6076\\223551119.py:10: PerformanceWarning: DataFrame is highly fragmented.  This is usually the result of calling `frame.insert` many times, which has poor performance.  Consider joining all columns at once using pd.concat(axis=1) instead. To get a de-fragmented frame, use `newframe = frame.copy()`\n",
      "  close_prices_df[symbol] = temp_df['Close']          #select only one column from df\n"
     ]
    },
    {
     "name": "stdout",
     "output_type": "stream",
     "text": [
      "[*********************100%%**********************]  1 of 1 completed\n"
     ]
    },
    {
     "name": "stderr",
     "output_type": "stream",
     "text": [
      "C:\\Users\\Rohan Sheth\\AppData\\Local\\Temp\\ipykernel_6076\\223551119.py:10: PerformanceWarning: DataFrame is highly fragmented.  This is usually the result of calling `frame.insert` many times, which has poor performance.  Consider joining all columns at once using pd.concat(axis=1) instead. To get a de-fragmented frame, use `newframe = frame.copy()`\n",
      "  close_prices_df[symbol] = temp_df['Close']          #select only one column from df\n"
     ]
    },
    {
     "name": "stdout",
     "output_type": "stream",
     "text": [
      "[*********************100%%**********************]  1 of 1 completed\n"
     ]
    },
    {
     "name": "stderr",
     "output_type": "stream",
     "text": [
      "C:\\Users\\Rohan Sheth\\AppData\\Local\\Temp\\ipykernel_6076\\223551119.py:10: PerformanceWarning: DataFrame is highly fragmented.  This is usually the result of calling `frame.insert` many times, which has poor performance.  Consider joining all columns at once using pd.concat(axis=1) instead. To get a de-fragmented frame, use `newframe = frame.copy()`\n",
      "  close_prices_df[symbol] = temp_df['Close']          #select only one column from df\n"
     ]
    },
    {
     "name": "stdout",
     "output_type": "stream",
     "text": [
      "[*********************100%%**********************]  1 of 1 completed\n"
     ]
    },
    {
     "name": "stderr",
     "output_type": "stream",
     "text": [
      "C:\\Users\\Rohan Sheth\\AppData\\Local\\Temp\\ipykernel_6076\\223551119.py:10: PerformanceWarning: DataFrame is highly fragmented.  This is usually the result of calling `frame.insert` many times, which has poor performance.  Consider joining all columns at once using pd.concat(axis=1) instead. To get a de-fragmented frame, use `newframe = frame.copy()`\n",
      "  close_prices_df[symbol] = temp_df['Close']          #select only one column from df\n"
     ]
    },
    {
     "name": "stdout",
     "output_type": "stream",
     "text": [
      "[*********************100%%**********************]  1 of 1 completed\n"
     ]
    },
    {
     "name": "stderr",
     "output_type": "stream",
     "text": [
      "C:\\Users\\Rohan Sheth\\AppData\\Local\\Temp\\ipykernel_6076\\223551119.py:10: PerformanceWarning: DataFrame is highly fragmented.  This is usually the result of calling `frame.insert` many times, which has poor performance.  Consider joining all columns at once using pd.concat(axis=1) instead. To get a de-fragmented frame, use `newframe = frame.copy()`\n",
      "  close_prices_df[symbol] = temp_df['Close']          #select only one column from df\n"
     ]
    },
    {
     "name": "stdout",
     "output_type": "stream",
     "text": [
      "[*********************100%%**********************]  1 of 1 completed\n"
     ]
    },
    {
     "name": "stderr",
     "output_type": "stream",
     "text": [
      "C:\\Users\\Rohan Sheth\\AppData\\Local\\Temp\\ipykernel_6076\\223551119.py:10: PerformanceWarning: DataFrame is highly fragmented.  This is usually the result of calling `frame.insert` many times, which has poor performance.  Consider joining all columns at once using pd.concat(axis=1) instead. To get a de-fragmented frame, use `newframe = frame.copy()`\n",
      "  close_prices_df[symbol] = temp_df['Close']          #select only one column from df\n"
     ]
    },
    {
     "name": "stdout",
     "output_type": "stream",
     "text": [
      "[*********************100%%**********************]  1 of 1 completed\n"
     ]
    },
    {
     "name": "stderr",
     "output_type": "stream",
     "text": [
      "C:\\Users\\Rohan Sheth\\AppData\\Local\\Temp\\ipykernel_6076\\223551119.py:10: PerformanceWarning: DataFrame is highly fragmented.  This is usually the result of calling `frame.insert` many times, which has poor performance.  Consider joining all columns at once using pd.concat(axis=1) instead. To get a de-fragmented frame, use `newframe = frame.copy()`\n",
      "  close_prices_df[symbol] = temp_df['Close']          #select only one column from df\n"
     ]
    },
    {
     "name": "stdout",
     "output_type": "stream",
     "text": [
      "[*********************100%%**********************]  1 of 1 completed\n"
     ]
    },
    {
     "name": "stderr",
     "output_type": "stream",
     "text": [
      "C:\\Users\\Rohan Sheth\\AppData\\Local\\Temp\\ipykernel_6076\\223551119.py:10: PerformanceWarning: DataFrame is highly fragmented.  This is usually the result of calling `frame.insert` many times, which has poor performance.  Consider joining all columns at once using pd.concat(axis=1) instead. To get a de-fragmented frame, use `newframe = frame.copy()`\n",
      "  close_prices_df[symbol] = temp_df['Close']          #select only one column from df\n"
     ]
    },
    {
     "name": "stdout",
     "output_type": "stream",
     "text": [
      "[*********************100%%**********************]  1 of 1 completed\n"
     ]
    },
    {
     "name": "stderr",
     "output_type": "stream",
     "text": [
      "C:\\Users\\Rohan Sheth\\AppData\\Local\\Temp\\ipykernel_6076\\223551119.py:10: PerformanceWarning: DataFrame is highly fragmented.  This is usually the result of calling `frame.insert` many times, which has poor performance.  Consider joining all columns at once using pd.concat(axis=1) instead. To get a de-fragmented frame, use `newframe = frame.copy()`\n",
      "  close_prices_df[symbol] = temp_df['Close']          #select only one column from df\n"
     ]
    },
    {
     "name": "stdout",
     "output_type": "stream",
     "text": [
      "[*********************100%%**********************]  1 of 1 completed\n"
     ]
    },
    {
     "name": "stderr",
     "output_type": "stream",
     "text": [
      "C:\\Users\\Rohan Sheth\\AppData\\Local\\Temp\\ipykernel_6076\\223551119.py:10: PerformanceWarning: DataFrame is highly fragmented.  This is usually the result of calling `frame.insert` many times, which has poor performance.  Consider joining all columns at once using pd.concat(axis=1) instead. To get a de-fragmented frame, use `newframe = frame.copy()`\n",
      "  close_prices_df[symbol] = temp_df['Close']          #select only one column from df\n"
     ]
    },
    {
     "name": "stdout",
     "output_type": "stream",
     "text": [
      "[*********************100%%**********************]  1 of 1 completed\n"
     ]
    },
    {
     "name": "stderr",
     "output_type": "stream",
     "text": [
      "C:\\Users\\Rohan Sheth\\AppData\\Local\\Temp\\ipykernel_6076\\223551119.py:10: PerformanceWarning: DataFrame is highly fragmented.  This is usually the result of calling `frame.insert` many times, which has poor performance.  Consider joining all columns at once using pd.concat(axis=1) instead. To get a de-fragmented frame, use `newframe = frame.copy()`\n",
      "  close_prices_df[symbol] = temp_df['Close']          #select only one column from df\n"
     ]
    },
    {
     "name": "stdout",
     "output_type": "stream",
     "text": [
      "[*********************100%%**********************]  1 of 1 completed\n"
     ]
    },
    {
     "name": "stderr",
     "output_type": "stream",
     "text": [
      "C:\\Users\\Rohan Sheth\\AppData\\Local\\Temp\\ipykernel_6076\\223551119.py:10: PerformanceWarning: DataFrame is highly fragmented.  This is usually the result of calling `frame.insert` many times, which has poor performance.  Consider joining all columns at once using pd.concat(axis=1) instead. To get a de-fragmented frame, use `newframe = frame.copy()`\n",
      "  close_prices_df[symbol] = temp_df['Close']          #select only one column from df\n"
     ]
    },
    {
     "name": "stdout",
     "output_type": "stream",
     "text": [
      "[*********************100%%**********************]  1 of 1 completed\n"
     ]
    },
    {
     "name": "stderr",
     "output_type": "stream",
     "text": [
      "C:\\Users\\Rohan Sheth\\AppData\\Local\\Temp\\ipykernel_6076\\223551119.py:10: PerformanceWarning: DataFrame is highly fragmented.  This is usually the result of calling `frame.insert` many times, which has poor performance.  Consider joining all columns at once using pd.concat(axis=1) instead. To get a de-fragmented frame, use `newframe = frame.copy()`\n",
      "  close_prices_df[symbol] = temp_df['Close']          #select only one column from df\n"
     ]
    },
    {
     "name": "stdout",
     "output_type": "stream",
     "text": [
      "[*********************100%%**********************]  1 of 1 completed\n"
     ]
    },
    {
     "name": "stderr",
     "output_type": "stream",
     "text": [
      "C:\\Users\\Rohan Sheth\\AppData\\Local\\Temp\\ipykernel_6076\\223551119.py:10: PerformanceWarning: DataFrame is highly fragmented.  This is usually the result of calling `frame.insert` many times, which has poor performance.  Consider joining all columns at once using pd.concat(axis=1) instead. To get a de-fragmented frame, use `newframe = frame.copy()`\n",
      "  close_prices_df[symbol] = temp_df['Close']          #select only one column from df\n"
     ]
    },
    {
     "name": "stdout",
     "output_type": "stream",
     "text": [
      "[*********************100%%**********************]  1 of 1 completed\n"
     ]
    },
    {
     "name": "stderr",
     "output_type": "stream",
     "text": [
      "C:\\Users\\Rohan Sheth\\AppData\\Local\\Temp\\ipykernel_6076\\223551119.py:10: PerformanceWarning: DataFrame is highly fragmented.  This is usually the result of calling `frame.insert` many times, which has poor performance.  Consider joining all columns at once using pd.concat(axis=1) instead. To get a de-fragmented frame, use `newframe = frame.copy()`\n",
      "  close_prices_df[symbol] = temp_df['Close']          #select only one column from df\n"
     ]
    },
    {
     "name": "stdout",
     "output_type": "stream",
     "text": [
      "[*********************100%%**********************]  1 of 1 completed\n"
     ]
    },
    {
     "name": "stderr",
     "output_type": "stream",
     "text": [
      "C:\\Users\\Rohan Sheth\\AppData\\Local\\Temp\\ipykernel_6076\\223551119.py:10: PerformanceWarning: DataFrame is highly fragmented.  This is usually the result of calling `frame.insert` many times, which has poor performance.  Consider joining all columns at once using pd.concat(axis=1) instead. To get a de-fragmented frame, use `newframe = frame.copy()`\n",
      "  close_prices_df[symbol] = temp_df['Close']          #select only one column from df\n"
     ]
    },
    {
     "name": "stdout",
     "output_type": "stream",
     "text": [
      "[*********************100%%**********************]  1 of 1 completed\n"
     ]
    },
    {
     "name": "stderr",
     "output_type": "stream",
     "text": [
      "C:\\Users\\Rohan Sheth\\AppData\\Local\\Temp\\ipykernel_6076\\223551119.py:10: PerformanceWarning: DataFrame is highly fragmented.  This is usually the result of calling `frame.insert` many times, which has poor performance.  Consider joining all columns at once using pd.concat(axis=1) instead. To get a de-fragmented frame, use `newframe = frame.copy()`\n",
      "  close_prices_df[symbol] = temp_df['Close']          #select only one column from df\n"
     ]
    },
    {
     "name": "stdout",
     "output_type": "stream",
     "text": [
      "[*********************100%%**********************]  1 of 1 completed\n"
     ]
    },
    {
     "name": "stderr",
     "output_type": "stream",
     "text": [
      "C:\\Users\\Rohan Sheth\\AppData\\Local\\Temp\\ipykernel_6076\\223551119.py:10: PerformanceWarning: DataFrame is highly fragmented.  This is usually the result of calling `frame.insert` many times, which has poor performance.  Consider joining all columns at once using pd.concat(axis=1) instead. To get a de-fragmented frame, use `newframe = frame.copy()`\n",
      "  close_prices_df[symbol] = temp_df['Close']          #select only one column from df\n"
     ]
    },
    {
     "name": "stdout",
     "output_type": "stream",
     "text": [
      "[*********************100%%**********************]  1 of 1 completed\n"
     ]
    },
    {
     "name": "stderr",
     "output_type": "stream",
     "text": [
      "C:\\Users\\Rohan Sheth\\AppData\\Local\\Temp\\ipykernel_6076\\223551119.py:10: PerformanceWarning: DataFrame is highly fragmented.  This is usually the result of calling `frame.insert` many times, which has poor performance.  Consider joining all columns at once using pd.concat(axis=1) instead. To get a de-fragmented frame, use `newframe = frame.copy()`\n",
      "  close_prices_df[symbol] = temp_df['Close']          #select only one column from df\n"
     ]
    },
    {
     "name": "stdout",
     "output_type": "stream",
     "text": [
      "[*********************100%%**********************]  1 of 1 completed\n"
     ]
    },
    {
     "name": "stderr",
     "output_type": "stream",
     "text": [
      "C:\\Users\\Rohan Sheth\\AppData\\Local\\Temp\\ipykernel_6076\\223551119.py:10: PerformanceWarning: DataFrame is highly fragmented.  This is usually the result of calling `frame.insert` many times, which has poor performance.  Consider joining all columns at once using pd.concat(axis=1) instead. To get a de-fragmented frame, use `newframe = frame.copy()`\n",
      "  close_prices_df[symbol] = temp_df['Close']          #select only one column from df\n"
     ]
    },
    {
     "name": "stdout",
     "output_type": "stream",
     "text": [
      "[*********************100%%**********************]  1 of 1 completed\n"
     ]
    },
    {
     "name": "stderr",
     "output_type": "stream",
     "text": [
      "C:\\Users\\Rohan Sheth\\AppData\\Local\\Temp\\ipykernel_6076\\223551119.py:10: PerformanceWarning: DataFrame is highly fragmented.  This is usually the result of calling `frame.insert` many times, which has poor performance.  Consider joining all columns at once using pd.concat(axis=1) instead. To get a de-fragmented frame, use `newframe = frame.copy()`\n",
      "  close_prices_df[symbol] = temp_df['Close']          #select only one column from df\n"
     ]
    },
    {
     "name": "stdout",
     "output_type": "stream",
     "text": [
      "[*********************100%%**********************]  1 of 1 completed\n"
     ]
    },
    {
     "name": "stderr",
     "output_type": "stream",
     "text": [
      "C:\\Users\\Rohan Sheth\\AppData\\Local\\Temp\\ipykernel_6076\\223551119.py:10: PerformanceWarning: DataFrame is highly fragmented.  This is usually the result of calling `frame.insert` many times, which has poor performance.  Consider joining all columns at once using pd.concat(axis=1) instead. To get a de-fragmented frame, use `newframe = frame.copy()`\n",
      "  close_prices_df[symbol] = temp_df['Close']          #select only one column from df\n"
     ]
    },
    {
     "name": "stdout",
     "output_type": "stream",
     "text": [
      "[*********************100%%**********************]  1 of 1 completed\n"
     ]
    },
    {
     "name": "stderr",
     "output_type": "stream",
     "text": [
      "C:\\Users\\Rohan Sheth\\AppData\\Local\\Temp\\ipykernel_6076\\223551119.py:10: PerformanceWarning: DataFrame is highly fragmented.  This is usually the result of calling `frame.insert` many times, which has poor performance.  Consider joining all columns at once using pd.concat(axis=1) instead. To get a de-fragmented frame, use `newframe = frame.copy()`\n",
      "  close_prices_df[symbol] = temp_df['Close']          #select only one column from df\n"
     ]
    },
    {
     "name": "stdout",
     "output_type": "stream",
     "text": [
      "[*********************100%%**********************]  1 of 1 completed\n"
     ]
    },
    {
     "name": "stderr",
     "output_type": "stream",
     "text": [
      "C:\\Users\\Rohan Sheth\\AppData\\Local\\Temp\\ipykernel_6076\\223551119.py:10: PerformanceWarning: DataFrame is highly fragmented.  This is usually the result of calling `frame.insert` many times, which has poor performance.  Consider joining all columns at once using pd.concat(axis=1) instead. To get a de-fragmented frame, use `newframe = frame.copy()`\n",
      "  close_prices_df[symbol] = temp_df['Close']          #select only one column from df\n"
     ]
    },
    {
     "name": "stdout",
     "output_type": "stream",
     "text": [
      "[*********************100%%**********************]  1 of 1 completed\n"
     ]
    },
    {
     "name": "stderr",
     "output_type": "stream",
     "text": [
      "C:\\Users\\Rohan Sheth\\AppData\\Local\\Temp\\ipykernel_6076\\223551119.py:10: PerformanceWarning: DataFrame is highly fragmented.  This is usually the result of calling `frame.insert` many times, which has poor performance.  Consider joining all columns at once using pd.concat(axis=1) instead. To get a de-fragmented frame, use `newframe = frame.copy()`\n",
      "  close_prices_df[symbol] = temp_df['Close']          #select only one column from df\n"
     ]
    },
    {
     "name": "stdout",
     "output_type": "stream",
     "text": [
      "[*********************100%%**********************]  1 of 1 completed\n"
     ]
    },
    {
     "name": "stderr",
     "output_type": "stream",
     "text": [
      "C:\\Users\\Rohan Sheth\\AppData\\Local\\Temp\\ipykernel_6076\\223551119.py:10: PerformanceWarning: DataFrame is highly fragmented.  This is usually the result of calling `frame.insert` many times, which has poor performance.  Consider joining all columns at once using pd.concat(axis=1) instead. To get a de-fragmented frame, use `newframe = frame.copy()`\n",
      "  close_prices_df[symbol] = temp_df['Close']          #select only one column from df\n"
     ]
    },
    {
     "name": "stdout",
     "output_type": "stream",
     "text": [
      "[*********************100%%**********************]  1 of 1 completed\n"
     ]
    },
    {
     "name": "stderr",
     "output_type": "stream",
     "text": [
      "C:\\Users\\Rohan Sheth\\AppData\\Local\\Temp\\ipykernel_6076\\223551119.py:10: PerformanceWarning: DataFrame is highly fragmented.  This is usually the result of calling `frame.insert` many times, which has poor performance.  Consider joining all columns at once using pd.concat(axis=1) instead. To get a de-fragmented frame, use `newframe = frame.copy()`\n",
      "  close_prices_df[symbol] = temp_df['Close']          #select only one column from df\n"
     ]
    },
    {
     "name": "stdout",
     "output_type": "stream",
     "text": [
      "[*********************100%%**********************]  1 of 1 completed\n"
     ]
    },
    {
     "name": "stderr",
     "output_type": "stream",
     "text": [
      "C:\\Users\\Rohan Sheth\\AppData\\Local\\Temp\\ipykernel_6076\\223551119.py:10: PerformanceWarning: DataFrame is highly fragmented.  This is usually the result of calling `frame.insert` many times, which has poor performance.  Consider joining all columns at once using pd.concat(axis=1) instead. To get a de-fragmented frame, use `newframe = frame.copy()`\n",
      "  close_prices_df[symbol] = temp_df['Close']          #select only one column from df\n"
     ]
    },
    {
     "name": "stdout",
     "output_type": "stream",
     "text": [
      "[*********************100%%**********************]  1 of 1 completed\n"
     ]
    },
    {
     "name": "stderr",
     "output_type": "stream",
     "text": [
      "C:\\Users\\Rohan Sheth\\AppData\\Local\\Temp\\ipykernel_6076\\223551119.py:10: PerformanceWarning: DataFrame is highly fragmented.  This is usually the result of calling `frame.insert` many times, which has poor performance.  Consider joining all columns at once using pd.concat(axis=1) instead. To get a de-fragmented frame, use `newframe = frame.copy()`\n",
      "  close_prices_df[symbol] = temp_df['Close']          #select only one column from df\n"
     ]
    },
    {
     "name": "stdout",
     "output_type": "stream",
     "text": [
      "[*********************100%%**********************]  1 of 1 completed\n"
     ]
    },
    {
     "name": "stderr",
     "output_type": "stream",
     "text": [
      "C:\\Users\\Rohan Sheth\\AppData\\Local\\Temp\\ipykernel_6076\\223551119.py:10: PerformanceWarning: DataFrame is highly fragmented.  This is usually the result of calling `frame.insert` many times, which has poor performance.  Consider joining all columns at once using pd.concat(axis=1) instead. To get a de-fragmented frame, use `newframe = frame.copy()`\n",
      "  close_prices_df[symbol] = temp_df['Close']          #select only one column from df\n"
     ]
    },
    {
     "name": "stdout",
     "output_type": "stream",
     "text": [
      "[*********************100%%**********************]  1 of 1 completed\n"
     ]
    },
    {
     "name": "stderr",
     "output_type": "stream",
     "text": [
      "C:\\Users\\Rohan Sheth\\AppData\\Local\\Temp\\ipykernel_6076\\223551119.py:10: PerformanceWarning: DataFrame is highly fragmented.  This is usually the result of calling `frame.insert` many times, which has poor performance.  Consider joining all columns at once using pd.concat(axis=1) instead. To get a de-fragmented frame, use `newframe = frame.copy()`\n",
      "  close_prices_df[symbol] = temp_df['Close']          #select only one column from df\n"
     ]
    },
    {
     "name": "stdout",
     "output_type": "stream",
     "text": [
      "\r",
      "[*********************100%%**********************]  1 of 1 completed"
     ]
    },
    {
     "name": "stderr",
     "output_type": "stream",
     "text": [
      "\n",
      "1 Failed download:\n",
      "['KOTAKBANK.NS']: Exception('%ticker%: No price data found, symbol may be delisted (1d 1925-03-04 -> 2024-02-08)')\n"
     ]
    },
    {
     "name": "stdout",
     "output_type": "stream",
     "text": [
      "\n"
     ]
    },
    {
     "name": "stderr",
     "output_type": "stream",
     "text": [
      "C:\\Users\\Rohan Sheth\\AppData\\Local\\Temp\\ipykernel_6076\\223551119.py:10: PerformanceWarning: DataFrame is highly fragmented.  This is usually the result of calling `frame.insert` many times, which has poor performance.  Consider joining all columns at once using pd.concat(axis=1) instead. To get a de-fragmented frame, use `newframe = frame.copy()`\n",
      "  close_prices_df[symbol] = temp_df['Close']          #select only one column from df\n"
     ]
    },
    {
     "name": "stdout",
     "output_type": "stream",
     "text": [
      "[*********************100%%**********************]  1 of 1 completed\n"
     ]
    },
    {
     "name": "stderr",
     "output_type": "stream",
     "text": [
      "C:\\Users\\Rohan Sheth\\AppData\\Local\\Temp\\ipykernel_6076\\223551119.py:10: PerformanceWarning: DataFrame is highly fragmented.  This is usually the result of calling `frame.insert` many times, which has poor performance.  Consider joining all columns at once using pd.concat(axis=1) instead. To get a de-fragmented frame, use `newframe = frame.copy()`\n",
      "  close_prices_df[symbol] = temp_df['Close']          #select only one column from df\n"
     ]
    },
    {
     "name": "stdout",
     "output_type": "stream",
     "text": [
      "[*********************100%%**********************]  1 of 1 completed\n"
     ]
    },
    {
     "name": "stderr",
     "output_type": "stream",
     "text": [
      "C:\\Users\\Rohan Sheth\\AppData\\Local\\Temp\\ipykernel_6076\\223551119.py:10: PerformanceWarning: DataFrame is highly fragmented.  This is usually the result of calling `frame.insert` many times, which has poor performance.  Consider joining all columns at once using pd.concat(axis=1) instead. To get a de-fragmented frame, use `newframe = frame.copy()`\n",
      "  close_prices_df[symbol] = temp_df['Close']          #select only one column from df\n"
     ]
    },
    {
     "name": "stdout",
     "output_type": "stream",
     "text": [
      "[*********************100%%**********************]  1 of 1 completed\n"
     ]
    },
    {
     "name": "stderr",
     "output_type": "stream",
     "text": [
      "C:\\Users\\Rohan Sheth\\AppData\\Local\\Temp\\ipykernel_6076\\223551119.py:10: PerformanceWarning: DataFrame is highly fragmented.  This is usually the result of calling `frame.insert` many times, which has poor performance.  Consider joining all columns at once using pd.concat(axis=1) instead. To get a de-fragmented frame, use `newframe = frame.copy()`\n",
      "  close_prices_df[symbol] = temp_df['Close']          #select only one column from df\n"
     ]
    },
    {
     "name": "stdout",
     "output_type": "stream",
     "text": [
      "[*********************100%%**********************]  1 of 1 completed\n"
     ]
    },
    {
     "name": "stderr",
     "output_type": "stream",
     "text": [
      "C:\\Users\\Rohan Sheth\\AppData\\Local\\Temp\\ipykernel_6076\\223551119.py:10: PerformanceWarning: DataFrame is highly fragmented.  This is usually the result of calling `frame.insert` many times, which has poor performance.  Consider joining all columns at once using pd.concat(axis=1) instead. To get a de-fragmented frame, use `newframe = frame.copy()`\n",
      "  close_prices_df[symbol] = temp_df['Close']          #select only one column from df\n"
     ]
    },
    {
     "name": "stdout",
     "output_type": "stream",
     "text": [
      "[*********************100%%**********************]  1 of 1 completed\n"
     ]
    },
    {
     "name": "stderr",
     "output_type": "stream",
     "text": [
      "C:\\Users\\Rohan Sheth\\AppData\\Local\\Temp\\ipykernel_6076\\223551119.py:10: PerformanceWarning: DataFrame is highly fragmented.  This is usually the result of calling `frame.insert` many times, which has poor performance.  Consider joining all columns at once using pd.concat(axis=1) instead. To get a de-fragmented frame, use `newframe = frame.copy()`\n",
      "  close_prices_df[symbol] = temp_df['Close']          #select only one column from df\n"
     ]
    },
    {
     "name": "stdout",
     "output_type": "stream",
     "text": [
      "[*********************100%%**********************]  1 of 1 completed\n"
     ]
    },
    {
     "name": "stderr",
     "output_type": "stream",
     "text": [
      "C:\\Users\\Rohan Sheth\\AppData\\Local\\Temp\\ipykernel_6076\\223551119.py:10: PerformanceWarning: DataFrame is highly fragmented.  This is usually the result of calling `frame.insert` many times, which has poor performance.  Consider joining all columns at once using pd.concat(axis=1) instead. To get a de-fragmented frame, use `newframe = frame.copy()`\n",
      "  close_prices_df[symbol] = temp_df['Close']          #select only one column from df\n"
     ]
    },
    {
     "name": "stdout",
     "output_type": "stream",
     "text": [
      "[*********************100%%**********************]  1 of 1 completed\n"
     ]
    },
    {
     "name": "stderr",
     "output_type": "stream",
     "text": [
      "C:\\Users\\Rohan Sheth\\AppData\\Local\\Temp\\ipykernel_6076\\223551119.py:10: PerformanceWarning: DataFrame is highly fragmented.  This is usually the result of calling `frame.insert` many times, which has poor performance.  Consider joining all columns at once using pd.concat(axis=1) instead. To get a de-fragmented frame, use `newframe = frame.copy()`\n",
      "  close_prices_df[symbol] = temp_df['Close']          #select only one column from df\n"
     ]
    },
    {
     "name": "stdout",
     "output_type": "stream",
     "text": [
      "[*********************100%%**********************]  1 of 1 completed\n"
     ]
    },
    {
     "name": "stderr",
     "output_type": "stream",
     "text": [
      "C:\\Users\\Rohan Sheth\\AppData\\Local\\Temp\\ipykernel_6076\\223551119.py:10: PerformanceWarning: DataFrame is highly fragmented.  This is usually the result of calling `frame.insert` many times, which has poor performance.  Consider joining all columns at once using pd.concat(axis=1) instead. To get a de-fragmented frame, use `newframe = frame.copy()`\n",
      "  close_prices_df[symbol] = temp_df['Close']          #select only one column from df\n"
     ]
    },
    {
     "name": "stdout",
     "output_type": "stream",
     "text": [
      "[*********************100%%**********************]  1 of 1 completed\n"
     ]
    },
    {
     "name": "stderr",
     "output_type": "stream",
     "text": [
      "C:\\Users\\Rohan Sheth\\AppData\\Local\\Temp\\ipykernel_6076\\223551119.py:10: PerformanceWarning: DataFrame is highly fragmented.  This is usually the result of calling `frame.insert` many times, which has poor performance.  Consider joining all columns at once using pd.concat(axis=1) instead. To get a de-fragmented frame, use `newframe = frame.copy()`\n",
      "  close_prices_df[symbol] = temp_df['Close']          #select only one column from df\n"
     ]
    },
    {
     "name": "stdout",
     "output_type": "stream",
     "text": [
      "[*********************100%%**********************]  1 of 1 completed\n"
     ]
    },
    {
     "name": "stderr",
     "output_type": "stream",
     "text": [
      "C:\\Users\\Rohan Sheth\\AppData\\Local\\Temp\\ipykernel_6076\\223551119.py:10: PerformanceWarning: DataFrame is highly fragmented.  This is usually the result of calling `frame.insert` many times, which has poor performance.  Consider joining all columns at once using pd.concat(axis=1) instead. To get a de-fragmented frame, use `newframe = frame.copy()`\n",
      "  close_prices_df[symbol] = temp_df['Close']          #select only one column from df\n"
     ]
    },
    {
     "name": "stdout",
     "output_type": "stream",
     "text": [
      "[*********************100%%**********************]  1 of 1 completed\n"
     ]
    },
    {
     "name": "stderr",
     "output_type": "stream",
     "text": [
      "C:\\Users\\Rohan Sheth\\AppData\\Local\\Temp\\ipykernel_6076\\223551119.py:10: PerformanceWarning: DataFrame is highly fragmented.  This is usually the result of calling `frame.insert` many times, which has poor performance.  Consider joining all columns at once using pd.concat(axis=1) instead. To get a de-fragmented frame, use `newframe = frame.copy()`\n",
      "  close_prices_df[symbol] = temp_df['Close']          #select only one column from df\n"
     ]
    },
    {
     "name": "stdout",
     "output_type": "stream",
     "text": [
      "[*********************100%%**********************]  1 of 1 completed\n"
     ]
    },
    {
     "name": "stderr",
     "output_type": "stream",
     "text": [
      "C:\\Users\\Rohan Sheth\\AppData\\Local\\Temp\\ipykernel_6076\\223551119.py:10: PerformanceWarning: DataFrame is highly fragmented.  This is usually the result of calling `frame.insert` many times, which has poor performance.  Consider joining all columns at once using pd.concat(axis=1) instead. To get a de-fragmented frame, use `newframe = frame.copy()`\n",
      "  close_prices_df[symbol] = temp_df['Close']          #select only one column from df\n"
     ]
    },
    {
     "name": "stdout",
     "output_type": "stream",
     "text": [
      "[*********************100%%**********************]  1 of 1 completed\n"
     ]
    },
    {
     "name": "stderr",
     "output_type": "stream",
     "text": [
      "C:\\Users\\Rohan Sheth\\AppData\\Local\\Temp\\ipykernel_6076\\223551119.py:10: PerformanceWarning: DataFrame is highly fragmented.  This is usually the result of calling `frame.insert` many times, which has poor performance.  Consider joining all columns at once using pd.concat(axis=1) instead. To get a de-fragmented frame, use `newframe = frame.copy()`\n",
      "  close_prices_df[symbol] = temp_df['Close']          #select only one column from df\n"
     ]
    },
    {
     "name": "stdout",
     "output_type": "stream",
     "text": [
      "[*********************100%%**********************]  1 of 1 completed\n"
     ]
    },
    {
     "name": "stderr",
     "output_type": "stream",
     "text": [
      "C:\\Users\\Rohan Sheth\\AppData\\Local\\Temp\\ipykernel_6076\\223551119.py:10: PerformanceWarning: DataFrame is highly fragmented.  This is usually the result of calling `frame.insert` many times, which has poor performance.  Consider joining all columns at once using pd.concat(axis=1) instead. To get a de-fragmented frame, use `newframe = frame.copy()`\n",
      "  close_prices_df[symbol] = temp_df['Close']          #select only one column from df\n"
     ]
    },
    {
     "name": "stdout",
     "output_type": "stream",
     "text": [
      "[*********************100%%**********************]  1 of 1 completed\n"
     ]
    },
    {
     "name": "stderr",
     "output_type": "stream",
     "text": [
      "C:\\Users\\Rohan Sheth\\AppData\\Local\\Temp\\ipykernel_6076\\223551119.py:10: PerformanceWarning: DataFrame is highly fragmented.  This is usually the result of calling `frame.insert` many times, which has poor performance.  Consider joining all columns at once using pd.concat(axis=1) instead. To get a de-fragmented frame, use `newframe = frame.copy()`\n",
      "  close_prices_df[symbol] = temp_df['Close']          #select only one column from df\n"
     ]
    },
    {
     "name": "stdout",
     "output_type": "stream",
     "text": [
      "[*********************100%%**********************]  1 of 1 completed\n"
     ]
    },
    {
     "name": "stderr",
     "output_type": "stream",
     "text": [
      "C:\\Users\\Rohan Sheth\\AppData\\Local\\Temp\\ipykernel_6076\\223551119.py:10: PerformanceWarning: DataFrame is highly fragmented.  This is usually the result of calling `frame.insert` many times, which has poor performance.  Consider joining all columns at once using pd.concat(axis=1) instead. To get a de-fragmented frame, use `newframe = frame.copy()`\n",
      "  close_prices_df[symbol] = temp_df['Close']          #select only one column from df\n"
     ]
    },
    {
     "name": "stdout",
     "output_type": "stream",
     "text": [
      "[*********************100%%**********************]  1 of 1 completed\n"
     ]
    },
    {
     "name": "stderr",
     "output_type": "stream",
     "text": [
      "C:\\Users\\Rohan Sheth\\AppData\\Local\\Temp\\ipykernel_6076\\223551119.py:10: PerformanceWarning: DataFrame is highly fragmented.  This is usually the result of calling `frame.insert` many times, which has poor performance.  Consider joining all columns at once using pd.concat(axis=1) instead. To get a de-fragmented frame, use `newframe = frame.copy()`\n",
      "  close_prices_df[symbol] = temp_df['Close']          #select only one column from df\n"
     ]
    },
    {
     "name": "stdout",
     "output_type": "stream",
     "text": [
      "[*********************100%%**********************]  1 of 1 completed\n"
     ]
    },
    {
     "name": "stderr",
     "output_type": "stream",
     "text": [
      "C:\\Users\\Rohan Sheth\\AppData\\Local\\Temp\\ipykernel_6076\\223551119.py:10: PerformanceWarning: DataFrame is highly fragmented.  This is usually the result of calling `frame.insert` many times, which has poor performance.  Consider joining all columns at once using pd.concat(axis=1) instead. To get a de-fragmented frame, use `newframe = frame.copy()`\n",
      "  close_prices_df[symbol] = temp_df['Close']          #select only one column from df\n"
     ]
    },
    {
     "name": "stdout",
     "output_type": "stream",
     "text": [
      "[*********************100%%**********************]  1 of 1 completed\n"
     ]
    },
    {
     "name": "stderr",
     "output_type": "stream",
     "text": [
      "C:\\Users\\Rohan Sheth\\AppData\\Local\\Temp\\ipykernel_6076\\223551119.py:10: PerformanceWarning: DataFrame is highly fragmented.  This is usually the result of calling `frame.insert` many times, which has poor performance.  Consider joining all columns at once using pd.concat(axis=1) instead. To get a de-fragmented frame, use `newframe = frame.copy()`\n",
      "  close_prices_df[symbol] = temp_df['Close']          #select only one column from df\n"
     ]
    },
    {
     "name": "stdout",
     "output_type": "stream",
     "text": [
      "[*********************100%%**********************]  1 of 1 completed\n"
     ]
    },
    {
     "name": "stderr",
     "output_type": "stream",
     "text": [
      "C:\\Users\\Rohan Sheth\\AppData\\Local\\Temp\\ipykernel_6076\\223551119.py:10: PerformanceWarning: DataFrame is highly fragmented.  This is usually the result of calling `frame.insert` many times, which has poor performance.  Consider joining all columns at once using pd.concat(axis=1) instead. To get a de-fragmented frame, use `newframe = frame.copy()`\n",
      "  close_prices_df[symbol] = temp_df['Close']          #select only one column from df\n"
     ]
    },
    {
     "name": "stdout",
     "output_type": "stream",
     "text": [
      "[*********************100%%**********************]  1 of 1 completed\n"
     ]
    },
    {
     "name": "stderr",
     "output_type": "stream",
     "text": [
      "C:\\Users\\Rohan Sheth\\AppData\\Local\\Temp\\ipykernel_6076\\223551119.py:10: PerformanceWarning: DataFrame is highly fragmented.  This is usually the result of calling `frame.insert` many times, which has poor performance.  Consider joining all columns at once using pd.concat(axis=1) instead. To get a de-fragmented frame, use `newframe = frame.copy()`\n",
      "  close_prices_df[symbol] = temp_df['Close']          #select only one column from df\n"
     ]
    },
    {
     "name": "stdout",
     "output_type": "stream",
     "text": [
      "\r",
      "[*********************100%%**********************]  1 of 1 completed"
     ]
    },
    {
     "name": "stderr",
     "output_type": "stream",
     "text": [
      "\n",
      "1 Failed download:\n",
      "['M&M.NS']: Exception('%ticker%: No price data found, symbol may be delisted (1d 1925-03-04 -> 2024-02-08)')\n"
     ]
    },
    {
     "name": "stdout",
     "output_type": "stream",
     "text": [
      "\n"
     ]
    },
    {
     "name": "stderr",
     "output_type": "stream",
     "text": [
      "C:\\Users\\Rohan Sheth\\AppData\\Local\\Temp\\ipykernel_6076\\223551119.py:10: PerformanceWarning: DataFrame is highly fragmented.  This is usually the result of calling `frame.insert` many times, which has poor performance.  Consider joining all columns at once using pd.concat(axis=1) instead. To get a de-fragmented frame, use `newframe = frame.copy()`\n",
      "  close_prices_df[symbol] = temp_df['Close']          #select only one column from df\n"
     ]
    },
    {
     "name": "stdout",
     "output_type": "stream",
     "text": [
      "[*********************100%%**********************]  1 of 1 completed\n"
     ]
    },
    {
     "name": "stderr",
     "output_type": "stream",
     "text": [
      "C:\\Users\\Rohan Sheth\\AppData\\Local\\Temp\\ipykernel_6076\\223551119.py:10: PerformanceWarning: DataFrame is highly fragmented.  This is usually the result of calling `frame.insert` many times, which has poor performance.  Consider joining all columns at once using pd.concat(axis=1) instead. To get a de-fragmented frame, use `newframe = frame.copy()`\n",
      "  close_prices_df[symbol] = temp_df['Close']          #select only one column from df\n"
     ]
    },
    {
     "name": "stdout",
     "output_type": "stream",
     "text": [
      "[*********************100%%**********************]  1 of 1 completed\n"
     ]
    },
    {
     "name": "stderr",
     "output_type": "stream",
     "text": [
      "C:\\Users\\Rohan Sheth\\AppData\\Local\\Temp\\ipykernel_6076\\223551119.py:10: PerformanceWarning: DataFrame is highly fragmented.  This is usually the result of calling `frame.insert` many times, which has poor performance.  Consider joining all columns at once using pd.concat(axis=1) instead. To get a de-fragmented frame, use `newframe = frame.copy()`\n",
      "  close_prices_df[symbol] = temp_df['Close']          #select only one column from df\n"
     ]
    },
    {
     "name": "stdout",
     "output_type": "stream",
     "text": [
      "[*********************100%%**********************]  1 of 1 completed\n"
     ]
    },
    {
     "name": "stderr",
     "output_type": "stream",
     "text": [
      "C:\\Users\\Rohan Sheth\\AppData\\Local\\Temp\\ipykernel_6076\\223551119.py:10: PerformanceWarning: DataFrame is highly fragmented.  This is usually the result of calling `frame.insert` many times, which has poor performance.  Consider joining all columns at once using pd.concat(axis=1) instead. To get a de-fragmented frame, use `newframe = frame.copy()`\n",
      "  close_prices_df[symbol] = temp_df['Close']          #select only one column from df\n"
     ]
    },
    {
     "name": "stdout",
     "output_type": "stream",
     "text": [
      "[*********************100%%**********************]  1 of 1 completed\n"
     ]
    },
    {
     "name": "stderr",
     "output_type": "stream",
     "text": [
      "C:\\Users\\Rohan Sheth\\AppData\\Local\\Temp\\ipykernel_6076\\223551119.py:10: PerformanceWarning: DataFrame is highly fragmented.  This is usually the result of calling `frame.insert` many times, which has poor performance.  Consider joining all columns at once using pd.concat(axis=1) instead. To get a de-fragmented frame, use `newframe = frame.copy()`\n",
      "  close_prices_df[symbol] = temp_df['Close']          #select only one column from df\n"
     ]
    },
    {
     "name": "stdout",
     "output_type": "stream",
     "text": [
      "[*********************100%%**********************]  1 of 1 completed\n"
     ]
    },
    {
     "name": "stderr",
     "output_type": "stream",
     "text": [
      "C:\\Users\\Rohan Sheth\\AppData\\Local\\Temp\\ipykernel_6076\\223551119.py:10: PerformanceWarning: DataFrame is highly fragmented.  This is usually the result of calling `frame.insert` many times, which has poor performance.  Consider joining all columns at once using pd.concat(axis=1) instead. To get a de-fragmented frame, use `newframe = frame.copy()`\n",
      "  close_prices_df[symbol] = temp_df['Close']          #select only one column from df\n"
     ]
    },
    {
     "name": "stdout",
     "output_type": "stream",
     "text": [
      "[*********************100%%**********************]  1 of 1 completed\n"
     ]
    },
    {
     "name": "stderr",
     "output_type": "stream",
     "text": [
      "C:\\Users\\Rohan Sheth\\AppData\\Local\\Temp\\ipykernel_6076\\223551119.py:10: PerformanceWarning: DataFrame is highly fragmented.  This is usually the result of calling `frame.insert` many times, which has poor performance.  Consider joining all columns at once using pd.concat(axis=1) instead. To get a de-fragmented frame, use `newframe = frame.copy()`\n",
      "  close_prices_df[symbol] = temp_df['Close']          #select only one column from df\n"
     ]
    },
    {
     "name": "stdout",
     "output_type": "stream",
     "text": [
      "[*********************100%%**********************]  1 of 1 completed\n"
     ]
    },
    {
     "name": "stderr",
     "output_type": "stream",
     "text": [
      "C:\\Users\\Rohan Sheth\\AppData\\Local\\Temp\\ipykernel_6076\\223551119.py:10: PerformanceWarning: DataFrame is highly fragmented.  This is usually the result of calling `frame.insert` many times, which has poor performance.  Consider joining all columns at once using pd.concat(axis=1) instead. To get a de-fragmented frame, use `newframe = frame.copy()`\n",
      "  close_prices_df[symbol] = temp_df['Close']          #select only one column from df\n"
     ]
    },
    {
     "name": "stdout",
     "output_type": "stream",
     "text": [
      "[*********************100%%**********************]  1 of 1 completed\n"
     ]
    },
    {
     "name": "stderr",
     "output_type": "stream",
     "text": [
      "C:\\Users\\Rohan Sheth\\AppData\\Local\\Temp\\ipykernel_6076\\223551119.py:10: PerformanceWarning: DataFrame is highly fragmented.  This is usually the result of calling `frame.insert` many times, which has poor performance.  Consider joining all columns at once using pd.concat(axis=1) instead. To get a de-fragmented frame, use `newframe = frame.copy()`\n",
      "  close_prices_df[symbol] = temp_df['Close']          #select only one column from df\n"
     ]
    },
    {
     "name": "stdout",
     "output_type": "stream",
     "text": [
      "[*********************100%%**********************]  1 of 1 completed\n"
     ]
    },
    {
     "name": "stderr",
     "output_type": "stream",
     "text": [
      "C:\\Users\\Rohan Sheth\\AppData\\Local\\Temp\\ipykernel_6076\\223551119.py:10: PerformanceWarning: DataFrame is highly fragmented.  This is usually the result of calling `frame.insert` many times, which has poor performance.  Consider joining all columns at once using pd.concat(axis=1) instead. To get a de-fragmented frame, use `newframe = frame.copy()`\n",
      "  close_prices_df[symbol] = temp_df['Close']          #select only one column from df\n"
     ]
    },
    {
     "name": "stdout",
     "output_type": "stream",
     "text": [
      "[*********************100%%**********************]  1 of 1 completed\n"
     ]
    },
    {
     "name": "stderr",
     "output_type": "stream",
     "text": [
      "C:\\Users\\Rohan Sheth\\AppData\\Local\\Temp\\ipykernel_6076\\223551119.py:10: PerformanceWarning: DataFrame is highly fragmented.  This is usually the result of calling `frame.insert` many times, which has poor performance.  Consider joining all columns at once using pd.concat(axis=1) instead. To get a de-fragmented frame, use `newframe = frame.copy()`\n",
      "  close_prices_df[symbol] = temp_df['Close']          #select only one column from df\n"
     ]
    },
    {
     "name": "stdout",
     "output_type": "stream",
     "text": [
      "[*********************100%%**********************]  1 of 1 completed\n"
     ]
    },
    {
     "name": "stderr",
     "output_type": "stream",
     "text": [
      "C:\\Users\\Rohan Sheth\\AppData\\Local\\Temp\\ipykernel_6076\\223551119.py:10: PerformanceWarning: DataFrame is highly fragmented.  This is usually the result of calling `frame.insert` many times, which has poor performance.  Consider joining all columns at once using pd.concat(axis=1) instead. To get a de-fragmented frame, use `newframe = frame.copy()`\n",
      "  close_prices_df[symbol] = temp_df['Close']          #select only one column from df\n"
     ]
    },
    {
     "name": "stdout",
     "output_type": "stream",
     "text": [
      "[*********************100%%**********************]  1 of 1 completed\n"
     ]
    },
    {
     "name": "stderr",
     "output_type": "stream",
     "text": [
      "C:\\Users\\Rohan Sheth\\AppData\\Local\\Temp\\ipykernel_6076\\223551119.py:10: PerformanceWarning: DataFrame is highly fragmented.  This is usually the result of calling `frame.insert` many times, which has poor performance.  Consider joining all columns at once using pd.concat(axis=1) instead. To get a de-fragmented frame, use `newframe = frame.copy()`\n",
      "  close_prices_df[symbol] = temp_df['Close']          #select only one column from df\n"
     ]
    },
    {
     "name": "stdout",
     "output_type": "stream",
     "text": [
      "[*********************100%%**********************]  1 of 1 completed\n"
     ]
    },
    {
     "name": "stderr",
     "output_type": "stream",
     "text": [
      "C:\\Users\\Rohan Sheth\\AppData\\Local\\Temp\\ipykernel_6076\\223551119.py:10: PerformanceWarning: DataFrame is highly fragmented.  This is usually the result of calling `frame.insert` many times, which has poor performance.  Consider joining all columns at once using pd.concat(axis=1) instead. To get a de-fragmented frame, use `newframe = frame.copy()`\n",
      "  close_prices_df[symbol] = temp_df['Close']          #select only one column from df\n"
     ]
    },
    {
     "name": "stdout",
     "output_type": "stream",
     "text": [
      "[*********************100%%**********************]  1 of 1 completed\n"
     ]
    },
    {
     "name": "stderr",
     "output_type": "stream",
     "text": [
      "C:\\Users\\Rohan Sheth\\AppData\\Local\\Temp\\ipykernel_6076\\223551119.py:10: PerformanceWarning: DataFrame is highly fragmented.  This is usually the result of calling `frame.insert` many times, which has poor performance.  Consider joining all columns at once using pd.concat(axis=1) instead. To get a de-fragmented frame, use `newframe = frame.copy()`\n",
      "  close_prices_df[symbol] = temp_df['Close']          #select only one column from df\n"
     ]
    },
    {
     "name": "stdout",
     "output_type": "stream",
     "text": [
      "[*********************100%%**********************]  1 of 1 completed\n"
     ]
    },
    {
     "name": "stderr",
     "output_type": "stream",
     "text": [
      "C:\\Users\\Rohan Sheth\\AppData\\Local\\Temp\\ipykernel_6076\\223551119.py:10: PerformanceWarning: DataFrame is highly fragmented.  This is usually the result of calling `frame.insert` many times, which has poor performance.  Consider joining all columns at once using pd.concat(axis=1) instead. To get a de-fragmented frame, use `newframe = frame.copy()`\n",
      "  close_prices_df[symbol] = temp_df['Close']          #select only one column from df\n"
     ]
    },
    {
     "name": "stdout",
     "output_type": "stream",
     "text": [
      "[*********************100%%**********************]  1 of 1 completed\n"
     ]
    },
    {
     "name": "stderr",
     "output_type": "stream",
     "text": [
      "C:\\Users\\Rohan Sheth\\AppData\\Local\\Temp\\ipykernel_6076\\223551119.py:10: PerformanceWarning: DataFrame is highly fragmented.  This is usually the result of calling `frame.insert` many times, which has poor performance.  Consider joining all columns at once using pd.concat(axis=1) instead. To get a de-fragmented frame, use `newframe = frame.copy()`\n",
      "  close_prices_df[symbol] = temp_df['Close']          #select only one column from df\n"
     ]
    },
    {
     "name": "stdout",
     "output_type": "stream",
     "text": [
      "[*********************100%%**********************]  1 of 1 completed\n"
     ]
    },
    {
     "name": "stderr",
     "output_type": "stream",
     "text": [
      "C:\\Users\\Rohan Sheth\\AppData\\Local\\Temp\\ipykernel_6076\\223551119.py:10: PerformanceWarning: DataFrame is highly fragmented.  This is usually the result of calling `frame.insert` many times, which has poor performance.  Consider joining all columns at once using pd.concat(axis=1) instead. To get a de-fragmented frame, use `newframe = frame.copy()`\n",
      "  close_prices_df[symbol] = temp_df['Close']          #select only one column from df\n"
     ]
    },
    {
     "name": "stdout",
     "output_type": "stream",
     "text": [
      "[*********************100%%**********************]  1 of 1 completed\n"
     ]
    },
    {
     "name": "stderr",
     "output_type": "stream",
     "text": [
      "C:\\Users\\Rohan Sheth\\AppData\\Local\\Temp\\ipykernel_6076\\223551119.py:10: PerformanceWarning: DataFrame is highly fragmented.  This is usually the result of calling `frame.insert` many times, which has poor performance.  Consider joining all columns at once using pd.concat(axis=1) instead. To get a de-fragmented frame, use `newframe = frame.copy()`\n",
      "  close_prices_df[symbol] = temp_df['Close']          #select only one column from df\n"
     ]
    },
    {
     "name": "stdout",
     "output_type": "stream",
     "text": [
      "[*********************100%%**********************]  1 of 1 completed\n"
     ]
    },
    {
     "name": "stderr",
     "output_type": "stream",
     "text": [
      "C:\\Users\\Rohan Sheth\\AppData\\Local\\Temp\\ipykernel_6076\\223551119.py:10: PerformanceWarning: DataFrame is highly fragmented.  This is usually the result of calling `frame.insert` many times, which has poor performance.  Consider joining all columns at once using pd.concat(axis=1) instead. To get a de-fragmented frame, use `newframe = frame.copy()`\n",
      "  close_prices_df[symbol] = temp_df['Close']          #select only one column from df\n"
     ]
    },
    {
     "name": "stdout",
     "output_type": "stream",
     "text": [
      "[*********************100%%**********************]  1 of 1 completed\n"
     ]
    },
    {
     "name": "stderr",
     "output_type": "stream",
     "text": [
      "C:\\Users\\Rohan Sheth\\AppData\\Local\\Temp\\ipykernel_6076\\223551119.py:10: PerformanceWarning: DataFrame is highly fragmented.  This is usually the result of calling `frame.insert` many times, which has poor performance.  Consider joining all columns at once using pd.concat(axis=1) instead. To get a de-fragmented frame, use `newframe = frame.copy()`\n",
      "  close_prices_df[symbol] = temp_df['Close']          #select only one column from df\n"
     ]
    },
    {
     "name": "stdout",
     "output_type": "stream",
     "text": [
      "[*********************100%%**********************]  1 of 1 completed\n"
     ]
    },
    {
     "name": "stderr",
     "output_type": "stream",
     "text": [
      "C:\\Users\\Rohan Sheth\\AppData\\Local\\Temp\\ipykernel_6076\\223551119.py:10: PerformanceWarning: DataFrame is highly fragmented.  This is usually the result of calling `frame.insert` many times, which has poor performance.  Consider joining all columns at once using pd.concat(axis=1) instead. To get a de-fragmented frame, use `newframe = frame.copy()`\n",
      "  close_prices_df[symbol] = temp_df['Close']          #select only one column from df\n"
     ]
    },
    {
     "name": "stdout",
     "output_type": "stream",
     "text": [
      "[*********************100%%**********************]  1 of 1 completed\n"
     ]
    },
    {
     "name": "stderr",
     "output_type": "stream",
     "text": [
      "C:\\Users\\Rohan Sheth\\AppData\\Local\\Temp\\ipykernel_6076\\223551119.py:10: PerformanceWarning: DataFrame is highly fragmented.  This is usually the result of calling `frame.insert` many times, which has poor performance.  Consider joining all columns at once using pd.concat(axis=1) instead. To get a de-fragmented frame, use `newframe = frame.copy()`\n",
      "  close_prices_df[symbol] = temp_df['Close']          #select only one column from df\n"
     ]
    },
    {
     "name": "stdout",
     "output_type": "stream",
     "text": [
      "[*********************100%%**********************]  1 of 1 completed\n"
     ]
    },
    {
     "name": "stderr",
     "output_type": "stream",
     "text": [
      "C:\\Users\\Rohan Sheth\\AppData\\Local\\Temp\\ipykernel_6076\\223551119.py:10: PerformanceWarning: DataFrame is highly fragmented.  This is usually the result of calling `frame.insert` many times, which has poor performance.  Consider joining all columns at once using pd.concat(axis=1) instead. To get a de-fragmented frame, use `newframe = frame.copy()`\n",
      "  close_prices_df[symbol] = temp_df['Close']          #select only one column from df\n"
     ]
    },
    {
     "name": "stdout",
     "output_type": "stream",
     "text": [
      "[*********************100%%**********************]  1 of 1 completed\n"
     ]
    },
    {
     "name": "stderr",
     "output_type": "stream",
     "text": [
      "C:\\Users\\Rohan Sheth\\AppData\\Local\\Temp\\ipykernel_6076\\223551119.py:10: PerformanceWarning: DataFrame is highly fragmented.  This is usually the result of calling `frame.insert` many times, which has poor performance.  Consider joining all columns at once using pd.concat(axis=1) instead. To get a de-fragmented frame, use `newframe = frame.copy()`\n",
      "  close_prices_df[symbol] = temp_df['Close']          #select only one column from df\n"
     ]
    },
    {
     "name": "stdout",
     "output_type": "stream",
     "text": [
      "[*********************100%%**********************]  1 of 1 completed\n"
     ]
    },
    {
     "name": "stderr",
     "output_type": "stream",
     "text": [
      "C:\\Users\\Rohan Sheth\\AppData\\Local\\Temp\\ipykernel_6076\\223551119.py:10: PerformanceWarning: DataFrame is highly fragmented.  This is usually the result of calling `frame.insert` many times, which has poor performance.  Consider joining all columns at once using pd.concat(axis=1) instead. To get a de-fragmented frame, use `newframe = frame.copy()`\n",
      "  close_prices_df[symbol] = temp_df['Close']          #select only one column from df\n"
     ]
    },
    {
     "name": "stdout",
     "output_type": "stream",
     "text": [
      "[*********************100%%**********************]  1 of 1 completed\n"
     ]
    },
    {
     "name": "stderr",
     "output_type": "stream",
     "text": [
      "C:\\Users\\Rohan Sheth\\AppData\\Local\\Temp\\ipykernel_6076\\223551119.py:10: PerformanceWarning: DataFrame is highly fragmented.  This is usually the result of calling `frame.insert` many times, which has poor performance.  Consider joining all columns at once using pd.concat(axis=1) instead. To get a de-fragmented frame, use `newframe = frame.copy()`\n",
      "  close_prices_df[symbol] = temp_df['Close']          #select only one column from df\n"
     ]
    },
    {
     "name": "stdout",
     "output_type": "stream",
     "text": [
      "[*********************100%%**********************]  1 of 1 completed\n"
     ]
    },
    {
     "name": "stderr",
     "output_type": "stream",
     "text": [
      "C:\\Users\\Rohan Sheth\\AppData\\Local\\Temp\\ipykernel_6076\\223551119.py:10: PerformanceWarning: DataFrame is highly fragmented.  This is usually the result of calling `frame.insert` many times, which has poor performance.  Consider joining all columns at once using pd.concat(axis=1) instead. To get a de-fragmented frame, use `newframe = frame.copy()`\n",
      "  close_prices_df[symbol] = temp_df['Close']          #select only one column from df\n"
     ]
    },
    {
     "name": "stdout",
     "output_type": "stream",
     "text": [
      "[*********************100%%**********************]  1 of 1 completed\n"
     ]
    },
    {
     "name": "stderr",
     "output_type": "stream",
     "text": [
      "C:\\Users\\Rohan Sheth\\AppData\\Local\\Temp\\ipykernel_6076\\223551119.py:10: PerformanceWarning: DataFrame is highly fragmented.  This is usually the result of calling `frame.insert` many times, which has poor performance.  Consider joining all columns at once using pd.concat(axis=1) instead. To get a de-fragmented frame, use `newframe = frame.copy()`\n",
      "  close_prices_df[symbol] = temp_df['Close']          #select only one column from df\n"
     ]
    },
    {
     "name": "stdout",
     "output_type": "stream",
     "text": [
      "[*********************100%%**********************]  1 of 1 completed\n"
     ]
    },
    {
     "name": "stderr",
     "output_type": "stream",
     "text": [
      "C:\\Users\\Rohan Sheth\\AppData\\Local\\Temp\\ipykernel_6076\\223551119.py:10: PerformanceWarning: DataFrame is highly fragmented.  This is usually the result of calling `frame.insert` many times, which has poor performance.  Consider joining all columns at once using pd.concat(axis=1) instead. To get a de-fragmented frame, use `newframe = frame.copy()`\n",
      "  close_prices_df[symbol] = temp_df['Close']          #select only one column from df\n"
     ]
    },
    {
     "name": "stdout",
     "output_type": "stream",
     "text": [
      "[*********************100%%**********************]  1 of 1 completed\n"
     ]
    },
    {
     "name": "stderr",
     "output_type": "stream",
     "text": [
      "C:\\Users\\Rohan Sheth\\AppData\\Local\\Temp\\ipykernel_6076\\223551119.py:10: PerformanceWarning: DataFrame is highly fragmented.  This is usually the result of calling `frame.insert` many times, which has poor performance.  Consider joining all columns at once using pd.concat(axis=1) instead. To get a de-fragmented frame, use `newframe = frame.copy()`\n",
      "  close_prices_df[symbol] = temp_df['Close']          #select only one column from df\n"
     ]
    },
    {
     "name": "stdout",
     "output_type": "stream",
     "text": [
      "[*********************100%%**********************]  1 of 1 completed\n"
     ]
    },
    {
     "name": "stderr",
     "output_type": "stream",
     "text": [
      "C:\\Users\\Rohan Sheth\\AppData\\Local\\Temp\\ipykernel_6076\\223551119.py:10: PerformanceWarning: DataFrame is highly fragmented.  This is usually the result of calling `frame.insert` many times, which has poor performance.  Consider joining all columns at once using pd.concat(axis=1) instead. To get a de-fragmented frame, use `newframe = frame.copy()`\n",
      "  close_prices_df[symbol] = temp_df['Close']          #select only one column from df\n"
     ]
    },
    {
     "name": "stdout",
     "output_type": "stream",
     "text": [
      "[*********************100%%**********************]  1 of 1 completed\n"
     ]
    },
    {
     "name": "stderr",
     "output_type": "stream",
     "text": [
      "C:\\Users\\Rohan Sheth\\AppData\\Local\\Temp\\ipykernel_6076\\223551119.py:10: PerformanceWarning: DataFrame is highly fragmented.  This is usually the result of calling `frame.insert` many times, which has poor performance.  Consider joining all columns at once using pd.concat(axis=1) instead. To get a de-fragmented frame, use `newframe = frame.copy()`\n",
      "  close_prices_df[symbol] = temp_df['Close']          #select only one column from df\n"
     ]
    },
    {
     "name": "stdout",
     "output_type": "stream",
     "text": [
      "[*********************100%%**********************]  1 of 1 completed\n"
     ]
    },
    {
     "name": "stderr",
     "output_type": "stream",
     "text": [
      "C:\\Users\\Rohan Sheth\\AppData\\Local\\Temp\\ipykernel_6076\\223551119.py:10: PerformanceWarning: DataFrame is highly fragmented.  This is usually the result of calling `frame.insert` many times, which has poor performance.  Consider joining all columns at once using pd.concat(axis=1) instead. To get a de-fragmented frame, use `newframe = frame.copy()`\n",
      "  close_prices_df[symbol] = temp_df['Close']          #select only one column from df\n"
     ]
    },
    {
     "name": "stdout",
     "output_type": "stream",
     "text": [
      "[*********************100%%**********************]  1 of 1 completed\n"
     ]
    },
    {
     "name": "stderr",
     "output_type": "stream",
     "text": [
      "C:\\Users\\Rohan Sheth\\AppData\\Local\\Temp\\ipykernel_6076\\223551119.py:10: PerformanceWarning: DataFrame is highly fragmented.  This is usually the result of calling `frame.insert` many times, which has poor performance.  Consider joining all columns at once using pd.concat(axis=1) instead. To get a de-fragmented frame, use `newframe = frame.copy()`\n",
      "  close_prices_df[symbol] = temp_df['Close']          #select only one column from df\n"
     ]
    },
    {
     "name": "stdout",
     "output_type": "stream",
     "text": [
      "[*********************100%%**********************]  1 of 1 completed\n"
     ]
    },
    {
     "name": "stderr",
     "output_type": "stream",
     "text": [
      "C:\\Users\\Rohan Sheth\\AppData\\Local\\Temp\\ipykernel_6076\\223551119.py:10: PerformanceWarning: DataFrame is highly fragmented.  This is usually the result of calling `frame.insert` many times, which has poor performance.  Consider joining all columns at once using pd.concat(axis=1) instead. To get a de-fragmented frame, use `newframe = frame.copy()`\n",
      "  close_prices_df[symbol] = temp_df['Close']          #select only one column from df\n"
     ]
    },
    {
     "name": "stdout",
     "output_type": "stream",
     "text": [
      "[*********************100%%**********************]  1 of 1 completed\n"
     ]
    },
    {
     "name": "stderr",
     "output_type": "stream",
     "text": [
      "C:\\Users\\Rohan Sheth\\AppData\\Local\\Temp\\ipykernel_6076\\223551119.py:10: PerformanceWarning: DataFrame is highly fragmented.  This is usually the result of calling `frame.insert` many times, which has poor performance.  Consider joining all columns at once using pd.concat(axis=1) instead. To get a de-fragmented frame, use `newframe = frame.copy()`\n",
      "  close_prices_df[symbol] = temp_df['Close']          #select only one column from df\n"
     ]
    },
    {
     "name": "stdout",
     "output_type": "stream",
     "text": [
      "[*********************100%%**********************]  1 of 1 completed\n"
     ]
    },
    {
     "name": "stderr",
     "output_type": "stream",
     "text": [
      "C:\\Users\\Rohan Sheth\\AppData\\Local\\Temp\\ipykernel_6076\\223551119.py:10: PerformanceWarning: DataFrame is highly fragmented.  This is usually the result of calling `frame.insert` many times, which has poor performance.  Consider joining all columns at once using pd.concat(axis=1) instead. To get a de-fragmented frame, use `newframe = frame.copy()`\n",
      "  close_prices_df[symbol] = temp_df['Close']          #select only one column from df\n"
     ]
    },
    {
     "name": "stdout",
     "output_type": "stream",
     "text": [
      "[*********************100%%**********************]  1 of 1 completed\n"
     ]
    },
    {
     "name": "stderr",
     "output_type": "stream",
     "text": [
      "C:\\Users\\Rohan Sheth\\AppData\\Local\\Temp\\ipykernel_6076\\223551119.py:10: PerformanceWarning: DataFrame is highly fragmented.  This is usually the result of calling `frame.insert` many times, which has poor performance.  Consider joining all columns at once using pd.concat(axis=1) instead. To get a de-fragmented frame, use `newframe = frame.copy()`\n",
      "  close_prices_df[symbol] = temp_df['Close']          #select only one column from df\n"
     ]
    },
    {
     "name": "stdout",
     "output_type": "stream",
     "text": [
      "[*********************100%%**********************]  1 of 1 completed\n"
     ]
    },
    {
     "name": "stderr",
     "output_type": "stream",
     "text": [
      "C:\\Users\\Rohan Sheth\\AppData\\Local\\Temp\\ipykernel_6076\\223551119.py:10: PerformanceWarning: DataFrame is highly fragmented.  This is usually the result of calling `frame.insert` many times, which has poor performance.  Consider joining all columns at once using pd.concat(axis=1) instead. To get a de-fragmented frame, use `newframe = frame.copy()`\n",
      "  close_prices_df[symbol] = temp_df['Close']          #select only one column from df\n"
     ]
    },
    {
     "name": "stdout",
     "output_type": "stream",
     "text": [
      "[*********************100%%**********************]  1 of 1 completed\n"
     ]
    },
    {
     "name": "stderr",
     "output_type": "stream",
     "text": [
      "C:\\Users\\Rohan Sheth\\AppData\\Local\\Temp\\ipykernel_6076\\223551119.py:10: PerformanceWarning: DataFrame is highly fragmented.  This is usually the result of calling `frame.insert` many times, which has poor performance.  Consider joining all columns at once using pd.concat(axis=1) instead. To get a de-fragmented frame, use `newframe = frame.copy()`\n",
      "  close_prices_df[symbol] = temp_df['Close']          #select only one column from df\n"
     ]
    },
    {
     "name": "stdout",
     "output_type": "stream",
     "text": [
      "[*********************100%%**********************]  1 of 1 completed\n"
     ]
    },
    {
     "name": "stderr",
     "output_type": "stream",
     "text": [
      "C:\\Users\\Rohan Sheth\\AppData\\Local\\Temp\\ipykernel_6076\\223551119.py:10: PerformanceWarning: DataFrame is highly fragmented.  This is usually the result of calling `frame.insert` many times, which has poor performance.  Consider joining all columns at once using pd.concat(axis=1) instead. To get a de-fragmented frame, use `newframe = frame.copy()`\n",
      "  close_prices_df[symbol] = temp_df['Close']          #select only one column from df\n"
     ]
    },
    {
     "name": "stdout",
     "output_type": "stream",
     "text": [
      "[*********************100%%**********************]  1 of 1 completed\n"
     ]
    },
    {
     "name": "stderr",
     "output_type": "stream",
     "text": [
      "C:\\Users\\Rohan Sheth\\AppData\\Local\\Temp\\ipykernel_6076\\223551119.py:10: PerformanceWarning: DataFrame is highly fragmented.  This is usually the result of calling `frame.insert` many times, which has poor performance.  Consider joining all columns at once using pd.concat(axis=1) instead. To get a de-fragmented frame, use `newframe = frame.copy()`\n",
      "  close_prices_df[symbol] = temp_df['Close']          #select only one column from df\n"
     ]
    },
    {
     "name": "stdout",
     "output_type": "stream",
     "text": [
      "[*********************100%%**********************]  1 of 1 completed\n"
     ]
    },
    {
     "name": "stderr",
     "output_type": "stream",
     "text": [
      "C:\\Users\\Rohan Sheth\\AppData\\Local\\Temp\\ipykernel_6076\\223551119.py:10: PerformanceWarning: DataFrame is highly fragmented.  This is usually the result of calling `frame.insert` many times, which has poor performance.  Consider joining all columns at once using pd.concat(axis=1) instead. To get a de-fragmented frame, use `newframe = frame.copy()`\n",
      "  close_prices_df[symbol] = temp_df['Close']          #select only one column from df\n"
     ]
    },
    {
     "name": "stdout",
     "output_type": "stream",
     "text": [
      "[*********************100%%**********************]  1 of 1 completed\n"
     ]
    },
    {
     "name": "stderr",
     "output_type": "stream",
     "text": [
      "C:\\Users\\Rohan Sheth\\AppData\\Local\\Temp\\ipykernel_6076\\223551119.py:10: PerformanceWarning: DataFrame is highly fragmented.  This is usually the result of calling `frame.insert` many times, which has poor performance.  Consider joining all columns at once using pd.concat(axis=1) instead. To get a de-fragmented frame, use `newframe = frame.copy()`\n",
      "  close_prices_df[symbol] = temp_df['Close']          #select only one column from df\n"
     ]
    },
    {
     "name": "stdout",
     "output_type": "stream",
     "text": [
      "[*********************100%%**********************]  1 of 1 completed\n"
     ]
    },
    {
     "name": "stderr",
     "output_type": "stream",
     "text": [
      "C:\\Users\\Rohan Sheth\\AppData\\Local\\Temp\\ipykernel_6076\\223551119.py:10: PerformanceWarning: DataFrame is highly fragmented.  This is usually the result of calling `frame.insert` many times, which has poor performance.  Consider joining all columns at once using pd.concat(axis=1) instead. To get a de-fragmented frame, use `newframe = frame.copy()`\n",
      "  close_prices_df[symbol] = temp_df['Close']          #select only one column from df\n"
     ]
    },
    {
     "name": "stdout",
     "output_type": "stream",
     "text": [
      "[*********************100%%**********************]  1 of 1 completed\n"
     ]
    },
    {
     "name": "stderr",
     "output_type": "stream",
     "text": [
      "C:\\Users\\Rohan Sheth\\AppData\\Local\\Temp\\ipykernel_6076\\223551119.py:10: PerformanceWarning: DataFrame is highly fragmented.  This is usually the result of calling `frame.insert` many times, which has poor performance.  Consider joining all columns at once using pd.concat(axis=1) instead. To get a de-fragmented frame, use `newframe = frame.copy()`\n",
      "  close_prices_df[symbol] = temp_df['Close']          #select only one column from df\n"
     ]
    },
    {
     "name": "stdout",
     "output_type": "stream",
     "text": [
      "[*********************100%%**********************]  1 of 1 completed\n"
     ]
    },
    {
     "name": "stderr",
     "output_type": "stream",
     "text": [
      "C:\\Users\\Rohan Sheth\\AppData\\Local\\Temp\\ipykernel_6076\\223551119.py:10: PerformanceWarning: DataFrame is highly fragmented.  This is usually the result of calling `frame.insert` many times, which has poor performance.  Consider joining all columns at once using pd.concat(axis=1) instead. To get a de-fragmented frame, use `newframe = frame.copy()`\n",
      "  close_prices_df[symbol] = temp_df['Close']          #select only one column from df\n"
     ]
    },
    {
     "name": "stdout",
     "output_type": "stream",
     "text": [
      "[*********************100%%**********************]  1 of 1 completed\n"
     ]
    },
    {
     "name": "stderr",
     "output_type": "stream",
     "text": [
      "C:\\Users\\Rohan Sheth\\AppData\\Local\\Temp\\ipykernel_6076\\223551119.py:10: PerformanceWarning: DataFrame is highly fragmented.  This is usually the result of calling `frame.insert` many times, which has poor performance.  Consider joining all columns at once using pd.concat(axis=1) instead. To get a de-fragmented frame, use `newframe = frame.copy()`\n",
      "  close_prices_df[symbol] = temp_df['Close']          #select only one column from df\n"
     ]
    },
    {
     "name": "stdout",
     "output_type": "stream",
     "text": [
      "[*********************100%%**********************]  1 of 1 completed\n"
     ]
    },
    {
     "name": "stderr",
     "output_type": "stream",
     "text": [
      "C:\\Users\\Rohan Sheth\\AppData\\Local\\Temp\\ipykernel_6076\\223551119.py:10: PerformanceWarning: DataFrame is highly fragmented.  This is usually the result of calling `frame.insert` many times, which has poor performance.  Consider joining all columns at once using pd.concat(axis=1) instead. To get a de-fragmented frame, use `newframe = frame.copy()`\n",
      "  close_prices_df[symbol] = temp_df['Close']          #select only one column from df\n"
     ]
    },
    {
     "name": "stdout",
     "output_type": "stream",
     "text": [
      "\r",
      "[*********************100%%**********************]  1 of 1 completed"
     ]
    },
    {
     "name": "stderr",
     "output_type": "stream",
     "text": [
      "\n",
      "1 Failed download:\n",
      "['PAGEIND.NS']: Exception('%ticker%: No price data found, symbol may be delisted (1d 1925-03-04 -> 2024-02-08)')\n"
     ]
    },
    {
     "name": "stdout",
     "output_type": "stream",
     "text": [
      "\n"
     ]
    },
    {
     "name": "stderr",
     "output_type": "stream",
     "text": [
      "C:\\Users\\Rohan Sheth\\AppData\\Local\\Temp\\ipykernel_6076\\223551119.py:10: PerformanceWarning: DataFrame is highly fragmented.  This is usually the result of calling `frame.insert` many times, which has poor performance.  Consider joining all columns at once using pd.concat(axis=1) instead. To get a de-fragmented frame, use `newframe = frame.copy()`\n",
      "  close_prices_df[symbol] = temp_df['Close']          #select only one column from df\n"
     ]
    },
    {
     "name": "stdout",
     "output_type": "stream",
     "text": [
      "[*********************100%%**********************]  1 of 1 completed\n"
     ]
    },
    {
     "name": "stderr",
     "output_type": "stream",
     "text": [
      "C:\\Users\\Rohan Sheth\\AppData\\Local\\Temp\\ipykernel_6076\\223551119.py:10: PerformanceWarning: DataFrame is highly fragmented.  This is usually the result of calling `frame.insert` many times, which has poor performance.  Consider joining all columns at once using pd.concat(axis=1) instead. To get a de-fragmented frame, use `newframe = frame.copy()`\n",
      "  close_prices_df[symbol] = temp_df['Close']          #select only one column from df\n"
     ]
    },
    {
     "name": "stdout",
     "output_type": "stream",
     "text": [
      "[*********************100%%**********************]  1 of 1 completed\n"
     ]
    },
    {
     "name": "stderr",
     "output_type": "stream",
     "text": [
      "C:\\Users\\Rohan Sheth\\AppData\\Local\\Temp\\ipykernel_6076\\223551119.py:10: PerformanceWarning: DataFrame is highly fragmented.  This is usually the result of calling `frame.insert` many times, which has poor performance.  Consider joining all columns at once using pd.concat(axis=1) instead. To get a de-fragmented frame, use `newframe = frame.copy()`\n",
      "  close_prices_df[symbol] = temp_df['Close']          #select only one column from df\n"
     ]
    },
    {
     "name": "stdout",
     "output_type": "stream",
     "text": [
      "[*********************100%%**********************]  1 of 1 completed\n"
     ]
    },
    {
     "name": "stderr",
     "output_type": "stream",
     "text": [
      "C:\\Users\\Rohan Sheth\\AppData\\Local\\Temp\\ipykernel_6076\\223551119.py:10: PerformanceWarning: DataFrame is highly fragmented.  This is usually the result of calling `frame.insert` many times, which has poor performance.  Consider joining all columns at once using pd.concat(axis=1) instead. To get a de-fragmented frame, use `newframe = frame.copy()`\n",
      "  close_prices_df[symbol] = temp_df['Close']          #select only one column from df\n"
     ]
    },
    {
     "name": "stdout",
     "output_type": "stream",
     "text": [
      "[*********************100%%**********************]  1 of 1 completed\n"
     ]
    },
    {
     "name": "stderr",
     "output_type": "stream",
     "text": [
      "C:\\Users\\Rohan Sheth\\AppData\\Local\\Temp\\ipykernel_6076\\223551119.py:10: PerformanceWarning: DataFrame is highly fragmented.  This is usually the result of calling `frame.insert` many times, which has poor performance.  Consider joining all columns at once using pd.concat(axis=1) instead. To get a de-fragmented frame, use `newframe = frame.copy()`\n",
      "  close_prices_df[symbol] = temp_df['Close']          #select only one column from df\n"
     ]
    },
    {
     "name": "stdout",
     "output_type": "stream",
     "text": [
      "[*********************100%%**********************]  1 of 1 completed\n"
     ]
    },
    {
     "name": "stderr",
     "output_type": "stream",
     "text": [
      "C:\\Users\\Rohan Sheth\\AppData\\Local\\Temp\\ipykernel_6076\\223551119.py:10: PerformanceWarning: DataFrame is highly fragmented.  This is usually the result of calling `frame.insert` many times, which has poor performance.  Consider joining all columns at once using pd.concat(axis=1) instead. To get a de-fragmented frame, use `newframe = frame.copy()`\n",
      "  close_prices_df[symbol] = temp_df['Close']          #select only one column from df\n"
     ]
    },
    {
     "name": "stdout",
     "output_type": "stream",
     "text": [
      "[*********************100%%**********************]  1 of 1 completed\n"
     ]
    },
    {
     "name": "stderr",
     "output_type": "stream",
     "text": [
      "C:\\Users\\Rohan Sheth\\AppData\\Local\\Temp\\ipykernel_6076\\223551119.py:10: PerformanceWarning: DataFrame is highly fragmented.  This is usually the result of calling `frame.insert` many times, which has poor performance.  Consider joining all columns at once using pd.concat(axis=1) instead. To get a de-fragmented frame, use `newframe = frame.copy()`\n",
      "  close_prices_df[symbol] = temp_df['Close']          #select only one column from df\n"
     ]
    },
    {
     "name": "stdout",
     "output_type": "stream",
     "text": [
      "[*********************100%%**********************]  1 of 1 completed\n"
     ]
    },
    {
     "name": "stderr",
     "output_type": "stream",
     "text": [
      "C:\\Users\\Rohan Sheth\\AppData\\Local\\Temp\\ipykernel_6076\\223551119.py:10: PerformanceWarning: DataFrame is highly fragmented.  This is usually the result of calling `frame.insert` many times, which has poor performance.  Consider joining all columns at once using pd.concat(axis=1) instead. To get a de-fragmented frame, use `newframe = frame.copy()`\n",
      "  close_prices_df[symbol] = temp_df['Close']          #select only one column from df\n"
     ]
    },
    {
     "name": "stdout",
     "output_type": "stream",
     "text": [
      "[*********************100%%**********************]  1 of 1 completed\n"
     ]
    },
    {
     "name": "stderr",
     "output_type": "stream",
     "text": [
      "C:\\Users\\Rohan Sheth\\AppData\\Local\\Temp\\ipykernel_6076\\223551119.py:10: PerformanceWarning: DataFrame is highly fragmented.  This is usually the result of calling `frame.insert` many times, which has poor performance.  Consider joining all columns at once using pd.concat(axis=1) instead. To get a de-fragmented frame, use `newframe = frame.copy()`\n",
      "  close_prices_df[symbol] = temp_df['Close']          #select only one column from df\n"
     ]
    },
    {
     "name": "stdout",
     "output_type": "stream",
     "text": [
      "[*********************100%%**********************]  1 of 1 completed\n"
     ]
    },
    {
     "name": "stderr",
     "output_type": "stream",
     "text": [
      "C:\\Users\\Rohan Sheth\\AppData\\Local\\Temp\\ipykernel_6076\\223551119.py:10: PerformanceWarning: DataFrame is highly fragmented.  This is usually the result of calling `frame.insert` many times, which has poor performance.  Consider joining all columns at once using pd.concat(axis=1) instead. To get a de-fragmented frame, use `newframe = frame.copy()`\n",
      "  close_prices_df[symbol] = temp_df['Close']          #select only one column from df\n"
     ]
    },
    {
     "name": "stdout",
     "output_type": "stream",
     "text": [
      "[*********************100%%**********************]  1 of 1 completed\n"
     ]
    },
    {
     "name": "stderr",
     "output_type": "stream",
     "text": [
      "C:\\Users\\Rohan Sheth\\AppData\\Local\\Temp\\ipykernel_6076\\223551119.py:10: PerformanceWarning: DataFrame is highly fragmented.  This is usually the result of calling `frame.insert` many times, which has poor performance.  Consider joining all columns at once using pd.concat(axis=1) instead. To get a de-fragmented frame, use `newframe = frame.copy()`\n",
      "  close_prices_df[symbol] = temp_df['Close']          #select only one column from df\n"
     ]
    },
    {
     "name": "stdout",
     "output_type": "stream",
     "text": [
      "[*********************100%%**********************]  1 of 1 completed\n"
     ]
    },
    {
     "name": "stderr",
     "output_type": "stream",
     "text": [
      "C:\\Users\\Rohan Sheth\\AppData\\Local\\Temp\\ipykernel_6076\\223551119.py:10: PerformanceWarning: DataFrame is highly fragmented.  This is usually the result of calling `frame.insert` many times, which has poor performance.  Consider joining all columns at once using pd.concat(axis=1) instead. To get a de-fragmented frame, use `newframe = frame.copy()`\n",
      "  close_prices_df[symbol] = temp_df['Close']          #select only one column from df\n"
     ]
    },
    {
     "name": "stdout",
     "output_type": "stream",
     "text": [
      "[*********************100%%**********************]  1 of 1 completed\n"
     ]
    },
    {
     "name": "stderr",
     "output_type": "stream",
     "text": [
      "C:\\Users\\Rohan Sheth\\AppData\\Local\\Temp\\ipykernel_6076\\223551119.py:10: PerformanceWarning: DataFrame is highly fragmented.  This is usually the result of calling `frame.insert` many times, which has poor performance.  Consider joining all columns at once using pd.concat(axis=1) instead. To get a de-fragmented frame, use `newframe = frame.copy()`\n",
      "  close_prices_df[symbol] = temp_df['Close']          #select only one column from df\n"
     ]
    },
    {
     "name": "stdout",
     "output_type": "stream",
     "text": [
      "[*********************100%%**********************]  1 of 1 completed\n"
     ]
    },
    {
     "name": "stderr",
     "output_type": "stream",
     "text": [
      "C:\\Users\\Rohan Sheth\\AppData\\Local\\Temp\\ipykernel_6076\\223551119.py:10: PerformanceWarning: DataFrame is highly fragmented.  This is usually the result of calling `frame.insert` many times, which has poor performance.  Consider joining all columns at once using pd.concat(axis=1) instead. To get a de-fragmented frame, use `newframe = frame.copy()`\n",
      "  close_prices_df[symbol] = temp_df['Close']          #select only one column from df\n"
     ]
    },
    {
     "name": "stdout",
     "output_type": "stream",
     "text": [
      "[*********************100%%**********************]  1 of 1 completed\n"
     ]
    },
    {
     "name": "stderr",
     "output_type": "stream",
     "text": [
      "C:\\Users\\Rohan Sheth\\AppData\\Local\\Temp\\ipykernel_6076\\223551119.py:10: PerformanceWarning: DataFrame is highly fragmented.  This is usually the result of calling `frame.insert` many times, which has poor performance.  Consider joining all columns at once using pd.concat(axis=1) instead. To get a de-fragmented frame, use `newframe = frame.copy()`\n",
      "  close_prices_df[symbol] = temp_df['Close']          #select only one column from df\n"
     ]
    },
    {
     "name": "stdout",
     "output_type": "stream",
     "text": [
      "[*********************100%%**********************]  1 of 1 completed\n"
     ]
    },
    {
     "name": "stderr",
     "output_type": "stream",
     "text": [
      "C:\\Users\\Rohan Sheth\\AppData\\Local\\Temp\\ipykernel_6076\\223551119.py:10: PerformanceWarning: DataFrame is highly fragmented.  This is usually the result of calling `frame.insert` many times, which has poor performance.  Consider joining all columns at once using pd.concat(axis=1) instead. To get a de-fragmented frame, use `newframe = frame.copy()`\n",
      "  close_prices_df[symbol] = temp_df['Close']          #select only one column from df\n"
     ]
    },
    {
     "name": "stdout",
     "output_type": "stream",
     "text": [
      "[*********************100%%**********************]  1 of 1 completed\n"
     ]
    },
    {
     "name": "stderr",
     "output_type": "stream",
     "text": [
      "C:\\Users\\Rohan Sheth\\AppData\\Local\\Temp\\ipykernel_6076\\223551119.py:10: PerformanceWarning: DataFrame is highly fragmented.  This is usually the result of calling `frame.insert` many times, which has poor performance.  Consider joining all columns at once using pd.concat(axis=1) instead. To get a de-fragmented frame, use `newframe = frame.copy()`\n",
      "  close_prices_df[symbol] = temp_df['Close']          #select only one column from df\n"
     ]
    },
    {
     "name": "stdout",
     "output_type": "stream",
     "text": [
      "[*********************100%%**********************]  1 of 1 completed\n"
     ]
    },
    {
     "name": "stderr",
     "output_type": "stream",
     "text": [
      "C:\\Users\\Rohan Sheth\\AppData\\Local\\Temp\\ipykernel_6076\\223551119.py:10: PerformanceWarning: DataFrame is highly fragmented.  This is usually the result of calling `frame.insert` many times, which has poor performance.  Consider joining all columns at once using pd.concat(axis=1) instead. To get a de-fragmented frame, use `newframe = frame.copy()`\n",
      "  close_prices_df[symbol] = temp_df['Close']          #select only one column from df\n"
     ]
    },
    {
     "name": "stdout",
     "output_type": "stream",
     "text": [
      "[*********************100%%**********************]  1 of 1 completed\n"
     ]
    },
    {
     "name": "stderr",
     "output_type": "stream",
     "text": [
      "C:\\Users\\Rohan Sheth\\AppData\\Local\\Temp\\ipykernel_6076\\223551119.py:10: PerformanceWarning: DataFrame is highly fragmented.  This is usually the result of calling `frame.insert` many times, which has poor performance.  Consider joining all columns at once using pd.concat(axis=1) instead. To get a de-fragmented frame, use `newframe = frame.copy()`\n",
      "  close_prices_df[symbol] = temp_df['Close']          #select only one column from df\n"
     ]
    },
    {
     "name": "stdout",
     "output_type": "stream",
     "text": [
      "[*********************100%%**********************]  1 of 1 completed\n"
     ]
    },
    {
     "name": "stderr",
     "output_type": "stream",
     "text": [
      "C:\\Users\\Rohan Sheth\\AppData\\Local\\Temp\\ipykernel_6076\\223551119.py:10: PerformanceWarning: DataFrame is highly fragmented.  This is usually the result of calling `frame.insert` many times, which has poor performance.  Consider joining all columns at once using pd.concat(axis=1) instead. To get a de-fragmented frame, use `newframe = frame.copy()`\n",
      "  close_prices_df[symbol] = temp_df['Close']          #select only one column from df\n"
     ]
    },
    {
     "name": "stdout",
     "output_type": "stream",
     "text": [
      "[*********************100%%**********************]  1 of 1 completed\n"
     ]
    },
    {
     "name": "stderr",
     "output_type": "stream",
     "text": [
      "C:\\Users\\Rohan Sheth\\AppData\\Local\\Temp\\ipykernel_6076\\223551119.py:10: PerformanceWarning: DataFrame is highly fragmented.  This is usually the result of calling `frame.insert` many times, which has poor performance.  Consider joining all columns at once using pd.concat(axis=1) instead. To get a de-fragmented frame, use `newframe = frame.copy()`\n",
      "  close_prices_df[symbol] = temp_df['Close']          #select only one column from df\n"
     ]
    },
    {
     "name": "stdout",
     "output_type": "stream",
     "text": [
      "[*********************100%%**********************]  1 of 1 completed\n"
     ]
    },
    {
     "name": "stderr",
     "output_type": "stream",
     "text": [
      "C:\\Users\\Rohan Sheth\\AppData\\Local\\Temp\\ipykernel_6076\\223551119.py:10: PerformanceWarning: DataFrame is highly fragmented.  This is usually the result of calling `frame.insert` many times, which has poor performance.  Consider joining all columns at once using pd.concat(axis=1) instead. To get a de-fragmented frame, use `newframe = frame.copy()`\n",
      "  close_prices_df[symbol] = temp_df['Close']          #select only one column from df\n"
     ]
    },
    {
     "name": "stdout",
     "output_type": "stream",
     "text": [
      "[*********************100%%**********************]  1 of 1 completed\n"
     ]
    },
    {
     "name": "stderr",
     "output_type": "stream",
     "text": [
      "C:\\Users\\Rohan Sheth\\AppData\\Local\\Temp\\ipykernel_6076\\223551119.py:10: PerformanceWarning: DataFrame is highly fragmented.  This is usually the result of calling `frame.insert` many times, which has poor performance.  Consider joining all columns at once using pd.concat(axis=1) instead. To get a de-fragmented frame, use `newframe = frame.copy()`\n",
      "  close_prices_df[symbol] = temp_df['Close']          #select only one column from df\n"
     ]
    },
    {
     "name": "stdout",
     "output_type": "stream",
     "text": [
      "[*********************100%%**********************]  1 of 1 completed\n"
     ]
    },
    {
     "name": "stderr",
     "output_type": "stream",
     "text": [
      "C:\\Users\\Rohan Sheth\\AppData\\Local\\Temp\\ipykernel_6076\\223551119.py:10: PerformanceWarning: DataFrame is highly fragmented.  This is usually the result of calling `frame.insert` many times, which has poor performance.  Consider joining all columns at once using pd.concat(axis=1) instead. To get a de-fragmented frame, use `newframe = frame.copy()`\n",
      "  close_prices_df[symbol] = temp_df['Close']          #select only one column from df\n"
     ]
    },
    {
     "name": "stdout",
     "output_type": "stream",
     "text": [
      "[*********************100%%**********************]  1 of 1 completed\n"
     ]
    },
    {
     "name": "stderr",
     "output_type": "stream",
     "text": [
      "C:\\Users\\Rohan Sheth\\AppData\\Local\\Temp\\ipykernel_6076\\223551119.py:10: PerformanceWarning: DataFrame is highly fragmented.  This is usually the result of calling `frame.insert` many times, which has poor performance.  Consider joining all columns at once using pd.concat(axis=1) instead. To get a de-fragmented frame, use `newframe = frame.copy()`\n",
      "  close_prices_df[symbol] = temp_df['Close']          #select only one column from df\n"
     ]
    },
    {
     "name": "stdout",
     "output_type": "stream",
     "text": [
      "[*********************100%%**********************]  1 of 1 completed\n"
     ]
    },
    {
     "name": "stderr",
     "output_type": "stream",
     "text": [
      "C:\\Users\\Rohan Sheth\\AppData\\Local\\Temp\\ipykernel_6076\\223551119.py:10: PerformanceWarning: DataFrame is highly fragmented.  This is usually the result of calling `frame.insert` many times, which has poor performance.  Consider joining all columns at once using pd.concat(axis=1) instead. To get a de-fragmented frame, use `newframe = frame.copy()`\n",
      "  close_prices_df[symbol] = temp_df['Close']          #select only one column from df\n"
     ]
    },
    {
     "name": "stdout",
     "output_type": "stream",
     "text": [
      "[*********************100%%**********************]  1 of 1 completed\n"
     ]
    },
    {
     "name": "stderr",
     "output_type": "stream",
     "text": [
      "C:\\Users\\Rohan Sheth\\AppData\\Local\\Temp\\ipykernel_6076\\223551119.py:10: PerformanceWarning: DataFrame is highly fragmented.  This is usually the result of calling `frame.insert` many times, which has poor performance.  Consider joining all columns at once using pd.concat(axis=1) instead. To get a de-fragmented frame, use `newframe = frame.copy()`\n",
      "  close_prices_df[symbol] = temp_df['Close']          #select only one column from df\n"
     ]
    },
    {
     "name": "stdout",
     "output_type": "stream",
     "text": [
      "[*********************100%%**********************]  1 of 1 completed\n"
     ]
    },
    {
     "name": "stderr",
     "output_type": "stream",
     "text": [
      "C:\\Users\\Rohan Sheth\\AppData\\Local\\Temp\\ipykernel_6076\\223551119.py:10: PerformanceWarning: DataFrame is highly fragmented.  This is usually the result of calling `frame.insert` many times, which has poor performance.  Consider joining all columns at once using pd.concat(axis=1) instead. To get a de-fragmented frame, use `newframe = frame.copy()`\n",
      "  close_prices_df[symbol] = temp_df['Close']          #select only one column from df\n"
     ]
    },
    {
     "name": "stdout",
     "output_type": "stream",
     "text": [
      "[*********************100%%**********************]  1 of 1 completed\n"
     ]
    },
    {
     "name": "stderr",
     "output_type": "stream",
     "text": [
      "C:\\Users\\Rohan Sheth\\AppData\\Local\\Temp\\ipykernel_6076\\223551119.py:10: PerformanceWarning: DataFrame is highly fragmented.  This is usually the result of calling `frame.insert` many times, which has poor performance.  Consider joining all columns at once using pd.concat(axis=1) instead. To get a de-fragmented frame, use `newframe = frame.copy()`\n",
      "  close_prices_df[symbol] = temp_df['Close']          #select only one column from df\n"
     ]
    },
    {
     "name": "stdout",
     "output_type": "stream",
     "text": [
      "[*********************100%%**********************]  1 of 1 completed\n"
     ]
    },
    {
     "name": "stderr",
     "output_type": "stream",
     "text": [
      "C:\\Users\\Rohan Sheth\\AppData\\Local\\Temp\\ipykernel_6076\\223551119.py:10: PerformanceWarning: DataFrame is highly fragmented.  This is usually the result of calling `frame.insert` many times, which has poor performance.  Consider joining all columns at once using pd.concat(axis=1) instead. To get a de-fragmented frame, use `newframe = frame.copy()`\n",
      "  close_prices_df[symbol] = temp_df['Close']          #select only one column from df\n"
     ]
    },
    {
     "name": "stdout",
     "output_type": "stream",
     "text": [
      "[*********************100%%**********************]  1 of 1 completed\n"
     ]
    },
    {
     "name": "stderr",
     "output_type": "stream",
     "text": [
      "C:\\Users\\Rohan Sheth\\AppData\\Local\\Temp\\ipykernel_6076\\223551119.py:10: PerformanceWarning: DataFrame is highly fragmented.  This is usually the result of calling `frame.insert` many times, which has poor performance.  Consider joining all columns at once using pd.concat(axis=1) instead. To get a de-fragmented frame, use `newframe = frame.copy()`\n",
      "  close_prices_df[symbol] = temp_df['Close']          #select only one column from df\n"
     ]
    },
    {
     "name": "stdout",
     "output_type": "stream",
     "text": [
      "[*********************100%%**********************]  1 of 1 completed\n"
     ]
    },
    {
     "name": "stderr",
     "output_type": "stream",
     "text": [
      "C:\\Users\\Rohan Sheth\\AppData\\Local\\Temp\\ipykernel_6076\\223551119.py:10: PerformanceWarning: DataFrame is highly fragmented.  This is usually the result of calling `frame.insert` many times, which has poor performance.  Consider joining all columns at once using pd.concat(axis=1) instead. To get a de-fragmented frame, use `newframe = frame.copy()`\n",
      "  close_prices_df[symbol] = temp_df['Close']          #select only one column from df\n"
     ]
    },
    {
     "name": "stdout",
     "output_type": "stream",
     "text": [
      "[*********************100%%**********************]  1 of 1 completed\n"
     ]
    },
    {
     "name": "stderr",
     "output_type": "stream",
     "text": [
      "C:\\Users\\Rohan Sheth\\AppData\\Local\\Temp\\ipykernel_6076\\223551119.py:10: PerformanceWarning: DataFrame is highly fragmented.  This is usually the result of calling `frame.insert` many times, which has poor performance.  Consider joining all columns at once using pd.concat(axis=1) instead. To get a de-fragmented frame, use `newframe = frame.copy()`\n",
      "  close_prices_df[symbol] = temp_df['Close']          #select only one column from df\n"
     ]
    },
    {
     "name": "stdout",
     "output_type": "stream",
     "text": [
      "[*********************100%%**********************]  1 of 1 completed\n"
     ]
    },
    {
     "name": "stderr",
     "output_type": "stream",
     "text": [
      "C:\\Users\\Rohan Sheth\\AppData\\Local\\Temp\\ipykernel_6076\\223551119.py:10: PerformanceWarning: DataFrame is highly fragmented.  This is usually the result of calling `frame.insert` many times, which has poor performance.  Consider joining all columns at once using pd.concat(axis=1) instead. To get a de-fragmented frame, use `newframe = frame.copy()`\n",
      "  close_prices_df[symbol] = temp_df['Close']          #select only one column from df\n"
     ]
    },
    {
     "name": "stdout",
     "output_type": "stream",
     "text": [
      "[*********************100%%**********************]  1 of 1 completed\n"
     ]
    },
    {
     "name": "stderr",
     "output_type": "stream",
     "text": [
      "C:\\Users\\Rohan Sheth\\AppData\\Local\\Temp\\ipykernel_6076\\223551119.py:10: PerformanceWarning: DataFrame is highly fragmented.  This is usually the result of calling `frame.insert` many times, which has poor performance.  Consider joining all columns at once using pd.concat(axis=1) instead. To get a de-fragmented frame, use `newframe = frame.copy()`\n",
      "  close_prices_df[symbol] = temp_df['Close']          #select only one column from df\n"
     ]
    },
    {
     "name": "stdout",
     "output_type": "stream",
     "text": [
      "[*********************100%%**********************]  1 of 1 completed\n"
     ]
    },
    {
     "name": "stderr",
     "output_type": "stream",
     "text": [
      "C:\\Users\\Rohan Sheth\\AppData\\Local\\Temp\\ipykernel_6076\\223551119.py:10: PerformanceWarning: DataFrame is highly fragmented.  This is usually the result of calling `frame.insert` many times, which has poor performance.  Consider joining all columns at once using pd.concat(axis=1) instead. To get a de-fragmented frame, use `newframe = frame.copy()`\n",
      "  close_prices_df[symbol] = temp_df['Close']          #select only one column from df\n"
     ]
    },
    {
     "name": "stdout",
     "output_type": "stream",
     "text": [
      "[*********************100%%**********************]  1 of 1 completed\n"
     ]
    },
    {
     "name": "stderr",
     "output_type": "stream",
     "text": [
      "C:\\Users\\Rohan Sheth\\AppData\\Local\\Temp\\ipykernel_6076\\223551119.py:10: PerformanceWarning: DataFrame is highly fragmented.  This is usually the result of calling `frame.insert` many times, which has poor performance.  Consider joining all columns at once using pd.concat(axis=1) instead. To get a de-fragmented frame, use `newframe = frame.copy()`\n",
      "  close_prices_df[symbol] = temp_df['Close']          #select only one column from df\n"
     ]
    },
    {
     "name": "stdout",
     "output_type": "stream",
     "text": [
      "[*********************100%%**********************]  1 of 1 completed\n"
     ]
    },
    {
     "name": "stderr",
     "output_type": "stream",
     "text": [
      "C:\\Users\\Rohan Sheth\\AppData\\Local\\Temp\\ipykernel_6076\\223551119.py:10: PerformanceWarning: DataFrame is highly fragmented.  This is usually the result of calling `frame.insert` many times, which has poor performance.  Consider joining all columns at once using pd.concat(axis=1) instead. To get a de-fragmented frame, use `newframe = frame.copy()`\n",
      "  close_prices_df[symbol] = temp_df['Close']          #select only one column from df\n"
     ]
    },
    {
     "name": "stdout",
     "output_type": "stream",
     "text": [
      "[*********************100%%**********************]  1 of 1 completed\n"
     ]
    },
    {
     "name": "stderr",
     "output_type": "stream",
     "text": [
      "C:\\Users\\Rohan Sheth\\AppData\\Local\\Temp\\ipykernel_6076\\223551119.py:10: PerformanceWarning: DataFrame is highly fragmented.  This is usually the result of calling `frame.insert` many times, which has poor performance.  Consider joining all columns at once using pd.concat(axis=1) instead. To get a de-fragmented frame, use `newframe = frame.copy()`\n",
      "  close_prices_df[symbol] = temp_df['Close']          #select only one column from df\n"
     ]
    },
    {
     "name": "stdout",
     "output_type": "stream",
     "text": [
      "[*********************100%%**********************]  1 of 1 completed\n"
     ]
    },
    {
     "name": "stderr",
     "output_type": "stream",
     "text": [
      "C:\\Users\\Rohan Sheth\\AppData\\Local\\Temp\\ipykernel_6076\\223551119.py:10: PerformanceWarning: DataFrame is highly fragmented.  This is usually the result of calling `frame.insert` many times, which has poor performance.  Consider joining all columns at once using pd.concat(axis=1) instead. To get a de-fragmented frame, use `newframe = frame.copy()`\n",
      "  close_prices_df[symbol] = temp_df['Close']          #select only one column from df\n"
     ]
    },
    {
     "name": "stdout",
     "output_type": "stream",
     "text": [
      "[*********************100%%**********************]  1 of 1 completed\n"
     ]
    },
    {
     "name": "stderr",
     "output_type": "stream",
     "text": [
      "C:\\Users\\Rohan Sheth\\AppData\\Local\\Temp\\ipykernel_6076\\223551119.py:10: PerformanceWarning: DataFrame is highly fragmented.  This is usually the result of calling `frame.insert` many times, which has poor performance.  Consider joining all columns at once using pd.concat(axis=1) instead. To get a de-fragmented frame, use `newframe = frame.copy()`\n",
      "  close_prices_df[symbol] = temp_df['Close']          #select only one column from df\n"
     ]
    },
    {
     "name": "stdout",
     "output_type": "stream",
     "text": [
      "[*********************100%%**********************]  1 of 1 completed\n"
     ]
    },
    {
     "name": "stderr",
     "output_type": "stream",
     "text": [
      "C:\\Users\\Rohan Sheth\\AppData\\Local\\Temp\\ipykernel_6076\\223551119.py:10: PerformanceWarning: DataFrame is highly fragmented.  This is usually the result of calling `frame.insert` many times, which has poor performance.  Consider joining all columns at once using pd.concat(axis=1) instead. To get a de-fragmented frame, use `newframe = frame.copy()`\n",
      "  close_prices_df[symbol] = temp_df['Close']          #select only one column from df\n"
     ]
    },
    {
     "name": "stdout",
     "output_type": "stream",
     "text": [
      "[*********************100%%**********************]  1 of 1 completed\n"
     ]
    },
    {
     "name": "stderr",
     "output_type": "stream",
     "text": [
      "C:\\Users\\Rohan Sheth\\AppData\\Local\\Temp\\ipykernel_6076\\223551119.py:10: PerformanceWarning: DataFrame is highly fragmented.  This is usually the result of calling `frame.insert` many times, which has poor performance.  Consider joining all columns at once using pd.concat(axis=1) instead. To get a de-fragmented frame, use `newframe = frame.copy()`\n",
      "  close_prices_df[symbol] = temp_df['Close']          #select only one column from df\n"
     ]
    },
    {
     "name": "stdout",
     "output_type": "stream",
     "text": [
      "[*********************100%%**********************]  1 of 1 completed\n"
     ]
    },
    {
     "name": "stderr",
     "output_type": "stream",
     "text": [
      "C:\\Users\\Rohan Sheth\\AppData\\Local\\Temp\\ipykernel_6076\\223551119.py:10: PerformanceWarning: DataFrame is highly fragmented.  This is usually the result of calling `frame.insert` many times, which has poor performance.  Consider joining all columns at once using pd.concat(axis=1) instead. To get a de-fragmented frame, use `newframe = frame.copy()`\n",
      "  close_prices_df[symbol] = temp_df['Close']          #select only one column from df\n"
     ]
    },
    {
     "name": "stdout",
     "output_type": "stream",
     "text": [
      "[*********************100%%**********************]  1 of 1 completed\n"
     ]
    },
    {
     "name": "stderr",
     "output_type": "stream",
     "text": [
      "C:\\Users\\Rohan Sheth\\AppData\\Local\\Temp\\ipykernel_6076\\223551119.py:10: PerformanceWarning: DataFrame is highly fragmented.  This is usually the result of calling `frame.insert` many times, which has poor performance.  Consider joining all columns at once using pd.concat(axis=1) instead. To get a de-fragmented frame, use `newframe = frame.copy()`\n",
      "  close_prices_df[symbol] = temp_df['Close']          #select only one column from df\n"
     ]
    },
    {
     "name": "stdout",
     "output_type": "stream",
     "text": [
      "[*********************100%%**********************]  1 of 1 completed\n"
     ]
    },
    {
     "name": "stderr",
     "output_type": "stream",
     "text": [
      "C:\\Users\\Rohan Sheth\\AppData\\Local\\Temp\\ipykernel_6076\\223551119.py:10: PerformanceWarning: DataFrame is highly fragmented.  This is usually the result of calling `frame.insert` many times, which has poor performance.  Consider joining all columns at once using pd.concat(axis=1) instead. To get a de-fragmented frame, use `newframe = frame.copy()`\n",
      "  close_prices_df[symbol] = temp_df['Close']          #select only one column from df\n"
     ]
    },
    {
     "name": "stdout",
     "output_type": "stream",
     "text": [
      "[*********************100%%**********************]  1 of 1 completed\n"
     ]
    },
    {
     "name": "stderr",
     "output_type": "stream",
     "text": [
      "C:\\Users\\Rohan Sheth\\AppData\\Local\\Temp\\ipykernel_6076\\223551119.py:10: PerformanceWarning: DataFrame is highly fragmented.  This is usually the result of calling `frame.insert` many times, which has poor performance.  Consider joining all columns at once using pd.concat(axis=1) instead. To get a de-fragmented frame, use `newframe = frame.copy()`\n",
      "  close_prices_df[symbol] = temp_df['Close']          #select only one column from df\n"
     ]
    },
    {
     "name": "stdout",
     "output_type": "stream",
     "text": [
      "[*********************100%%**********************]  1 of 1 completed\n"
     ]
    },
    {
     "name": "stderr",
     "output_type": "stream",
     "text": [
      "C:\\Users\\Rohan Sheth\\AppData\\Local\\Temp\\ipykernel_6076\\223551119.py:10: PerformanceWarning: DataFrame is highly fragmented.  This is usually the result of calling `frame.insert` many times, which has poor performance.  Consider joining all columns at once using pd.concat(axis=1) instead. To get a de-fragmented frame, use `newframe = frame.copy()`\n",
      "  close_prices_df[symbol] = temp_df['Close']          #select only one column from df\n"
     ]
    },
    {
     "name": "stdout",
     "output_type": "stream",
     "text": [
      "[*********************100%%**********************]  1 of 1 completed\n"
     ]
    },
    {
     "name": "stderr",
     "output_type": "stream",
     "text": [
      "C:\\Users\\Rohan Sheth\\AppData\\Local\\Temp\\ipykernel_6076\\223551119.py:10: PerformanceWarning: DataFrame is highly fragmented.  This is usually the result of calling `frame.insert` many times, which has poor performance.  Consider joining all columns at once using pd.concat(axis=1) instead. To get a de-fragmented frame, use `newframe = frame.copy()`\n",
      "  close_prices_df[symbol] = temp_df['Close']          #select only one column from df\n"
     ]
    },
    {
     "name": "stdout",
     "output_type": "stream",
     "text": [
      "[*********************100%%**********************]  1 of 1 completed\n"
     ]
    },
    {
     "name": "stderr",
     "output_type": "stream",
     "text": [
      "C:\\Users\\Rohan Sheth\\AppData\\Local\\Temp\\ipykernel_6076\\223551119.py:10: PerformanceWarning: DataFrame is highly fragmented.  This is usually the result of calling `frame.insert` many times, which has poor performance.  Consider joining all columns at once using pd.concat(axis=1) instead. To get a de-fragmented frame, use `newframe = frame.copy()`\n",
      "  close_prices_df[symbol] = temp_df['Close']          #select only one column from df\n"
     ]
    },
    {
     "name": "stdout",
     "output_type": "stream",
     "text": [
      "[*********************100%%**********************]  1 of 1 completed\n"
     ]
    },
    {
     "name": "stderr",
     "output_type": "stream",
     "text": [
      "C:\\Users\\Rohan Sheth\\AppData\\Local\\Temp\\ipykernel_6076\\223551119.py:10: PerformanceWarning: DataFrame is highly fragmented.  This is usually the result of calling `frame.insert` many times, which has poor performance.  Consider joining all columns at once using pd.concat(axis=1) instead. To get a de-fragmented frame, use `newframe = frame.copy()`\n",
      "  close_prices_df[symbol] = temp_df['Close']          #select only one column from df\n"
     ]
    },
    {
     "name": "stdout",
     "output_type": "stream",
     "text": [
      "[*********************100%%**********************]  1 of 1 completed\n"
     ]
    },
    {
     "name": "stderr",
     "output_type": "stream",
     "text": [
      "C:\\Users\\Rohan Sheth\\AppData\\Local\\Temp\\ipykernel_6076\\223551119.py:10: PerformanceWarning: DataFrame is highly fragmented.  This is usually the result of calling `frame.insert` many times, which has poor performance.  Consider joining all columns at once using pd.concat(axis=1) instead. To get a de-fragmented frame, use `newframe = frame.copy()`\n",
      "  close_prices_df[symbol] = temp_df['Close']          #select only one column from df\n"
     ]
    },
    {
     "name": "stdout",
     "output_type": "stream",
     "text": [
      "[*********************100%%**********************]  1 of 1 completed\n"
     ]
    },
    {
     "name": "stderr",
     "output_type": "stream",
     "text": [
      "C:\\Users\\Rohan Sheth\\AppData\\Local\\Temp\\ipykernel_6076\\223551119.py:10: PerformanceWarning: DataFrame is highly fragmented.  This is usually the result of calling `frame.insert` many times, which has poor performance.  Consider joining all columns at once using pd.concat(axis=1) instead. To get a de-fragmented frame, use `newframe = frame.copy()`\n",
      "  close_prices_df[symbol] = temp_df['Close']          #select only one column from df\n"
     ]
    },
    {
     "name": "stdout",
     "output_type": "stream",
     "text": [
      "[*********************100%%**********************]  1 of 1 completed\n"
     ]
    },
    {
     "name": "stderr",
     "output_type": "stream",
     "text": [
      "C:\\Users\\Rohan Sheth\\AppData\\Local\\Temp\\ipykernel_6076\\223551119.py:10: PerformanceWarning: DataFrame is highly fragmented.  This is usually the result of calling `frame.insert` many times, which has poor performance.  Consider joining all columns at once using pd.concat(axis=1) instead. To get a de-fragmented frame, use `newframe = frame.copy()`\n",
      "  close_prices_df[symbol] = temp_df['Close']          #select only one column from df\n"
     ]
    },
    {
     "name": "stdout",
     "output_type": "stream",
     "text": [
      "[*********************100%%**********************]  1 of 1 completed\n"
     ]
    },
    {
     "name": "stderr",
     "output_type": "stream",
     "text": [
      "C:\\Users\\Rohan Sheth\\AppData\\Local\\Temp\\ipykernel_6076\\223551119.py:10: PerformanceWarning: DataFrame is highly fragmented.  This is usually the result of calling `frame.insert` many times, which has poor performance.  Consider joining all columns at once using pd.concat(axis=1) instead. To get a de-fragmented frame, use `newframe = frame.copy()`\n",
      "  close_prices_df[symbol] = temp_df['Close']          #select only one column from df\n"
     ]
    },
    {
     "name": "stdout",
     "output_type": "stream",
     "text": [
      "[*********************100%%**********************]  1 of 1 completed\n"
     ]
    },
    {
     "name": "stderr",
     "output_type": "stream",
     "text": [
      "C:\\Users\\Rohan Sheth\\AppData\\Local\\Temp\\ipykernel_6076\\223551119.py:10: PerformanceWarning: DataFrame is highly fragmented.  This is usually the result of calling `frame.insert` many times, which has poor performance.  Consider joining all columns at once using pd.concat(axis=1) instead. To get a de-fragmented frame, use `newframe = frame.copy()`\n",
      "  close_prices_df[symbol] = temp_df['Close']          #select only one column from df\n"
     ]
    },
    {
     "name": "stdout",
     "output_type": "stream",
     "text": [
      "[*********************100%%**********************]  1 of 1 completed\n"
     ]
    },
    {
     "name": "stderr",
     "output_type": "stream",
     "text": [
      "C:\\Users\\Rohan Sheth\\AppData\\Local\\Temp\\ipykernel_6076\\223551119.py:10: PerformanceWarning: DataFrame is highly fragmented.  This is usually the result of calling `frame.insert` many times, which has poor performance.  Consider joining all columns at once using pd.concat(axis=1) instead. To get a de-fragmented frame, use `newframe = frame.copy()`\n",
      "  close_prices_df[symbol] = temp_df['Close']          #select only one column from df\n"
     ]
    },
    {
     "name": "stdout",
     "output_type": "stream",
     "text": [
      "[*********************100%%**********************]  1 of 1 completed\n"
     ]
    },
    {
     "name": "stderr",
     "output_type": "stream",
     "text": [
      "C:\\Users\\Rohan Sheth\\AppData\\Local\\Temp\\ipykernel_6076\\223551119.py:10: PerformanceWarning: DataFrame is highly fragmented.  This is usually the result of calling `frame.insert` many times, which has poor performance.  Consider joining all columns at once using pd.concat(axis=1) instead. To get a de-fragmented frame, use `newframe = frame.copy()`\n",
      "  close_prices_df[symbol] = temp_df['Close']          #select only one column from df\n"
     ]
    },
    {
     "name": "stdout",
     "output_type": "stream",
     "text": [
      "[*********************100%%**********************]  1 of 1 completed\n"
     ]
    },
    {
     "name": "stderr",
     "output_type": "stream",
     "text": [
      "C:\\Users\\Rohan Sheth\\AppData\\Local\\Temp\\ipykernel_6076\\223551119.py:10: PerformanceWarning: DataFrame is highly fragmented.  This is usually the result of calling `frame.insert` many times, which has poor performance.  Consider joining all columns at once using pd.concat(axis=1) instead. To get a de-fragmented frame, use `newframe = frame.copy()`\n",
      "  close_prices_df[symbol] = temp_df['Close']          #select only one column from df\n"
     ]
    },
    {
     "name": "stdout",
     "output_type": "stream",
     "text": [
      "[*********************100%%**********************]  1 of 1 completed\n"
     ]
    },
    {
     "name": "stderr",
     "output_type": "stream",
     "text": [
      "C:\\Users\\Rohan Sheth\\AppData\\Local\\Temp\\ipykernel_6076\\223551119.py:10: PerformanceWarning: DataFrame is highly fragmented.  This is usually the result of calling `frame.insert` many times, which has poor performance.  Consider joining all columns at once using pd.concat(axis=1) instead. To get a de-fragmented frame, use `newframe = frame.copy()`\n",
      "  close_prices_df[symbol] = temp_df['Close']          #select only one column from df\n"
     ]
    },
    {
     "name": "stdout",
     "output_type": "stream",
     "text": [
      "[*********************100%%**********************]  1 of 1 completed\n"
     ]
    },
    {
     "name": "stderr",
     "output_type": "stream",
     "text": [
      "C:\\Users\\Rohan Sheth\\AppData\\Local\\Temp\\ipykernel_6076\\223551119.py:10: PerformanceWarning: DataFrame is highly fragmented.  This is usually the result of calling `frame.insert` many times, which has poor performance.  Consider joining all columns at once using pd.concat(axis=1) instead. To get a de-fragmented frame, use `newframe = frame.copy()`\n",
      "  close_prices_df[symbol] = temp_df['Close']          #select only one column from df\n"
     ]
    },
    {
     "name": "stdout",
     "output_type": "stream",
     "text": [
      "[*********************100%%**********************]  1 of 1 completed\n"
     ]
    },
    {
     "name": "stderr",
     "output_type": "stream",
     "text": [
      "C:\\Users\\Rohan Sheth\\AppData\\Local\\Temp\\ipykernel_6076\\223551119.py:10: PerformanceWarning: DataFrame is highly fragmented.  This is usually the result of calling `frame.insert` many times, which has poor performance.  Consider joining all columns at once using pd.concat(axis=1) instead. To get a de-fragmented frame, use `newframe = frame.copy()`\n",
      "  close_prices_df[symbol] = temp_df['Close']          #select only one column from df\n"
     ]
    },
    {
     "name": "stdout",
     "output_type": "stream",
     "text": [
      "[*********************100%%**********************]  1 of 1 completed\n"
     ]
    },
    {
     "name": "stderr",
     "output_type": "stream",
     "text": [
      "C:\\Users\\Rohan Sheth\\AppData\\Local\\Temp\\ipykernel_6076\\223551119.py:10: PerformanceWarning: DataFrame is highly fragmented.  This is usually the result of calling `frame.insert` many times, which has poor performance.  Consider joining all columns at once using pd.concat(axis=1) instead. To get a de-fragmented frame, use `newframe = frame.copy()`\n",
      "  close_prices_df[symbol] = temp_df['Close']          #select only one column from df\n"
     ]
    },
    {
     "name": "stdout",
     "output_type": "stream",
     "text": [
      "[*********************100%%**********************]  1 of 1 completed\n"
     ]
    },
    {
     "name": "stderr",
     "output_type": "stream",
     "text": [
      "C:\\Users\\Rohan Sheth\\AppData\\Local\\Temp\\ipykernel_6076\\223551119.py:10: PerformanceWarning: DataFrame is highly fragmented.  This is usually the result of calling `frame.insert` many times, which has poor performance.  Consider joining all columns at once using pd.concat(axis=1) instead. To get a de-fragmented frame, use `newframe = frame.copy()`\n",
      "  close_prices_df[symbol] = temp_df['Close']          #select only one column from df\n"
     ]
    },
    {
     "name": "stdout",
     "output_type": "stream",
     "text": [
      "[*********************100%%**********************]  1 of 1 completed\n"
     ]
    },
    {
     "name": "stderr",
     "output_type": "stream",
     "text": [
      "C:\\Users\\Rohan Sheth\\AppData\\Local\\Temp\\ipykernel_6076\\223551119.py:10: PerformanceWarning: DataFrame is highly fragmented.  This is usually the result of calling `frame.insert` many times, which has poor performance.  Consider joining all columns at once using pd.concat(axis=1) instead. To get a de-fragmented frame, use `newframe = frame.copy()`\n",
      "  close_prices_df[symbol] = temp_df['Close']          #select only one column from df\n"
     ]
    },
    {
     "name": "stdout",
     "output_type": "stream",
     "text": [
      "[*********************100%%**********************]  1 of 1 completed\n"
     ]
    },
    {
     "name": "stderr",
     "output_type": "stream",
     "text": [
      "C:\\Users\\Rohan Sheth\\AppData\\Local\\Temp\\ipykernel_6076\\223551119.py:10: PerformanceWarning: DataFrame is highly fragmented.  This is usually the result of calling `frame.insert` many times, which has poor performance.  Consider joining all columns at once using pd.concat(axis=1) instead. To get a de-fragmented frame, use `newframe = frame.copy()`\n",
      "  close_prices_df[symbol] = temp_df['Close']          #select only one column from df\n"
     ]
    },
    {
     "name": "stdout",
     "output_type": "stream",
     "text": [
      "[*********************100%%**********************]  1 of 1 completed\n"
     ]
    },
    {
     "name": "stderr",
     "output_type": "stream",
     "text": [
      "C:\\Users\\Rohan Sheth\\AppData\\Local\\Temp\\ipykernel_6076\\223551119.py:10: PerformanceWarning: DataFrame is highly fragmented.  This is usually the result of calling `frame.insert` many times, which has poor performance.  Consider joining all columns at once using pd.concat(axis=1) instead. To get a de-fragmented frame, use `newframe = frame.copy()`\n",
      "  close_prices_df[symbol] = temp_df['Close']          #select only one column from df\n"
     ]
    },
    {
     "name": "stdout",
     "output_type": "stream",
     "text": [
      "[*********************100%%**********************]  1 of 1 completed\n"
     ]
    },
    {
     "name": "stderr",
     "output_type": "stream",
     "text": [
      "C:\\Users\\Rohan Sheth\\AppData\\Local\\Temp\\ipykernel_6076\\223551119.py:10: PerformanceWarning: DataFrame is highly fragmented.  This is usually the result of calling `frame.insert` many times, which has poor performance.  Consider joining all columns at once using pd.concat(axis=1) instead. To get a de-fragmented frame, use `newframe = frame.copy()`\n",
      "  close_prices_df[symbol] = temp_df['Close']          #select only one column from df\n"
     ]
    },
    {
     "name": "stdout",
     "output_type": "stream",
     "text": [
      "[*********************100%%**********************]  1 of 1 completed\n"
     ]
    },
    {
     "name": "stderr",
     "output_type": "stream",
     "text": [
      "C:\\Users\\Rohan Sheth\\AppData\\Local\\Temp\\ipykernel_6076\\223551119.py:10: PerformanceWarning: DataFrame is highly fragmented.  This is usually the result of calling `frame.insert` many times, which has poor performance.  Consider joining all columns at once using pd.concat(axis=1) instead. To get a de-fragmented frame, use `newframe = frame.copy()`\n",
      "  close_prices_df[symbol] = temp_df['Close']          #select only one column from df\n"
     ]
    },
    {
     "name": "stdout",
     "output_type": "stream",
     "text": [
      "[*********************100%%**********************]  1 of 1 completed\n"
     ]
    },
    {
     "name": "stderr",
     "output_type": "stream",
     "text": [
      "C:\\Users\\Rohan Sheth\\AppData\\Local\\Temp\\ipykernel_6076\\223551119.py:10: PerformanceWarning: DataFrame is highly fragmented.  This is usually the result of calling `frame.insert` many times, which has poor performance.  Consider joining all columns at once using pd.concat(axis=1) instead. To get a de-fragmented frame, use `newframe = frame.copy()`\n",
      "  close_prices_df[symbol] = temp_df['Close']          #select only one column from df\n"
     ]
    },
    {
     "name": "stdout",
     "output_type": "stream",
     "text": [
      "[*********************100%%**********************]  1 of 1 completed\n"
     ]
    },
    {
     "name": "stderr",
     "output_type": "stream",
     "text": [
      "C:\\Users\\Rohan Sheth\\AppData\\Local\\Temp\\ipykernel_6076\\223551119.py:10: PerformanceWarning: DataFrame is highly fragmented.  This is usually the result of calling `frame.insert` many times, which has poor performance.  Consider joining all columns at once using pd.concat(axis=1) instead. To get a de-fragmented frame, use `newframe = frame.copy()`\n",
      "  close_prices_df[symbol] = temp_df['Close']          #select only one column from df\n"
     ]
    },
    {
     "name": "stdout",
     "output_type": "stream",
     "text": [
      "[*********************100%%**********************]  1 of 1 completed\n"
     ]
    },
    {
     "name": "stderr",
     "output_type": "stream",
     "text": [
      "C:\\Users\\Rohan Sheth\\AppData\\Local\\Temp\\ipykernel_6076\\223551119.py:10: PerformanceWarning: DataFrame is highly fragmented.  This is usually the result of calling `frame.insert` many times, which has poor performance.  Consider joining all columns at once using pd.concat(axis=1) instead. To get a de-fragmented frame, use `newframe = frame.copy()`\n",
      "  close_prices_df[symbol] = temp_df['Close']          #select only one column from df\n"
     ]
    },
    {
     "name": "stdout",
     "output_type": "stream",
     "text": [
      "[*********************100%%**********************]  1 of 1 completed\n"
     ]
    },
    {
     "name": "stderr",
     "output_type": "stream",
     "text": [
      "C:\\Users\\Rohan Sheth\\AppData\\Local\\Temp\\ipykernel_6076\\223551119.py:10: PerformanceWarning: DataFrame is highly fragmented.  This is usually the result of calling `frame.insert` many times, which has poor performance.  Consider joining all columns at once using pd.concat(axis=1) instead. To get a de-fragmented frame, use `newframe = frame.copy()`\n",
      "  close_prices_df[symbol] = temp_df['Close']          #select only one column from df\n"
     ]
    },
    {
     "name": "stdout",
     "output_type": "stream",
     "text": [
      "[*********************100%%**********************]  1 of 1 completed\n"
     ]
    },
    {
     "name": "stderr",
     "output_type": "stream",
     "text": [
      "C:\\Users\\Rohan Sheth\\AppData\\Local\\Temp\\ipykernel_6076\\223551119.py:10: PerformanceWarning: DataFrame is highly fragmented.  This is usually the result of calling `frame.insert` many times, which has poor performance.  Consider joining all columns at once using pd.concat(axis=1) instead. To get a de-fragmented frame, use `newframe = frame.copy()`\n",
      "  close_prices_df[symbol] = temp_df['Close']          #select only one column from df\n"
     ]
    },
    {
     "name": "stdout",
     "output_type": "stream",
     "text": [
      "[*********************100%%**********************]  1 of 1 completed\n"
     ]
    },
    {
     "name": "stderr",
     "output_type": "stream",
     "text": [
      "C:\\Users\\Rohan Sheth\\AppData\\Local\\Temp\\ipykernel_6076\\223551119.py:10: PerformanceWarning: DataFrame is highly fragmented.  This is usually the result of calling `frame.insert` many times, which has poor performance.  Consider joining all columns at once using pd.concat(axis=1) instead. To get a de-fragmented frame, use `newframe = frame.copy()`\n",
      "  close_prices_df[symbol] = temp_df['Close']          #select only one column from df\n"
     ]
    },
    {
     "name": "stdout",
     "output_type": "stream",
     "text": [
      "[*********************100%%**********************]  1 of 1 completed\n"
     ]
    },
    {
     "name": "stderr",
     "output_type": "stream",
     "text": [
      "C:\\Users\\Rohan Sheth\\AppData\\Local\\Temp\\ipykernel_6076\\223551119.py:10: PerformanceWarning: DataFrame is highly fragmented.  This is usually the result of calling `frame.insert` many times, which has poor performance.  Consider joining all columns at once using pd.concat(axis=1) instead. To get a de-fragmented frame, use `newframe = frame.copy()`\n",
      "  close_prices_df[symbol] = temp_df['Close']          #select only one column from df\n"
     ]
    },
    {
     "name": "stdout",
     "output_type": "stream",
     "text": [
      "[*********************100%%**********************]  1 of 1 completed\n"
     ]
    },
    {
     "name": "stderr",
     "output_type": "stream",
     "text": [
      "C:\\Users\\Rohan Sheth\\AppData\\Local\\Temp\\ipykernel_6076\\223551119.py:10: PerformanceWarning: DataFrame is highly fragmented.  This is usually the result of calling `frame.insert` many times, which has poor performance.  Consider joining all columns at once using pd.concat(axis=1) instead. To get a de-fragmented frame, use `newframe = frame.copy()`\n",
      "  close_prices_df[symbol] = temp_df['Close']          #select only one column from df\n"
     ]
    },
    {
     "name": "stdout",
     "output_type": "stream",
     "text": [
      "[*********************100%%**********************]  1 of 1 completed\n"
     ]
    },
    {
     "name": "stderr",
     "output_type": "stream",
     "text": [
      "C:\\Users\\Rohan Sheth\\AppData\\Local\\Temp\\ipykernel_6076\\223551119.py:10: PerformanceWarning: DataFrame is highly fragmented.  This is usually the result of calling `frame.insert` many times, which has poor performance.  Consider joining all columns at once using pd.concat(axis=1) instead. To get a de-fragmented frame, use `newframe = frame.copy()`\n",
      "  close_prices_df[symbol] = temp_df['Close']          #select only one column from df\n"
     ]
    },
    {
     "name": "stdout",
     "output_type": "stream",
     "text": [
      "[*********************100%%**********************]  1 of 1 completed\n"
     ]
    },
    {
     "name": "stderr",
     "output_type": "stream",
     "text": [
      "C:\\Users\\Rohan Sheth\\AppData\\Local\\Temp\\ipykernel_6076\\223551119.py:10: PerformanceWarning: DataFrame is highly fragmented.  This is usually the result of calling `frame.insert` many times, which has poor performance.  Consider joining all columns at once using pd.concat(axis=1) instead. To get a de-fragmented frame, use `newframe = frame.copy()`\n",
      "  close_prices_df[symbol] = temp_df['Close']          #select only one column from df\n"
     ]
    },
    {
     "name": "stdout",
     "output_type": "stream",
     "text": [
      "[*********************100%%**********************]  1 of 1 completed\n"
     ]
    },
    {
     "name": "stderr",
     "output_type": "stream",
     "text": [
      "C:\\Users\\Rohan Sheth\\AppData\\Local\\Temp\\ipykernel_6076\\223551119.py:10: PerformanceWarning: DataFrame is highly fragmented.  This is usually the result of calling `frame.insert` many times, which has poor performance.  Consider joining all columns at once using pd.concat(axis=1) instead. To get a de-fragmented frame, use `newframe = frame.copy()`\n",
      "  close_prices_df[symbol] = temp_df['Close']          #select only one column from df\n"
     ]
    },
    {
     "name": "stdout",
     "output_type": "stream",
     "text": [
      "[*********************100%%**********************]  1 of 1 completed\n"
     ]
    },
    {
     "name": "stderr",
     "output_type": "stream",
     "text": [
      "C:\\Users\\Rohan Sheth\\AppData\\Local\\Temp\\ipykernel_6076\\223551119.py:10: PerformanceWarning: DataFrame is highly fragmented.  This is usually the result of calling `frame.insert` many times, which has poor performance.  Consider joining all columns at once using pd.concat(axis=1) instead. To get a de-fragmented frame, use `newframe = frame.copy()`\n",
      "  close_prices_df[symbol] = temp_df['Close']          #select only one column from df\n"
     ]
    },
    {
     "name": "stdout",
     "output_type": "stream",
     "text": [
      "[*********************100%%**********************]  1 of 1 completed\n"
     ]
    },
    {
     "name": "stderr",
     "output_type": "stream",
     "text": [
      "C:\\Users\\Rohan Sheth\\AppData\\Local\\Temp\\ipykernel_6076\\223551119.py:10: PerformanceWarning: DataFrame is highly fragmented.  This is usually the result of calling `frame.insert` many times, which has poor performance.  Consider joining all columns at once using pd.concat(axis=1) instead. To get a de-fragmented frame, use `newframe = frame.copy()`\n",
      "  close_prices_df[symbol] = temp_df['Close']          #select only one column from df\n"
     ]
    },
    {
     "name": "stdout",
     "output_type": "stream",
     "text": [
      "[*********************100%%**********************]  1 of 1 completed\n"
     ]
    },
    {
     "name": "stderr",
     "output_type": "stream",
     "text": [
      "C:\\Users\\Rohan Sheth\\AppData\\Local\\Temp\\ipykernel_6076\\223551119.py:10: PerformanceWarning: DataFrame is highly fragmented.  This is usually the result of calling `frame.insert` many times, which has poor performance.  Consider joining all columns at once using pd.concat(axis=1) instead. To get a de-fragmented frame, use `newframe = frame.copy()`\n",
      "  close_prices_df[symbol] = temp_df['Close']          #select only one column from df\n"
     ]
    },
    {
     "name": "stdout",
     "output_type": "stream",
     "text": [
      "[*********************100%%**********************]  1 of 1 completed\n"
     ]
    },
    {
     "name": "stderr",
     "output_type": "stream",
     "text": [
      "C:\\Users\\Rohan Sheth\\AppData\\Local\\Temp\\ipykernel_6076\\223551119.py:10: PerformanceWarning: DataFrame is highly fragmented.  This is usually the result of calling `frame.insert` many times, which has poor performance.  Consider joining all columns at once using pd.concat(axis=1) instead. To get a de-fragmented frame, use `newframe = frame.copy()`\n",
      "  close_prices_df[symbol] = temp_df['Close']          #select only one column from df\n"
     ]
    },
    {
     "name": "stdout",
     "output_type": "stream",
     "text": [
      "[*********************100%%**********************]  1 of 1 completed\n"
     ]
    },
    {
     "name": "stderr",
     "output_type": "stream",
     "text": [
      "C:\\Users\\Rohan Sheth\\AppData\\Local\\Temp\\ipykernel_6076\\223551119.py:10: PerformanceWarning: DataFrame is highly fragmented.  This is usually the result of calling `frame.insert` many times, which has poor performance.  Consider joining all columns at once using pd.concat(axis=1) instead. To get a de-fragmented frame, use `newframe = frame.copy()`\n",
      "  close_prices_df[symbol] = temp_df['Close']          #select only one column from df\n"
     ]
    },
    {
     "name": "stdout",
     "output_type": "stream",
     "text": [
      "[*********************100%%**********************]  1 of 1 completed\n"
     ]
    },
    {
     "name": "stderr",
     "output_type": "stream",
     "text": [
      "C:\\Users\\Rohan Sheth\\AppData\\Local\\Temp\\ipykernel_6076\\223551119.py:10: PerformanceWarning: DataFrame is highly fragmented.  This is usually the result of calling `frame.insert` many times, which has poor performance.  Consider joining all columns at once using pd.concat(axis=1) instead. To get a de-fragmented frame, use `newframe = frame.copy()`\n",
      "  close_prices_df[symbol] = temp_df['Close']          #select only one column from df\n"
     ]
    },
    {
     "name": "stdout",
     "output_type": "stream",
     "text": [
      "[*********************100%%**********************]  1 of 1 completed\n"
     ]
    },
    {
     "name": "stderr",
     "output_type": "stream",
     "text": [
      "C:\\Users\\Rohan Sheth\\AppData\\Local\\Temp\\ipykernel_6076\\223551119.py:10: PerformanceWarning: DataFrame is highly fragmented.  This is usually the result of calling `frame.insert` many times, which has poor performance.  Consider joining all columns at once using pd.concat(axis=1) instead. To get a de-fragmented frame, use `newframe = frame.copy()`\n",
      "  close_prices_df[symbol] = temp_df['Close']          #select only one column from df\n"
     ]
    },
    {
     "name": "stdout",
     "output_type": "stream",
     "text": [
      "[*********************100%%**********************]  1 of 1 completed\n"
     ]
    },
    {
     "name": "stderr",
     "output_type": "stream",
     "text": [
      "C:\\Users\\Rohan Sheth\\AppData\\Local\\Temp\\ipykernel_6076\\223551119.py:10: PerformanceWarning: DataFrame is highly fragmented.  This is usually the result of calling `frame.insert` many times, which has poor performance.  Consider joining all columns at once using pd.concat(axis=1) instead. To get a de-fragmented frame, use `newframe = frame.copy()`\n",
      "  close_prices_df[symbol] = temp_df['Close']          #select only one column from df\n"
     ]
    },
    {
     "name": "stdout",
     "output_type": "stream",
     "text": [
      "[*********************100%%**********************]  1 of 1 completed\n"
     ]
    },
    {
     "name": "stderr",
     "output_type": "stream",
     "text": [
      "C:\\Users\\Rohan Sheth\\AppData\\Local\\Temp\\ipykernel_6076\\223551119.py:10: PerformanceWarning: DataFrame is highly fragmented.  This is usually the result of calling `frame.insert` many times, which has poor performance.  Consider joining all columns at once using pd.concat(axis=1) instead. To get a de-fragmented frame, use `newframe = frame.copy()`\n",
      "  close_prices_df[symbol] = temp_df['Close']          #select only one column from df\n"
     ]
    },
    {
     "name": "stdout",
     "output_type": "stream",
     "text": [
      "[*********************100%%**********************]  1 of 1 completed\n"
     ]
    },
    {
     "name": "stderr",
     "output_type": "stream",
     "text": [
      "C:\\Users\\Rohan Sheth\\AppData\\Local\\Temp\\ipykernel_6076\\223551119.py:10: PerformanceWarning: DataFrame is highly fragmented.  This is usually the result of calling `frame.insert` many times, which has poor performance.  Consider joining all columns at once using pd.concat(axis=1) instead. To get a de-fragmented frame, use `newframe = frame.copy()`\n",
      "  close_prices_df[symbol] = temp_df['Close']          #select only one column from df\n"
     ]
    },
    {
     "name": "stdout",
     "output_type": "stream",
     "text": [
      "[*********************100%%**********************]  1 of 1 completed\n"
     ]
    },
    {
     "name": "stderr",
     "output_type": "stream",
     "text": [
      "C:\\Users\\Rohan Sheth\\AppData\\Local\\Temp\\ipykernel_6076\\223551119.py:10: PerformanceWarning: DataFrame is highly fragmented.  This is usually the result of calling `frame.insert` many times, which has poor performance.  Consider joining all columns at once using pd.concat(axis=1) instead. To get a de-fragmented frame, use `newframe = frame.copy()`\n",
      "  close_prices_df[symbol] = temp_df['Close']          #select only one column from df\n"
     ]
    },
    {
     "name": "stdout",
     "output_type": "stream",
     "text": [
      "[*********************100%%**********************]  1 of 1 completed\n"
     ]
    },
    {
     "name": "stderr",
     "output_type": "stream",
     "text": [
      "C:\\Users\\Rohan Sheth\\AppData\\Local\\Temp\\ipykernel_6076\\223551119.py:10: PerformanceWarning: DataFrame is highly fragmented.  This is usually the result of calling `frame.insert` many times, which has poor performance.  Consider joining all columns at once using pd.concat(axis=1) instead. To get a de-fragmented frame, use `newframe = frame.copy()`\n",
      "  close_prices_df[symbol] = temp_df['Close']          #select only one column from df\n"
     ]
    },
    {
     "name": "stdout",
     "output_type": "stream",
     "text": [
      "[*********************100%%**********************]  1 of 1 completed\n"
     ]
    },
    {
     "name": "stderr",
     "output_type": "stream",
     "text": [
      "C:\\Users\\Rohan Sheth\\AppData\\Local\\Temp\\ipykernel_6076\\223551119.py:10: PerformanceWarning: DataFrame is highly fragmented.  This is usually the result of calling `frame.insert` many times, which has poor performance.  Consider joining all columns at once using pd.concat(axis=1) instead. To get a de-fragmented frame, use `newframe = frame.copy()`\n",
      "  close_prices_df[symbol] = temp_df['Close']          #select only one column from df\n"
     ]
    },
    {
     "name": "stdout",
     "output_type": "stream",
     "text": [
      "[*********************100%%**********************]  1 of 1 completed\n"
     ]
    },
    {
     "name": "stderr",
     "output_type": "stream",
     "text": [
      "C:\\Users\\Rohan Sheth\\AppData\\Local\\Temp\\ipykernel_6076\\223551119.py:10: PerformanceWarning: DataFrame is highly fragmented.  This is usually the result of calling `frame.insert` many times, which has poor performance.  Consider joining all columns at once using pd.concat(axis=1) instead. To get a de-fragmented frame, use `newframe = frame.copy()`\n",
      "  close_prices_df[symbol] = temp_df['Close']          #select only one column from df\n"
     ]
    },
    {
     "name": "stdout",
     "output_type": "stream",
     "text": [
      "[*********************100%%**********************]  1 of 1 completed\n"
     ]
    },
    {
     "name": "stderr",
     "output_type": "stream",
     "text": [
      "C:\\Users\\Rohan Sheth\\AppData\\Local\\Temp\\ipykernel_6076\\223551119.py:10: PerformanceWarning: DataFrame is highly fragmented.  This is usually the result of calling `frame.insert` many times, which has poor performance.  Consider joining all columns at once using pd.concat(axis=1) instead. To get a de-fragmented frame, use `newframe = frame.copy()`\n",
      "  close_prices_df[symbol] = temp_df['Close']          #select only one column from df\n"
     ]
    },
    {
     "name": "stdout",
     "output_type": "stream",
     "text": [
      "[*********************100%%**********************]  1 of 1 completed\n"
     ]
    },
    {
     "name": "stderr",
     "output_type": "stream",
     "text": [
      "C:\\Users\\Rohan Sheth\\AppData\\Local\\Temp\\ipykernel_6076\\223551119.py:10: PerformanceWarning: DataFrame is highly fragmented.  This is usually the result of calling `frame.insert` many times, which has poor performance.  Consider joining all columns at once using pd.concat(axis=1) instead. To get a de-fragmented frame, use `newframe = frame.copy()`\n",
      "  close_prices_df[symbol] = temp_df['Close']          #select only one column from df\n"
     ]
    },
    {
     "name": "stdout",
     "output_type": "stream",
     "text": [
      "[*********************100%%**********************]  1 of 1 completed\n"
     ]
    },
    {
     "name": "stderr",
     "output_type": "stream",
     "text": [
      "C:\\Users\\Rohan Sheth\\AppData\\Local\\Temp\\ipykernel_6076\\223551119.py:10: PerformanceWarning: DataFrame is highly fragmented.  This is usually the result of calling `frame.insert` many times, which has poor performance.  Consider joining all columns at once using pd.concat(axis=1) instead. To get a de-fragmented frame, use `newframe = frame.copy()`\n",
      "  close_prices_df[symbol] = temp_df['Close']          #select only one column from df\n"
     ]
    },
    {
     "name": "stdout",
     "output_type": "stream",
     "text": [
      "[*********************100%%**********************]  1 of 1 completed\n"
     ]
    },
    {
     "name": "stderr",
     "output_type": "stream",
     "text": [
      "C:\\Users\\Rohan Sheth\\AppData\\Local\\Temp\\ipykernel_6076\\223551119.py:10: PerformanceWarning: DataFrame is highly fragmented.  This is usually the result of calling `frame.insert` many times, which has poor performance.  Consider joining all columns at once using pd.concat(axis=1) instead. To get a de-fragmented frame, use `newframe = frame.copy()`\n",
      "  close_prices_df[symbol] = temp_df['Close']          #select only one column from df\n"
     ]
    },
    {
     "name": "stdout",
     "output_type": "stream",
     "text": [
      "[*********************100%%**********************]  1 of 1 completed\n"
     ]
    },
    {
     "name": "stderr",
     "output_type": "stream",
     "text": [
      "C:\\Users\\Rohan Sheth\\AppData\\Local\\Temp\\ipykernel_6076\\223551119.py:10: PerformanceWarning: DataFrame is highly fragmented.  This is usually the result of calling `frame.insert` many times, which has poor performance.  Consider joining all columns at once using pd.concat(axis=1) instead. To get a de-fragmented frame, use `newframe = frame.copy()`\n",
      "  close_prices_df[symbol] = temp_df['Close']          #select only one column from df\n"
     ]
    },
    {
     "name": "stdout",
     "output_type": "stream",
     "text": [
      "[*********************100%%**********************]  1 of 1 completed\n"
     ]
    },
    {
     "name": "stderr",
     "output_type": "stream",
     "text": [
      "C:\\Users\\Rohan Sheth\\AppData\\Local\\Temp\\ipykernel_6076\\223551119.py:10: PerformanceWarning: DataFrame is highly fragmented.  This is usually the result of calling `frame.insert` many times, which has poor performance.  Consider joining all columns at once using pd.concat(axis=1) instead. To get a de-fragmented frame, use `newframe = frame.copy()`\n",
      "  close_prices_df[symbol] = temp_df['Close']          #select only one column from df\n"
     ]
    },
    {
     "name": "stdout",
     "output_type": "stream",
     "text": [
      "[*********************100%%**********************]  1 of 1 completed\n"
     ]
    },
    {
     "name": "stderr",
     "output_type": "stream",
     "text": [
      "C:\\Users\\Rohan Sheth\\AppData\\Local\\Temp\\ipykernel_6076\\223551119.py:10: PerformanceWarning: DataFrame is highly fragmented.  This is usually the result of calling `frame.insert` many times, which has poor performance.  Consider joining all columns at once using pd.concat(axis=1) instead. To get a de-fragmented frame, use `newframe = frame.copy()`\n",
      "  close_prices_df[symbol] = temp_df['Close']          #select only one column from df\n"
     ]
    },
    {
     "name": "stdout",
     "output_type": "stream",
     "text": [
      "[*********************100%%**********************]  1 of 1 completed\n"
     ]
    },
    {
     "name": "stderr",
     "output_type": "stream",
     "text": [
      "C:\\Users\\Rohan Sheth\\AppData\\Local\\Temp\\ipykernel_6076\\223551119.py:10: PerformanceWarning: DataFrame is highly fragmented.  This is usually the result of calling `frame.insert` many times, which has poor performance.  Consider joining all columns at once using pd.concat(axis=1) instead. To get a de-fragmented frame, use `newframe = frame.copy()`\n",
      "  close_prices_df[symbol] = temp_df['Close']          #select only one column from df\n"
     ]
    },
    {
     "name": "stdout",
     "output_type": "stream",
     "text": [
      "[*********************100%%**********************]  1 of 1 completed\n"
     ]
    },
    {
     "name": "stderr",
     "output_type": "stream",
     "text": [
      "C:\\Users\\Rohan Sheth\\AppData\\Local\\Temp\\ipykernel_6076\\223551119.py:10: PerformanceWarning: DataFrame is highly fragmented.  This is usually the result of calling `frame.insert` many times, which has poor performance.  Consider joining all columns at once using pd.concat(axis=1) instead. To get a de-fragmented frame, use `newframe = frame.copy()`\n",
      "  close_prices_df[symbol] = temp_df['Close']          #select only one column from df\n"
     ]
    },
    {
     "name": "stdout",
     "output_type": "stream",
     "text": [
      "[*********************100%%**********************]  1 of 1 completed\n"
     ]
    },
    {
     "name": "stderr",
     "output_type": "stream",
     "text": [
      "C:\\Users\\Rohan Sheth\\AppData\\Local\\Temp\\ipykernel_6076\\223551119.py:10: PerformanceWarning: DataFrame is highly fragmented.  This is usually the result of calling `frame.insert` many times, which has poor performance.  Consider joining all columns at once using pd.concat(axis=1) instead. To get a de-fragmented frame, use `newframe = frame.copy()`\n",
      "  close_prices_df[symbol] = temp_df['Close']          #select only one column from df\n"
     ]
    },
    {
     "name": "stdout",
     "output_type": "stream",
     "text": [
      "[*********************100%%**********************]  1 of 1 completed\n"
     ]
    },
    {
     "name": "stderr",
     "output_type": "stream",
     "text": [
      "C:\\Users\\Rohan Sheth\\AppData\\Local\\Temp\\ipykernel_6076\\223551119.py:10: PerformanceWarning: DataFrame is highly fragmented.  This is usually the result of calling `frame.insert` many times, which has poor performance.  Consider joining all columns at once using pd.concat(axis=1) instead. To get a de-fragmented frame, use `newframe = frame.copy()`\n",
      "  close_prices_df[symbol] = temp_df['Close']          #select only one column from df\n"
     ]
    },
    {
     "name": "stdout",
     "output_type": "stream",
     "text": [
      "[*********************100%%**********************]  1 of 1 completed\n"
     ]
    },
    {
     "name": "stderr",
     "output_type": "stream",
     "text": [
      "C:\\Users\\Rohan Sheth\\AppData\\Local\\Temp\\ipykernel_6076\\223551119.py:10: PerformanceWarning: DataFrame is highly fragmented.  This is usually the result of calling `frame.insert` many times, which has poor performance.  Consider joining all columns at once using pd.concat(axis=1) instead. To get a de-fragmented frame, use `newframe = frame.copy()`\n",
      "  close_prices_df[symbol] = temp_df['Close']          #select only one column from df\n"
     ]
    },
    {
     "name": "stdout",
     "output_type": "stream",
     "text": [
      "[*********************100%%**********************]  1 of 1 completed\n"
     ]
    },
    {
     "name": "stderr",
     "output_type": "stream",
     "text": [
      "C:\\Users\\Rohan Sheth\\AppData\\Local\\Temp\\ipykernel_6076\\223551119.py:10: PerformanceWarning: DataFrame is highly fragmented.  This is usually the result of calling `frame.insert` many times, which has poor performance.  Consider joining all columns at once using pd.concat(axis=1) instead. To get a de-fragmented frame, use `newframe = frame.copy()`\n",
      "  close_prices_df[symbol] = temp_df['Close']          #select only one column from df\n"
     ]
    },
    {
     "name": "stdout",
     "output_type": "stream",
     "text": [
      "[*********************100%%**********************]  1 of 1 completed\n"
     ]
    },
    {
     "name": "stderr",
     "output_type": "stream",
     "text": [
      "C:\\Users\\Rohan Sheth\\AppData\\Local\\Temp\\ipykernel_6076\\223551119.py:10: PerformanceWarning: DataFrame is highly fragmented.  This is usually the result of calling `frame.insert` many times, which has poor performance.  Consider joining all columns at once using pd.concat(axis=1) instead. To get a de-fragmented frame, use `newframe = frame.copy()`\n",
      "  close_prices_df[symbol] = temp_df['Close']          #select only one column from df\n"
     ]
    },
    {
     "name": "stdout",
     "output_type": "stream",
     "text": [
      "[*********************100%%**********************]  1 of 1 completed\n"
     ]
    },
    {
     "name": "stderr",
     "output_type": "stream",
     "text": [
      "C:\\Users\\Rohan Sheth\\AppData\\Local\\Temp\\ipykernel_6076\\223551119.py:10: PerformanceWarning: DataFrame is highly fragmented.  This is usually the result of calling `frame.insert` many times, which has poor performance.  Consider joining all columns at once using pd.concat(axis=1) instead. To get a de-fragmented frame, use `newframe = frame.copy()`\n",
      "  close_prices_df[symbol] = temp_df['Close']          #select only one column from df\n"
     ]
    },
    {
     "name": "stdout",
     "output_type": "stream",
     "text": [
      "[*********************100%%**********************]  1 of 1 completed\n"
     ]
    },
    {
     "name": "stderr",
     "output_type": "stream",
     "text": [
      "C:\\Users\\Rohan Sheth\\AppData\\Local\\Temp\\ipykernel_6076\\223551119.py:10: PerformanceWarning: DataFrame is highly fragmented.  This is usually the result of calling `frame.insert` many times, which has poor performance.  Consider joining all columns at once using pd.concat(axis=1) instead. To get a de-fragmented frame, use `newframe = frame.copy()`\n",
      "  close_prices_df[symbol] = temp_df['Close']          #select only one column from df\n"
     ]
    },
    {
     "name": "stdout",
     "output_type": "stream",
     "text": [
      "[*********************100%%**********************]  1 of 1 completed\n"
     ]
    },
    {
     "name": "stderr",
     "output_type": "stream",
     "text": [
      "C:\\Users\\Rohan Sheth\\AppData\\Local\\Temp\\ipykernel_6076\\223551119.py:10: PerformanceWarning: DataFrame is highly fragmented.  This is usually the result of calling `frame.insert` many times, which has poor performance.  Consider joining all columns at once using pd.concat(axis=1) instead. To get a de-fragmented frame, use `newframe = frame.copy()`\n",
      "  close_prices_df[symbol] = temp_df['Close']          #select only one column from df\n"
     ]
    },
    {
     "name": "stdout",
     "output_type": "stream",
     "text": [
      "[*********************100%%**********************]  1 of 1 completed\n"
     ]
    },
    {
     "name": "stderr",
     "output_type": "stream",
     "text": [
      "C:\\Users\\Rohan Sheth\\AppData\\Local\\Temp\\ipykernel_6076\\223551119.py:10: PerformanceWarning: DataFrame is highly fragmented.  This is usually the result of calling `frame.insert` many times, which has poor performance.  Consider joining all columns at once using pd.concat(axis=1) instead. To get a de-fragmented frame, use `newframe = frame.copy()`\n",
      "  close_prices_df[symbol] = temp_df['Close']          #select only one column from df\n"
     ]
    },
    {
     "name": "stdout",
     "output_type": "stream",
     "text": [
      "[*********************100%%**********************]  1 of 1 completed\n"
     ]
    },
    {
     "name": "stderr",
     "output_type": "stream",
     "text": [
      "C:\\Users\\Rohan Sheth\\AppData\\Local\\Temp\\ipykernel_6076\\223551119.py:10: PerformanceWarning: DataFrame is highly fragmented.  This is usually the result of calling `frame.insert` many times, which has poor performance.  Consider joining all columns at once using pd.concat(axis=1) instead. To get a de-fragmented frame, use `newframe = frame.copy()`\n",
      "  close_prices_df[symbol] = temp_df['Close']          #select only one column from df\n"
     ]
    },
    {
     "name": "stdout",
     "output_type": "stream",
     "text": [
      "[*********************100%%**********************]  1 of 1 completed\n"
     ]
    },
    {
     "name": "stderr",
     "output_type": "stream",
     "text": [
      "C:\\Users\\Rohan Sheth\\AppData\\Local\\Temp\\ipykernel_6076\\223551119.py:10: PerformanceWarning: DataFrame is highly fragmented.  This is usually the result of calling `frame.insert` many times, which has poor performance.  Consider joining all columns at once using pd.concat(axis=1) instead. To get a de-fragmented frame, use `newframe = frame.copy()`\n",
      "  close_prices_df[symbol] = temp_df['Close']          #select only one column from df\n"
     ]
    },
    {
     "name": "stdout",
     "output_type": "stream",
     "text": [
      "[*********************100%%**********************]  1 of 1 completed\n"
     ]
    },
    {
     "name": "stderr",
     "output_type": "stream",
     "text": [
      "C:\\Users\\Rohan Sheth\\AppData\\Local\\Temp\\ipykernel_6076\\223551119.py:10: PerformanceWarning: DataFrame is highly fragmented.  This is usually the result of calling `frame.insert` many times, which has poor performance.  Consider joining all columns at once using pd.concat(axis=1) instead. To get a de-fragmented frame, use `newframe = frame.copy()`\n",
      "  close_prices_df[symbol] = temp_df['Close']          #select only one column from df\n"
     ]
    },
    {
     "name": "stdout",
     "output_type": "stream",
     "text": [
      "[*********************100%%**********************]  1 of 1 completed\n"
     ]
    },
    {
     "name": "stderr",
     "output_type": "stream",
     "text": [
      "C:\\Users\\Rohan Sheth\\AppData\\Local\\Temp\\ipykernel_6076\\223551119.py:10: PerformanceWarning: DataFrame is highly fragmented.  This is usually the result of calling `frame.insert` many times, which has poor performance.  Consider joining all columns at once using pd.concat(axis=1) instead. To get a de-fragmented frame, use `newframe = frame.copy()`\n",
      "  close_prices_df[symbol] = temp_df['Close']          #select only one column from df\n"
     ]
    },
    {
     "name": "stdout",
     "output_type": "stream",
     "text": [
      "[*********************100%%**********************]  1 of 1 completed\n"
     ]
    },
    {
     "name": "stderr",
     "output_type": "stream",
     "text": [
      "C:\\Users\\Rohan Sheth\\AppData\\Local\\Temp\\ipykernel_6076\\223551119.py:10: PerformanceWarning: DataFrame is highly fragmented.  This is usually the result of calling `frame.insert` many times, which has poor performance.  Consider joining all columns at once using pd.concat(axis=1) instead. To get a de-fragmented frame, use `newframe = frame.copy()`\n",
      "  close_prices_df[symbol] = temp_df['Close']          #select only one column from df\n"
     ]
    },
    {
     "name": "stdout",
     "output_type": "stream",
     "text": [
      "[*********************100%%**********************]  1 of 1 completed\n"
     ]
    },
    {
     "name": "stderr",
     "output_type": "stream",
     "text": [
      "C:\\Users\\Rohan Sheth\\AppData\\Local\\Temp\\ipykernel_6076\\223551119.py:10: PerformanceWarning: DataFrame is highly fragmented.  This is usually the result of calling `frame.insert` many times, which has poor performance.  Consider joining all columns at once using pd.concat(axis=1) instead. To get a de-fragmented frame, use `newframe = frame.copy()`\n",
      "  close_prices_df[symbol] = temp_df['Close']          #select only one column from df\n"
     ]
    },
    {
     "name": "stdout",
     "output_type": "stream",
     "text": [
      "[*********************100%%**********************]  1 of 1 completed\n"
     ]
    },
    {
     "name": "stderr",
     "output_type": "stream",
     "text": [
      "C:\\Users\\Rohan Sheth\\AppData\\Local\\Temp\\ipykernel_6076\\223551119.py:10: PerformanceWarning: DataFrame is highly fragmented.  This is usually the result of calling `frame.insert` many times, which has poor performance.  Consider joining all columns at once using pd.concat(axis=1) instead. To get a de-fragmented frame, use `newframe = frame.copy()`\n",
      "  close_prices_df[symbol] = temp_df['Close']          #select only one column from df\n"
     ]
    },
    {
     "name": "stdout",
     "output_type": "stream",
     "text": [
      "[*********************100%%**********************]  1 of 1 completed\n"
     ]
    },
    {
     "name": "stderr",
     "output_type": "stream",
     "text": [
      "C:\\Users\\Rohan Sheth\\AppData\\Local\\Temp\\ipykernel_6076\\223551119.py:10: PerformanceWarning: DataFrame is highly fragmented.  This is usually the result of calling `frame.insert` many times, which has poor performance.  Consider joining all columns at once using pd.concat(axis=1) instead. To get a de-fragmented frame, use `newframe = frame.copy()`\n",
      "  close_prices_df[symbol] = temp_df['Close']          #select only one column from df\n"
     ]
    },
    {
     "name": "stdout",
     "output_type": "stream",
     "text": [
      "[*********************100%%**********************]  1 of 1 completed\n"
     ]
    },
    {
     "name": "stderr",
     "output_type": "stream",
     "text": [
      "C:\\Users\\Rohan Sheth\\AppData\\Local\\Temp\\ipykernel_6076\\223551119.py:10: PerformanceWarning: DataFrame is highly fragmented.  This is usually the result of calling `frame.insert` many times, which has poor performance.  Consider joining all columns at once using pd.concat(axis=1) instead. To get a de-fragmented frame, use `newframe = frame.copy()`\n",
      "  close_prices_df[symbol] = temp_df['Close']          #select only one column from df\n"
     ]
    },
    {
     "name": "stdout",
     "output_type": "stream",
     "text": [
      "[*********************100%%**********************]  1 of 1 completed\n"
     ]
    },
    {
     "name": "stderr",
     "output_type": "stream",
     "text": [
      "C:\\Users\\Rohan Sheth\\AppData\\Local\\Temp\\ipykernel_6076\\223551119.py:10: PerformanceWarning: DataFrame is highly fragmented.  This is usually the result of calling `frame.insert` many times, which has poor performance.  Consider joining all columns at once using pd.concat(axis=1) instead. To get a de-fragmented frame, use `newframe = frame.copy()`\n",
      "  close_prices_df[symbol] = temp_df['Close']          #select only one column from df\n"
     ]
    },
    {
     "name": "stdout",
     "output_type": "stream",
     "text": [
      "[*********************100%%**********************]  1 of 1 completed\n"
     ]
    },
    {
     "name": "stderr",
     "output_type": "stream",
     "text": [
      "C:\\Users\\Rohan Sheth\\AppData\\Local\\Temp\\ipykernel_6076\\223551119.py:10: PerformanceWarning: DataFrame is highly fragmented.  This is usually the result of calling `frame.insert` many times, which has poor performance.  Consider joining all columns at once using pd.concat(axis=1) instead. To get a de-fragmented frame, use `newframe = frame.copy()`\n",
      "  close_prices_df[symbol] = temp_df['Close']          #select only one column from df\n"
     ]
    },
    {
     "name": "stdout",
     "output_type": "stream",
     "text": [
      "[*********************100%%**********************]  1 of 1 completed\n"
     ]
    },
    {
     "name": "stderr",
     "output_type": "stream",
     "text": [
      "C:\\Users\\Rohan Sheth\\AppData\\Local\\Temp\\ipykernel_6076\\223551119.py:10: PerformanceWarning: DataFrame is highly fragmented.  This is usually the result of calling `frame.insert` many times, which has poor performance.  Consider joining all columns at once using pd.concat(axis=1) instead. To get a de-fragmented frame, use `newframe = frame.copy()`\n",
      "  close_prices_df[symbol] = temp_df['Close']          #select only one column from df\n"
     ]
    },
    {
     "name": "stdout",
     "output_type": "stream",
     "text": [
      "[*********************100%%**********************]  1 of 1 completed\n"
     ]
    },
    {
     "name": "stderr",
     "output_type": "stream",
     "text": [
      "C:\\Users\\Rohan Sheth\\AppData\\Local\\Temp\\ipykernel_6076\\223551119.py:10: PerformanceWarning: DataFrame is highly fragmented.  This is usually the result of calling `frame.insert` many times, which has poor performance.  Consider joining all columns at once using pd.concat(axis=1) instead. To get a de-fragmented frame, use `newframe = frame.copy()`\n",
      "  close_prices_df[symbol] = temp_df['Close']          #select only one column from df\n"
     ]
    },
    {
     "name": "stdout",
     "output_type": "stream",
     "text": [
      "[*********************100%%**********************]  1 of 1 completed\n"
     ]
    },
    {
     "name": "stderr",
     "output_type": "stream",
     "text": [
      "C:\\Users\\Rohan Sheth\\AppData\\Local\\Temp\\ipykernel_6076\\223551119.py:10: PerformanceWarning: DataFrame is highly fragmented.  This is usually the result of calling `frame.insert` many times, which has poor performance.  Consider joining all columns at once using pd.concat(axis=1) instead. To get a de-fragmented frame, use `newframe = frame.copy()`\n",
      "  close_prices_df[symbol] = temp_df['Close']          #select only one column from df\n"
     ]
    },
    {
     "name": "stdout",
     "output_type": "stream",
     "text": [
      "[*********************100%%**********************]  1 of 1 completed\n"
     ]
    },
    {
     "name": "stderr",
     "output_type": "stream",
     "text": [
      "C:\\Users\\Rohan Sheth\\AppData\\Local\\Temp\\ipykernel_6076\\223551119.py:10: PerformanceWarning: DataFrame is highly fragmented.  This is usually the result of calling `frame.insert` many times, which has poor performance.  Consider joining all columns at once using pd.concat(axis=1) instead. To get a de-fragmented frame, use `newframe = frame.copy()`\n",
      "  close_prices_df[symbol] = temp_df['Close']          #select only one column from df\n"
     ]
    },
    {
     "name": "stdout",
     "output_type": "stream",
     "text": [
      "[*********************100%%**********************]  1 of 1 completed\n"
     ]
    },
    {
     "name": "stderr",
     "output_type": "stream",
     "text": [
      "C:\\Users\\Rohan Sheth\\AppData\\Local\\Temp\\ipykernel_6076\\223551119.py:10: PerformanceWarning: DataFrame is highly fragmented.  This is usually the result of calling `frame.insert` many times, which has poor performance.  Consider joining all columns at once using pd.concat(axis=1) instead. To get a de-fragmented frame, use `newframe = frame.copy()`\n",
      "  close_prices_df[symbol] = temp_df['Close']          #select only one column from df\n"
     ]
    },
    {
     "name": "stdout",
     "output_type": "stream",
     "text": [
      "[*********************100%%**********************]  1 of 1 completed\n"
     ]
    },
    {
     "name": "stderr",
     "output_type": "stream",
     "text": [
      "C:\\Users\\Rohan Sheth\\AppData\\Local\\Temp\\ipykernel_6076\\223551119.py:10: PerformanceWarning: DataFrame is highly fragmented.  This is usually the result of calling `frame.insert` many times, which has poor performance.  Consider joining all columns at once using pd.concat(axis=1) instead. To get a de-fragmented frame, use `newframe = frame.copy()`\n",
      "  close_prices_df[symbol] = temp_df['Close']          #select only one column from df\n"
     ]
    },
    {
     "name": "stdout",
     "output_type": "stream",
     "text": [
      "[*********************100%%**********************]  1 of 1 completed\n"
     ]
    },
    {
     "name": "stderr",
     "output_type": "stream",
     "text": [
      "C:\\Users\\Rohan Sheth\\AppData\\Local\\Temp\\ipykernel_6076\\223551119.py:10: PerformanceWarning: DataFrame is highly fragmented.  This is usually the result of calling `frame.insert` many times, which has poor performance.  Consider joining all columns at once using pd.concat(axis=1) instead. To get a de-fragmented frame, use `newframe = frame.copy()`\n",
      "  close_prices_df[symbol] = temp_df['Close']          #select only one column from df\n"
     ]
    },
    {
     "name": "stdout",
     "output_type": "stream",
     "text": [
      "[*********************100%%**********************]  1 of 1 completed\n"
     ]
    },
    {
     "name": "stderr",
     "output_type": "stream",
     "text": [
      "C:\\Users\\Rohan Sheth\\AppData\\Local\\Temp\\ipykernel_6076\\223551119.py:10: PerformanceWarning: DataFrame is highly fragmented.  This is usually the result of calling `frame.insert` many times, which has poor performance.  Consider joining all columns at once using pd.concat(axis=1) instead. To get a de-fragmented frame, use `newframe = frame.copy()`\n",
      "  close_prices_df[symbol] = temp_df['Close']          #select only one column from df\n"
     ]
    },
    {
     "name": "stdout",
     "output_type": "stream",
     "text": [
      "[*********************100%%**********************]  1 of 1 completed\n"
     ]
    },
    {
     "name": "stderr",
     "output_type": "stream",
     "text": [
      "C:\\Users\\Rohan Sheth\\AppData\\Local\\Temp\\ipykernel_6076\\223551119.py:10: PerformanceWarning: DataFrame is highly fragmented.  This is usually the result of calling `frame.insert` many times, which has poor performance.  Consider joining all columns at once using pd.concat(axis=1) instead. To get a de-fragmented frame, use `newframe = frame.copy()`\n",
      "  close_prices_df[symbol] = temp_df['Close']          #select only one column from df\n"
     ]
    },
    {
     "name": "stdout",
     "output_type": "stream",
     "text": [
      "[*********************100%%**********************]  1 of 1 completed\n"
     ]
    },
    {
     "name": "stderr",
     "output_type": "stream",
     "text": [
      "C:\\Users\\Rohan Sheth\\AppData\\Local\\Temp\\ipykernel_6076\\223551119.py:10: PerformanceWarning: DataFrame is highly fragmented.  This is usually the result of calling `frame.insert` many times, which has poor performance.  Consider joining all columns at once using pd.concat(axis=1) instead. To get a de-fragmented frame, use `newframe = frame.copy()`\n",
      "  close_prices_df[symbol] = temp_df['Close']          #select only one column from df\n"
     ]
    },
    {
     "name": "stdout",
     "output_type": "stream",
     "text": [
      "[*********************100%%**********************]  1 of 1 completed\n"
     ]
    },
    {
     "name": "stderr",
     "output_type": "stream",
     "text": [
      "C:\\Users\\Rohan Sheth\\AppData\\Local\\Temp\\ipykernel_6076\\223551119.py:10: PerformanceWarning: DataFrame is highly fragmented.  This is usually the result of calling `frame.insert` many times, which has poor performance.  Consider joining all columns at once using pd.concat(axis=1) instead. To get a de-fragmented frame, use `newframe = frame.copy()`\n",
      "  close_prices_df[symbol] = temp_df['Close']          #select only one column from df\n"
     ]
    },
    {
     "name": "stdout",
     "output_type": "stream",
     "text": [
      "[*********************100%%**********************]  1 of 1 completed\n"
     ]
    },
    {
     "name": "stderr",
     "output_type": "stream",
     "text": [
      "C:\\Users\\Rohan Sheth\\AppData\\Local\\Temp\\ipykernel_6076\\223551119.py:10: PerformanceWarning: DataFrame is highly fragmented.  This is usually the result of calling `frame.insert` many times, which has poor performance.  Consider joining all columns at once using pd.concat(axis=1) instead. To get a de-fragmented frame, use `newframe = frame.copy()`\n",
      "  close_prices_df[symbol] = temp_df['Close']          #select only one column from df\n"
     ]
    },
    {
     "name": "stdout",
     "output_type": "stream",
     "text": [
      "[*********************100%%**********************]  1 of 1 completed\n"
     ]
    },
    {
     "name": "stderr",
     "output_type": "stream",
     "text": [
      "C:\\Users\\Rohan Sheth\\AppData\\Local\\Temp\\ipykernel_6076\\223551119.py:10: PerformanceWarning: DataFrame is highly fragmented.  This is usually the result of calling `frame.insert` many times, which has poor performance.  Consider joining all columns at once using pd.concat(axis=1) instead. To get a de-fragmented frame, use `newframe = frame.copy()`\n",
      "  close_prices_df[symbol] = temp_df['Close']          #select only one column from df\n"
     ]
    },
    {
     "name": "stdout",
     "output_type": "stream",
     "text": [
      "[*********************100%%**********************]  1 of 1 completed\n"
     ]
    },
    {
     "name": "stderr",
     "output_type": "stream",
     "text": [
      "C:\\Users\\Rohan Sheth\\AppData\\Local\\Temp\\ipykernel_6076\\223551119.py:10: PerformanceWarning: DataFrame is highly fragmented.  This is usually the result of calling `frame.insert` many times, which has poor performance.  Consider joining all columns at once using pd.concat(axis=1) instead. To get a de-fragmented frame, use `newframe = frame.copy()`\n",
      "  close_prices_df[symbol] = temp_df['Close']          #select only one column from df\n"
     ]
    },
    {
     "name": "stdout",
     "output_type": "stream",
     "text": [
      "[*********************100%%**********************]  1 of 1 completed\n"
     ]
    },
    {
     "name": "stderr",
     "output_type": "stream",
     "text": [
      "C:\\Users\\Rohan Sheth\\AppData\\Local\\Temp\\ipykernel_6076\\223551119.py:10: PerformanceWarning: DataFrame is highly fragmented.  This is usually the result of calling `frame.insert` many times, which has poor performance.  Consider joining all columns at once using pd.concat(axis=1) instead. To get a de-fragmented frame, use `newframe = frame.copy()`\n",
      "  close_prices_df[symbol] = temp_df['Close']          #select only one column from df\n"
     ]
    },
    {
     "name": "stdout",
     "output_type": "stream",
     "text": [
      "[*********************100%%**********************]  1 of 1 completed\n"
     ]
    },
    {
     "name": "stderr",
     "output_type": "stream",
     "text": [
      "C:\\Users\\Rohan Sheth\\AppData\\Local\\Temp\\ipykernel_6076\\223551119.py:10: PerformanceWarning: DataFrame is highly fragmented.  This is usually the result of calling `frame.insert` many times, which has poor performance.  Consider joining all columns at once using pd.concat(axis=1) instead. To get a de-fragmented frame, use `newframe = frame.copy()`\n",
      "  close_prices_df[symbol] = temp_df['Close']          #select only one column from df\n"
     ]
    },
    {
     "name": "stdout",
     "output_type": "stream",
     "text": [
      "[*********************100%%**********************]  1 of 1 completed\n"
     ]
    },
    {
     "name": "stderr",
     "output_type": "stream",
     "text": [
      "C:\\Users\\Rohan Sheth\\AppData\\Local\\Temp\\ipykernel_6076\\223551119.py:10: PerformanceWarning: DataFrame is highly fragmented.  This is usually the result of calling `frame.insert` many times, which has poor performance.  Consider joining all columns at once using pd.concat(axis=1) instead. To get a de-fragmented frame, use `newframe = frame.copy()`\n",
      "  close_prices_df[symbol] = temp_df['Close']          #select only one column from df\n"
     ]
    },
    {
     "name": "stdout",
     "output_type": "stream",
     "text": [
      "[*********************100%%**********************]  1 of 1 completed\n"
     ]
    },
    {
     "name": "stderr",
     "output_type": "stream",
     "text": [
      "C:\\Users\\Rohan Sheth\\AppData\\Local\\Temp\\ipykernel_6076\\223551119.py:10: PerformanceWarning: DataFrame is highly fragmented.  This is usually the result of calling `frame.insert` many times, which has poor performance.  Consider joining all columns at once using pd.concat(axis=1) instead. To get a de-fragmented frame, use `newframe = frame.copy()`\n",
      "  close_prices_df[symbol] = temp_df['Close']          #select only one column from df\n"
     ]
    },
    {
     "name": "stdout",
     "output_type": "stream",
     "text": [
      "[*********************100%%**********************]  1 of 1 completed\n"
     ]
    },
    {
     "name": "stderr",
     "output_type": "stream",
     "text": [
      "C:\\Users\\Rohan Sheth\\AppData\\Local\\Temp\\ipykernel_6076\\223551119.py:10: PerformanceWarning: DataFrame is highly fragmented.  This is usually the result of calling `frame.insert` many times, which has poor performance.  Consider joining all columns at once using pd.concat(axis=1) instead. To get a de-fragmented frame, use `newframe = frame.copy()`\n",
      "  close_prices_df[symbol] = temp_df['Close']          #select only one column from df\n"
     ]
    },
    {
     "name": "stdout",
     "output_type": "stream",
     "text": [
      "[*********************100%%**********************]  1 of 1 completed\n"
     ]
    },
    {
     "name": "stderr",
     "output_type": "stream",
     "text": [
      "C:\\Users\\Rohan Sheth\\AppData\\Local\\Temp\\ipykernel_6076\\223551119.py:10: PerformanceWarning: DataFrame is highly fragmented.  This is usually the result of calling `frame.insert` many times, which has poor performance.  Consider joining all columns at once using pd.concat(axis=1) instead. To get a de-fragmented frame, use `newframe = frame.copy()`\n",
      "  close_prices_df[symbol] = temp_df['Close']          #select only one column from df\n"
     ]
    },
    {
     "name": "stdout",
     "output_type": "stream",
     "text": [
      "[*********************100%%**********************]  1 of 1 completed\n"
     ]
    },
    {
     "name": "stderr",
     "output_type": "stream",
     "text": [
      "C:\\Users\\Rohan Sheth\\AppData\\Local\\Temp\\ipykernel_6076\\223551119.py:10: PerformanceWarning: DataFrame is highly fragmented.  This is usually the result of calling `frame.insert` many times, which has poor performance.  Consider joining all columns at once using pd.concat(axis=1) instead. To get a de-fragmented frame, use `newframe = frame.copy()`\n",
      "  close_prices_df[symbol] = temp_df['Close']          #select only one column from df\n"
     ]
    },
    {
     "name": "stdout",
     "output_type": "stream",
     "text": [
      "[*********************100%%**********************]  1 of 1 completed\n"
     ]
    },
    {
     "name": "stderr",
     "output_type": "stream",
     "text": [
      "C:\\Users\\Rohan Sheth\\AppData\\Local\\Temp\\ipykernel_6076\\223551119.py:10: PerformanceWarning: DataFrame is highly fragmented.  This is usually the result of calling `frame.insert` many times, which has poor performance.  Consider joining all columns at once using pd.concat(axis=1) instead. To get a de-fragmented frame, use `newframe = frame.copy()`\n",
      "  close_prices_df[symbol] = temp_df['Close']          #select only one column from df\n"
     ]
    },
    {
     "name": "stdout",
     "output_type": "stream",
     "text": [
      "[*********************100%%**********************]  1 of 1 completed\n"
     ]
    },
    {
     "name": "stderr",
     "output_type": "stream",
     "text": [
      "C:\\Users\\Rohan Sheth\\AppData\\Local\\Temp\\ipykernel_6076\\223551119.py:10: PerformanceWarning: DataFrame is highly fragmented.  This is usually the result of calling `frame.insert` many times, which has poor performance.  Consider joining all columns at once using pd.concat(axis=1) instead. To get a de-fragmented frame, use `newframe = frame.copy()`\n",
      "  close_prices_df[symbol] = temp_df['Close']          #select only one column from df\n"
     ]
    },
    {
     "name": "stdout",
     "output_type": "stream",
     "text": [
      "[*********************100%%**********************]  1 of 1 completed\n"
     ]
    },
    {
     "name": "stderr",
     "output_type": "stream",
     "text": [
      "C:\\Users\\Rohan Sheth\\AppData\\Local\\Temp\\ipykernel_6076\\223551119.py:10: PerformanceWarning: DataFrame is highly fragmented.  This is usually the result of calling `frame.insert` many times, which has poor performance.  Consider joining all columns at once using pd.concat(axis=1) instead. To get a de-fragmented frame, use `newframe = frame.copy()`\n",
      "  close_prices_df[symbol] = temp_df['Close']          #select only one column from df\n"
     ]
    },
    {
     "name": "stdout",
     "output_type": "stream",
     "text": [
      "[*********************100%%**********************]  1 of 1 completed\n"
     ]
    },
    {
     "name": "stderr",
     "output_type": "stream",
     "text": [
      "C:\\Users\\Rohan Sheth\\AppData\\Local\\Temp\\ipykernel_6076\\223551119.py:10: PerformanceWarning: DataFrame is highly fragmented.  This is usually the result of calling `frame.insert` many times, which has poor performance.  Consider joining all columns at once using pd.concat(axis=1) instead. To get a de-fragmented frame, use `newframe = frame.copy()`\n",
      "  close_prices_df[symbol] = temp_df['Close']          #select only one column from df\n"
     ]
    },
    {
     "name": "stdout",
     "output_type": "stream",
     "text": [
      "[*********************100%%**********************]  1 of 1 completed\n"
     ]
    },
    {
     "name": "stderr",
     "output_type": "stream",
     "text": [
      "C:\\Users\\Rohan Sheth\\AppData\\Local\\Temp\\ipykernel_6076\\223551119.py:10: PerformanceWarning: DataFrame is highly fragmented.  This is usually the result of calling `frame.insert` many times, which has poor performance.  Consider joining all columns at once using pd.concat(axis=1) instead. To get a de-fragmented frame, use `newframe = frame.copy()`\n",
      "  close_prices_df[symbol] = temp_df['Close']          #select only one column from df\n"
     ]
    },
    {
     "name": "stdout",
     "output_type": "stream",
     "text": [
      "[*********************100%%**********************]  1 of 1 completed\n"
     ]
    },
    {
     "name": "stderr",
     "output_type": "stream",
     "text": [
      "C:\\Users\\Rohan Sheth\\AppData\\Local\\Temp\\ipykernel_6076\\223551119.py:10: PerformanceWarning: DataFrame is highly fragmented.  This is usually the result of calling `frame.insert` many times, which has poor performance.  Consider joining all columns at once using pd.concat(axis=1) instead. To get a de-fragmented frame, use `newframe = frame.copy()`\n",
      "  close_prices_df[symbol] = temp_df['Close']          #select only one column from df\n"
     ]
    },
    {
     "name": "stdout",
     "output_type": "stream",
     "text": [
      "[*********************100%%**********************]  1 of 1 completed\n"
     ]
    },
    {
     "name": "stderr",
     "output_type": "stream",
     "text": [
      "C:\\Users\\Rohan Sheth\\AppData\\Local\\Temp\\ipykernel_6076\\223551119.py:10: PerformanceWarning: DataFrame is highly fragmented.  This is usually the result of calling `frame.insert` many times, which has poor performance.  Consider joining all columns at once using pd.concat(axis=1) instead. To get a de-fragmented frame, use `newframe = frame.copy()`\n",
      "  close_prices_df[symbol] = temp_df['Close']          #select only one column from df\n"
     ]
    },
    {
     "name": "stdout",
     "output_type": "stream",
     "text": [
      "[*********************100%%**********************]  1 of 1 completed\n"
     ]
    },
    {
     "name": "stderr",
     "output_type": "stream",
     "text": [
      "C:\\Users\\Rohan Sheth\\AppData\\Local\\Temp\\ipykernel_6076\\223551119.py:10: PerformanceWarning: DataFrame is highly fragmented.  This is usually the result of calling `frame.insert` many times, which has poor performance.  Consider joining all columns at once using pd.concat(axis=1) instead. To get a de-fragmented frame, use `newframe = frame.copy()`\n",
      "  close_prices_df[symbol] = temp_df['Close']          #select only one column from df\n"
     ]
    }
   ],
   "source": [
    "\n",
    "inactive_count = 0\n",
    "close_prices_df = pd.DataFrame()\n",
    "\n",
    "# if strip code was unavailable --> use the stock_data frame with respective symbol\n",
    "\n",
    "for symbol in strip_code_data[\"Symbol\"]:\n",
    "    try:\n",
    "        d = yf.download(symbol + \".NS\", period=\"max\")  #get quote here\n",
    "\n",
    "        if d is not None:\n",
    "            temp_df = pd.DataFrame(d)                           #make a df\n",
    "            close_prices_df[symbol] = temp_df['Close']          #select only one column from df\n",
    "        else:\n",
    "            inactive_count += 1            \n",
    "    except Exception as e:\n",
    "        print(f\"Error processing {symbol}: {e}\")\n",
    "        inactive_count += 1"
   ]
  },
  {
   "cell_type": "markdown",
   "id": "9981fa28",
   "metadata": {},
   "source": [
    "# ------------------ DATA MINING for  INDEX PRICES ------------------"
   ]
  },
  {
   "cell_type": "code",
   "execution_count": 4,
   "id": "d2ad262b",
   "metadata": {
    "collapsed": true
   },
   "outputs": [
    {
     "name": "stdout",
     "output_type": "stream",
     "text": [
      "[*********************100%%**********************]  1 of 1 completed\n",
      "                    Open          High           Low         Close  \\\n",
      "Date                                                                 \n",
      "2022-01-03  15030.500000  15220.049805  15028.549805  15204.599609   \n",
      "2022-01-04  15260.900391  15333.599609  15168.150391  15318.750000   \n",
      "2022-01-05  15329.750000  15410.599609  15264.849609  15396.400391   \n",
      "2022-01-06  15275.750000  15315.500000  15197.099609  15290.099609   \n",
      "2022-01-07  15333.450195  15418.400391  15255.450195  15348.549805   \n",
      "\n",
      "               Adj Close    Volume  \n",
      "Date                                \n",
      "2022-01-03  15204.580078  17499900  \n",
      "2022-01-04  15318.729492  20299700  \n",
      "2022-01-05  15396.379883  19135100  \n",
      "2022-01-06  15290.079102  18769800  \n",
      "2022-01-07  15348.529297  19623500  \n"
     ]
    }
   ],
   "source": [
    "import yfinance as yf\n",
    "import pandas as pd\n",
    "\n",
    "# Define the ticker symbol for Nifty 500\n",
    "nifty500_ticker = \"^CRSLDX\" \n",
    "\n",
    "#CRSLDX - Nifty 500\n",
    "# NSEI - Nifty 50\n",
    "\n",
    "# Set the start and end dates for historical data\n",
    "start_date = \"2022-01-01\"\n",
    "end_date = \"2023-01-01\"\n",
    "\n",
    "# Fetch historical data\n",
    "nifty500_data = yf.download(nifty500_ticker, start=start_date, end=end_date)\n",
    "\n",
    "# Display the data\n",
    "print(nifty500_data.head())\n"
   ]
  },
  {
   "cell_type": "markdown",
   "id": "7a8ec3b5",
   "metadata": {},
   "source": [
    "# CLose Prices Recvd."
   ]
  },
  {
   "cell_type": "code",
   "execution_count": 33,
   "id": "ebfc6100",
   "metadata": {},
   "outputs": [
    {
     "data": {
      "text/html": [
       "<div>\n",
       "<style scoped>\n",
       "    .dataframe tbody tr th:only-of-type {\n",
       "        vertical-align: middle;\n",
       "    }\n",
       "\n",
       "    .dataframe tbody tr th {\n",
       "        vertical-align: top;\n",
       "    }\n",
       "\n",
       "    .dataframe thead th {\n",
       "        text-align: right;\n",
       "    }\n",
       "</style>\n",
       "<table border=\"1\" class=\"dataframe\">\n",
       "  <thead>\n",
       "    <tr style=\"text-align: right;\">\n",
       "      <th></th>\n",
       "      <th>360ONE</th>\n",
       "      <th>3MINDIA</th>\n",
       "      <th>ABB</th>\n",
       "      <th>ACC</th>\n",
       "      <th>AIAENG</th>\n",
       "      <th>APLAPOLLO</th>\n",
       "      <th>AUBANK</th>\n",
       "      <th>AARTIDRUGS</th>\n",
       "      <th>AARTIIND</th>\n",
       "      <th>AAVAS</th>\n",
       "      <th>...</th>\n",
       "      <th>YESBANK</th>\n",
       "      <th>ZFCVINDIA</th>\n",
       "      <th>ZEEL</th>\n",
       "      <th>ZENSARTECH</th>\n",
       "      <th>ZOMATO</th>\n",
       "      <th>ZYDUSLIFE</th>\n",
       "      <th>ZYDUSWELL</th>\n",
       "      <th>ECLERX</th>\n",
       "      <th>--date--</th>\n",
       "      <th>Date</th>\n",
       "    </tr>\n",
       "  </thead>\n",
       "  <tbody>\n",
       "    <tr>\n",
       "      <th>0</th>\n",
       "      <td>317.625000</td>\n",
       "      <td>18526.500000</td>\n",
       "      <td>1325.449951</td>\n",
       "      <td>1479.000000</td>\n",
       "      <td>1602.849976</td>\n",
       "      <td>127.620003</td>\n",
       "      <td>322.399994</td>\n",
       "      <td>111.312500</td>\n",
       "      <td>385.987488</td>\n",
       "      <td>1465.099976</td>\n",
       "      <td>...</td>\n",
       "      <td>54.099998</td>\n",
       "      <td>6060.049805</td>\n",
       "      <td>308.850006</td>\n",
       "      <td>214.850006</td>\n",
       "      <td>NaN</td>\n",
       "      <td>238.050003</td>\n",
       "      <td>1663.849976</td>\n",
       "      <td>334.799988</td>\n",
       "      <td>2019-09-19</td>\n",
       "      <td>0</td>\n",
       "    </tr>\n",
       "    <tr>\n",
       "      <th>1</th>\n",
       "      <td>333.500000</td>\n",
       "      <td>20224.449219</td>\n",
       "      <td>1409.099976</td>\n",
       "      <td>1633.849976</td>\n",
       "      <td>1649.550049</td>\n",
       "      <td>130.934998</td>\n",
       "      <td>322.250000</td>\n",
       "      <td>116.375000</td>\n",
       "      <td>405.950012</td>\n",
       "      <td>1498.750000</td>\n",
       "      <td>...</td>\n",
       "      <td>55.500000</td>\n",
       "      <td>6107.250000</td>\n",
       "      <td>301.399994</td>\n",
       "      <td>215.250000</td>\n",
       "      <td>NaN</td>\n",
       "      <td>247.449997</td>\n",
       "      <td>1646.699951</td>\n",
       "      <td>321.733337</td>\n",
       "      <td>2019-09-20</td>\n",
       "      <td>1</td>\n",
       "    </tr>\n",
       "    <tr>\n",
       "      <th>2</th>\n",
       "      <td>350.174988</td>\n",
       "      <td>20379.150391</td>\n",
       "      <td>1553.250000</td>\n",
       "      <td>1675.750000</td>\n",
       "      <td>1745.699951</td>\n",
       "      <td>140.604996</td>\n",
       "      <td>341.250000</td>\n",
       "      <td>119.737503</td>\n",
       "      <td>418.537506</td>\n",
       "      <td>1601.349976</td>\n",
       "      <td>...</td>\n",
       "      <td>55.450001</td>\n",
       "      <td>6338.850098</td>\n",
       "      <td>271.600006</td>\n",
       "      <td>210.750000</td>\n",
       "      <td>NaN</td>\n",
       "      <td>247.600006</td>\n",
       "      <td>1708.099976</td>\n",
       "      <td>312.433319</td>\n",
       "      <td>2019-09-23</td>\n",
       "      <td>2</td>\n",
       "    </tr>\n",
       "    <tr>\n",
       "      <th>3</th>\n",
       "      <td>367.674988</td>\n",
       "      <td>19722.300781</td>\n",
       "      <td>1573.349976</td>\n",
       "      <td>1650.800049</td>\n",
       "      <td>1759.650024</td>\n",
       "      <td>141.744995</td>\n",
       "      <td>334.975006</td>\n",
       "      <td>120.724998</td>\n",
       "      <td>409.450012</td>\n",
       "      <td>1585.250000</td>\n",
       "      <td>...</td>\n",
       "      <td>56.049999</td>\n",
       "      <td>6184.850098</td>\n",
       "      <td>279.000000</td>\n",
       "      <td>210.000000</td>\n",
       "      <td>NaN</td>\n",
       "      <td>253.949997</td>\n",
       "      <td>1746.550049</td>\n",
       "      <td>303.399994</td>\n",
       "      <td>2019-09-24</td>\n",
       "      <td>3</td>\n",
       "    </tr>\n",
       "    <tr>\n",
       "      <th>4</th>\n",
       "      <td>351.237488</td>\n",
       "      <td>20058.949219</td>\n",
       "      <td>1539.599976</td>\n",
       "      <td>1633.650024</td>\n",
       "      <td>1737.500000</td>\n",
       "      <td>139.139999</td>\n",
       "      <td>322.024994</td>\n",
       "      <td>116.487503</td>\n",
       "      <td>404.937500</td>\n",
       "      <td>1586.500000</td>\n",
       "      <td>...</td>\n",
       "      <td>53.700001</td>\n",
       "      <td>6290.600098</td>\n",
       "      <td>273.450012</td>\n",
       "      <td>210.100006</td>\n",
       "      <td>NaN</td>\n",
       "      <td>249.100006</td>\n",
       "      <td>1749.400024</td>\n",
       "      <td>296.066681</td>\n",
       "      <td>2019-09-25</td>\n",
       "      <td>4</td>\n",
       "    </tr>\n",
       "  </tbody>\n",
       "</table>\n",
       "<p>5 rows × 503 columns</p>\n",
       "</div>"
      ],
      "text/plain": [
       "       360ONE       3MINDIA          ABB          ACC       AIAENG  \\\n",
       "0  317.625000  18526.500000  1325.449951  1479.000000  1602.849976   \n",
       "1  333.500000  20224.449219  1409.099976  1633.849976  1649.550049   \n",
       "2  350.174988  20379.150391  1553.250000  1675.750000  1745.699951   \n",
       "3  367.674988  19722.300781  1573.349976  1650.800049  1759.650024   \n",
       "4  351.237488  20058.949219  1539.599976  1633.650024  1737.500000   \n",
       "\n",
       "    APLAPOLLO      AUBANK  AARTIDRUGS    AARTIIND        AAVAS  ...  \\\n",
       "0  127.620003  322.399994  111.312500  385.987488  1465.099976  ...   \n",
       "1  130.934998  322.250000  116.375000  405.950012  1498.750000  ...   \n",
       "2  140.604996  341.250000  119.737503  418.537506  1601.349976  ...   \n",
       "3  141.744995  334.975006  120.724998  409.450012  1585.250000  ...   \n",
       "4  139.139999  322.024994  116.487503  404.937500  1586.500000  ...   \n",
       "\n",
       "     YESBANK    ZFCVINDIA        ZEEL  ZENSARTECH  ZOMATO   ZYDUSLIFE  \\\n",
       "0  54.099998  6060.049805  308.850006  214.850006     NaN  238.050003   \n",
       "1  55.500000  6107.250000  301.399994  215.250000     NaN  247.449997   \n",
       "2  55.450001  6338.850098  271.600006  210.750000     NaN  247.600006   \n",
       "3  56.049999  6184.850098  279.000000  210.000000     NaN  253.949997   \n",
       "4  53.700001  6290.600098  273.450012  210.100006     NaN  249.100006   \n",
       "\n",
       "     ZYDUSWELL      ECLERX   --date--  Date  \n",
       "0  1663.849976  334.799988 2019-09-19     0  \n",
       "1  1646.699951  321.733337 2019-09-20     1  \n",
       "2  1708.099976  312.433319 2019-09-23     2  \n",
       "3  1746.550049  303.399994 2019-09-24     3  \n",
       "4  1749.400024  296.066681 2019-09-25     4  \n",
       "\n",
       "[5 rows x 503 columns]"
      ]
     },
     "execution_count": 33,
     "metadata": {},
     "output_type": "execute_result"
    }
   ],
   "source": [
    "close_prices_df.head()"
   ]
  },
  {
   "cell_type": "markdown",
   "id": "a50f8faa",
   "metadata": {},
   "source": [
    "# Save data in file\n"
   ]
  },
  {
   "cell_type": "code",
   "execution_count": 38,
   "id": "536e7bed",
   "metadata": {},
   "outputs": [
    {
     "name": "stdout",
     "output_type": "stream",
     "text": [
      "<a href=\"Fetched_nifty500_fm2019_withDATE.csv\" download=\"Fetched_nifty500_fm2019_withDATE.csv\">Download CSV</a>\n"
     ]
    }
   ],
   "source": [
    "\n",
    "csv_filename = 'Fetched_nifty500_fm2019_withDATE.csv'\n",
    "final_test.to_csv(csv_filename, index=False)\n",
    "\n",
    "# Provide a link for downloading\n",
    "download_link = f'<a href=\"{csv_filename}\" download=\"{csv_filename}\">Download CSV</a>'\n",
    "\n",
    "\n",
    "\n",
    "# Display the link (you can print or use in a Jupyter Notebook)\n",
    "print(download_link)\n"
   ]
  },
  {
   "cell_type": "code",
   "execution_count": null,
   "id": "29f92b72",
   "metadata": {},
   "outputs": [],
   "source": []
  },
  {
   "cell_type": "code",
   "execution_count": 35,
   "id": "94ae2742",
   "metadata": {},
   "outputs": [],
   "source": [
    "final_test = close_prices_df"
   ]
  },
  {
   "cell_type": "code",
   "execution_count": 36,
   "id": "230374f6",
   "metadata": {},
   "outputs": [
    {
     "data": {
      "text/html": [
       "<div>\n",
       "<style scoped>\n",
       "    .dataframe tbody tr th:only-of-type {\n",
       "        vertical-align: middle;\n",
       "    }\n",
       "\n",
       "    .dataframe tbody tr th {\n",
       "        vertical-align: top;\n",
       "    }\n",
       "\n",
       "    .dataframe thead th {\n",
       "        text-align: right;\n",
       "    }\n",
       "</style>\n",
       "<table border=\"1\" class=\"dataframe\">\n",
       "  <thead>\n",
       "    <tr style=\"text-align: right;\">\n",
       "      <th></th>\n",
       "      <th>360ONE</th>\n",
       "      <th>3MINDIA</th>\n",
       "      <th>ABB</th>\n",
       "      <th>ACC</th>\n",
       "      <th>AIAENG</th>\n",
       "      <th>APLAPOLLO</th>\n",
       "      <th>AUBANK</th>\n",
       "      <th>AARTIDRUGS</th>\n",
       "      <th>AARTIIND</th>\n",
       "      <th>AAVAS</th>\n",
       "      <th>...</th>\n",
       "      <th>YESBANK</th>\n",
       "      <th>ZFCVINDIA</th>\n",
       "      <th>ZEEL</th>\n",
       "      <th>ZENSARTECH</th>\n",
       "      <th>ZOMATO</th>\n",
       "      <th>ZYDUSLIFE</th>\n",
       "      <th>ZYDUSWELL</th>\n",
       "      <th>ECLERX</th>\n",
       "      <th>--date--</th>\n",
       "      <th>Date</th>\n",
       "    </tr>\n",
       "  </thead>\n",
       "  <tbody>\n",
       "    <tr>\n",
       "      <th>0</th>\n",
       "      <td>317.625000</td>\n",
       "      <td>18526.500000</td>\n",
       "      <td>1325.449951</td>\n",
       "      <td>1479.000000</td>\n",
       "      <td>1602.849976</td>\n",
       "      <td>127.620003</td>\n",
       "      <td>322.399994</td>\n",
       "      <td>111.312500</td>\n",
       "      <td>385.987488</td>\n",
       "      <td>1465.099976</td>\n",
       "      <td>...</td>\n",
       "      <td>54.099998</td>\n",
       "      <td>6060.049805</td>\n",
       "      <td>308.850006</td>\n",
       "      <td>214.850006</td>\n",
       "      <td>NaN</td>\n",
       "      <td>238.050003</td>\n",
       "      <td>1663.849976</td>\n",
       "      <td>334.799988</td>\n",
       "      <td>2019-09-19</td>\n",
       "      <td>0</td>\n",
       "    </tr>\n",
       "    <tr>\n",
       "      <th>1</th>\n",
       "      <td>333.500000</td>\n",
       "      <td>20224.449219</td>\n",
       "      <td>1409.099976</td>\n",
       "      <td>1633.849976</td>\n",
       "      <td>1649.550049</td>\n",
       "      <td>130.934998</td>\n",
       "      <td>322.250000</td>\n",
       "      <td>116.375000</td>\n",
       "      <td>405.950012</td>\n",
       "      <td>1498.750000</td>\n",
       "      <td>...</td>\n",
       "      <td>55.500000</td>\n",
       "      <td>6107.250000</td>\n",
       "      <td>301.399994</td>\n",
       "      <td>215.250000</td>\n",
       "      <td>NaN</td>\n",
       "      <td>247.449997</td>\n",
       "      <td>1646.699951</td>\n",
       "      <td>321.733337</td>\n",
       "      <td>2019-09-20</td>\n",
       "      <td>1</td>\n",
       "    </tr>\n",
       "    <tr>\n",
       "      <th>2</th>\n",
       "      <td>350.174988</td>\n",
       "      <td>20379.150391</td>\n",
       "      <td>1553.250000</td>\n",
       "      <td>1675.750000</td>\n",
       "      <td>1745.699951</td>\n",
       "      <td>140.604996</td>\n",
       "      <td>341.250000</td>\n",
       "      <td>119.737503</td>\n",
       "      <td>418.537506</td>\n",
       "      <td>1601.349976</td>\n",
       "      <td>...</td>\n",
       "      <td>55.450001</td>\n",
       "      <td>6338.850098</td>\n",
       "      <td>271.600006</td>\n",
       "      <td>210.750000</td>\n",
       "      <td>NaN</td>\n",
       "      <td>247.600006</td>\n",
       "      <td>1708.099976</td>\n",
       "      <td>312.433319</td>\n",
       "      <td>2019-09-23</td>\n",
       "      <td>2</td>\n",
       "    </tr>\n",
       "    <tr>\n",
       "      <th>3</th>\n",
       "      <td>367.674988</td>\n",
       "      <td>19722.300781</td>\n",
       "      <td>1573.349976</td>\n",
       "      <td>1650.800049</td>\n",
       "      <td>1759.650024</td>\n",
       "      <td>141.744995</td>\n",
       "      <td>334.975006</td>\n",
       "      <td>120.724998</td>\n",
       "      <td>409.450012</td>\n",
       "      <td>1585.250000</td>\n",
       "      <td>...</td>\n",
       "      <td>56.049999</td>\n",
       "      <td>6184.850098</td>\n",
       "      <td>279.000000</td>\n",
       "      <td>210.000000</td>\n",
       "      <td>NaN</td>\n",
       "      <td>253.949997</td>\n",
       "      <td>1746.550049</td>\n",
       "      <td>303.399994</td>\n",
       "      <td>2019-09-24</td>\n",
       "      <td>3</td>\n",
       "    </tr>\n",
       "    <tr>\n",
       "      <th>4</th>\n",
       "      <td>351.237488</td>\n",
       "      <td>20058.949219</td>\n",
       "      <td>1539.599976</td>\n",
       "      <td>1633.650024</td>\n",
       "      <td>1737.500000</td>\n",
       "      <td>139.139999</td>\n",
       "      <td>322.024994</td>\n",
       "      <td>116.487503</td>\n",
       "      <td>404.937500</td>\n",
       "      <td>1586.500000</td>\n",
       "      <td>...</td>\n",
       "      <td>53.700001</td>\n",
       "      <td>6290.600098</td>\n",
       "      <td>273.450012</td>\n",
       "      <td>210.100006</td>\n",
       "      <td>NaN</td>\n",
       "      <td>249.100006</td>\n",
       "      <td>1749.400024</td>\n",
       "      <td>296.066681</td>\n",
       "      <td>2019-09-25</td>\n",
       "      <td>4</td>\n",
       "    </tr>\n",
       "    <tr>\n",
       "      <th>...</th>\n",
       "      <td>...</td>\n",
       "      <td>...</td>\n",
       "      <td>...</td>\n",
       "      <td>...</td>\n",
       "      <td>...</td>\n",
       "      <td>...</td>\n",
       "      <td>...</td>\n",
       "      <td>...</td>\n",
       "      <td>...</td>\n",
       "      <td>...</td>\n",
       "      <td>...</td>\n",
       "      <td>...</td>\n",
       "      <td>...</td>\n",
       "      <td>...</td>\n",
       "      <td>...</td>\n",
       "      <td>...</td>\n",
       "      <td>...</td>\n",
       "      <td>...</td>\n",
       "      <td>...</td>\n",
       "      <td>...</td>\n",
       "      <td>...</td>\n",
       "    </tr>\n",
       "    <tr>\n",
       "      <th>1084</th>\n",
       "      <td>604.950012</td>\n",
       "      <td>32868.800781</td>\n",
       "      <td>4480.450195</td>\n",
       "      <td>2499.449951</td>\n",
       "      <td>4461.200195</td>\n",
       "      <td>1478.650024</td>\n",
       "      <td>629.000000</td>\n",
       "      <td>509.350006</td>\n",
       "      <td>644.700012</td>\n",
       "      <td>1484.050049</td>\n",
       "      <td>...</td>\n",
       "      <td>23.700001</td>\n",
       "      <td>14902.950195</td>\n",
       "      <td>172.899994</td>\n",
       "      <td>560.950012</td>\n",
       "      <td>143.800003</td>\n",
       "      <td>761.150024</td>\n",
       "      <td>1598.650024</td>\n",
       "      <td>2687.050049</td>\n",
       "      <td>2024-02-02</td>\n",
       "      <td>1084</td>\n",
       "    </tr>\n",
       "    <tr>\n",
       "      <th>1085</th>\n",
       "      <td>615.500000</td>\n",
       "      <td>32380.949219</td>\n",
       "      <td>4368.200195</td>\n",
       "      <td>2486.199951</td>\n",
       "      <td>4323.200195</td>\n",
       "      <td>1435.599976</td>\n",
       "      <td>622.599976</td>\n",
       "      <td>520.549988</td>\n",
       "      <td>643.799988</td>\n",
       "      <td>1438.500000</td>\n",
       "      <td>...</td>\n",
       "      <td>22.799999</td>\n",
       "      <td>14434.950195</td>\n",
       "      <td>178.000000</td>\n",
       "      <td>564.400024</td>\n",
       "      <td>140.250000</td>\n",
       "      <td>760.900024</td>\n",
       "      <td>1589.699951</td>\n",
       "      <td>2624.550049</td>\n",
       "      <td>2024-02-05</td>\n",
       "      <td>1085</td>\n",
       "    </tr>\n",
       "    <tr>\n",
       "      <th>1086</th>\n",
       "      <td>628.500000</td>\n",
       "      <td>33123.250000</td>\n",
       "      <td>4403.000000</td>\n",
       "      <td>2528.250000</td>\n",
       "      <td>4423.049805</td>\n",
       "      <td>1402.849976</td>\n",
       "      <td>616.500000</td>\n",
       "      <td>538.650024</td>\n",
       "      <td>660.049988</td>\n",
       "      <td>1447.000000</td>\n",
       "      <td>...</td>\n",
       "      <td>25.400000</td>\n",
       "      <td>14202.849609</td>\n",
       "      <td>175.800003</td>\n",
       "      <td>592.150024</td>\n",
       "      <td>139.949997</td>\n",
       "      <td>797.400024</td>\n",
       "      <td>1600.349976</td>\n",
       "      <td>2667.949951</td>\n",
       "      <td>2024-02-06</td>\n",
       "      <td>1086</td>\n",
       "    </tr>\n",
       "    <tr>\n",
       "      <th>1087</th>\n",
       "      <td>643.099976</td>\n",
       "      <td>33972.648438</td>\n",
       "      <td>4575.100098</td>\n",
       "      <td>2505.550049</td>\n",
       "      <td>4129.350098</td>\n",
       "      <td>1382.900024</td>\n",
       "      <td>618.900024</td>\n",
       "      <td>532.700012</td>\n",
       "      <td>666.549988</td>\n",
       "      <td>1438.449951</td>\n",
       "      <td>...</td>\n",
       "      <td>29.799999</td>\n",
       "      <td>14781.349609</td>\n",
       "      <td>182.350006</td>\n",
       "      <td>591.750000</td>\n",
       "      <td>140.399994</td>\n",
       "      <td>791.599976</td>\n",
       "      <td>1628.699951</td>\n",
       "      <td>2635.850098</td>\n",
       "      <td>2024-02-07</td>\n",
       "      <td>1087</td>\n",
       "    </tr>\n",
       "    <tr>\n",
       "      <th>1088</th>\n",
       "      <td>666.500000</td>\n",
       "      <td>34345.199219</td>\n",
       "      <td>4495.799805</td>\n",
       "      <td>2521.399902</td>\n",
       "      <td>3923.000000</td>\n",
       "      <td>1404.300049</td>\n",
       "      <td>600.049988</td>\n",
       "      <td>531.549988</td>\n",
       "      <td>649.400024</td>\n",
       "      <td>1420.250000</td>\n",
       "      <td>...</td>\n",
       "      <td>30.100000</td>\n",
       "      <td>14460.049805</td>\n",
       "      <td>190.199997</td>\n",
       "      <td>587.099976</td>\n",
       "      <td>143.899994</td>\n",
       "      <td>806.950012</td>\n",
       "      <td>1589.000000</td>\n",
       "      <td>2555.199951</td>\n",
       "      <td>2024-02-08</td>\n",
       "      <td>1088</td>\n",
       "    </tr>\n",
       "  </tbody>\n",
       "</table>\n",
       "<p>1089 rows × 503 columns</p>\n",
       "</div>"
      ],
      "text/plain": [
       "          360ONE       3MINDIA          ABB          ACC       AIAENG  \\\n",
       "0     317.625000  18526.500000  1325.449951  1479.000000  1602.849976   \n",
       "1     333.500000  20224.449219  1409.099976  1633.849976  1649.550049   \n",
       "2     350.174988  20379.150391  1553.250000  1675.750000  1745.699951   \n",
       "3     367.674988  19722.300781  1573.349976  1650.800049  1759.650024   \n",
       "4     351.237488  20058.949219  1539.599976  1633.650024  1737.500000   \n",
       "...          ...           ...          ...          ...          ...   \n",
       "1084  604.950012  32868.800781  4480.450195  2499.449951  4461.200195   \n",
       "1085  615.500000  32380.949219  4368.200195  2486.199951  4323.200195   \n",
       "1086  628.500000  33123.250000  4403.000000  2528.250000  4423.049805   \n",
       "1087  643.099976  33972.648438  4575.100098  2505.550049  4129.350098   \n",
       "1088  666.500000  34345.199219  4495.799805  2521.399902  3923.000000   \n",
       "\n",
       "        APLAPOLLO      AUBANK  AARTIDRUGS    AARTIIND        AAVAS  ...  \\\n",
       "0      127.620003  322.399994  111.312500  385.987488  1465.099976  ...   \n",
       "1      130.934998  322.250000  116.375000  405.950012  1498.750000  ...   \n",
       "2      140.604996  341.250000  119.737503  418.537506  1601.349976  ...   \n",
       "3      141.744995  334.975006  120.724998  409.450012  1585.250000  ...   \n",
       "4      139.139999  322.024994  116.487503  404.937500  1586.500000  ...   \n",
       "...           ...         ...         ...         ...          ...  ...   \n",
       "1084  1478.650024  629.000000  509.350006  644.700012  1484.050049  ...   \n",
       "1085  1435.599976  622.599976  520.549988  643.799988  1438.500000  ...   \n",
       "1086  1402.849976  616.500000  538.650024  660.049988  1447.000000  ...   \n",
       "1087  1382.900024  618.900024  532.700012  666.549988  1438.449951  ...   \n",
       "1088  1404.300049  600.049988  531.549988  649.400024  1420.250000  ...   \n",
       "\n",
       "        YESBANK     ZFCVINDIA        ZEEL  ZENSARTECH      ZOMATO   ZYDUSLIFE  \\\n",
       "0     54.099998   6060.049805  308.850006  214.850006         NaN  238.050003   \n",
       "1     55.500000   6107.250000  301.399994  215.250000         NaN  247.449997   \n",
       "2     55.450001   6338.850098  271.600006  210.750000         NaN  247.600006   \n",
       "3     56.049999   6184.850098  279.000000  210.000000         NaN  253.949997   \n",
       "4     53.700001   6290.600098  273.450012  210.100006         NaN  249.100006   \n",
       "...         ...           ...         ...         ...         ...         ...   \n",
       "1084  23.700001  14902.950195  172.899994  560.950012  143.800003  761.150024   \n",
       "1085  22.799999  14434.950195  178.000000  564.400024  140.250000  760.900024   \n",
       "1086  25.400000  14202.849609  175.800003  592.150024  139.949997  797.400024   \n",
       "1087  29.799999  14781.349609  182.350006  591.750000  140.399994  791.599976   \n",
       "1088  30.100000  14460.049805  190.199997  587.099976  143.899994  806.950012   \n",
       "\n",
       "        ZYDUSWELL       ECLERX   --date--  Date  \n",
       "0     1663.849976   334.799988 2019-09-19     0  \n",
       "1     1646.699951   321.733337 2019-09-20     1  \n",
       "2     1708.099976   312.433319 2019-09-23     2  \n",
       "3     1746.550049   303.399994 2019-09-24     3  \n",
       "4     1749.400024   296.066681 2019-09-25     4  \n",
       "...           ...          ...        ...   ...  \n",
       "1084  1598.650024  2687.050049 2024-02-02  1084  \n",
       "1085  1589.699951  2624.550049 2024-02-05  1085  \n",
       "1086  1600.349976  2667.949951 2024-02-06  1086  \n",
       "1087  1628.699951  2635.850098 2024-02-07  1087  \n",
       "1088  1589.000000  2555.199951 2024-02-08  1088  \n",
       "\n",
       "[1089 rows x 503 columns]"
      ]
     },
     "execution_count": 36,
     "metadata": {},
     "output_type": "execute_result"
    }
   ],
   "source": [
    "final_test"
   ]
  },
  {
   "cell_type": "code",
   "execution_count": null,
   "id": "468f0ab2",
   "metadata": {},
   "outputs": [],
   "source": []
  },
  {
   "cell_type": "code",
   "execution_count": 31,
   "id": "eea73d11",
   "metadata": {},
   "outputs": [],
   "source": [
    "test = close_prices_df"
   ]
  },
  {
   "cell_type": "code",
   "execution_count": 32,
   "id": "9ae5b3d3",
   "metadata": {},
   "outputs": [
    {
     "data": {
      "text/html": [
       "<div>\n",
       "<style scoped>\n",
       "    .dataframe tbody tr th:only-of-type {\n",
       "        vertical-align: middle;\n",
       "    }\n",
       "\n",
       "    .dataframe tbody tr th {\n",
       "        vertical-align: top;\n",
       "    }\n",
       "\n",
       "    .dataframe thead th {\n",
       "        text-align: right;\n",
       "    }\n",
       "</style>\n",
       "<table border=\"1\" class=\"dataframe\">\n",
       "  <thead>\n",
       "    <tr style=\"text-align: right;\">\n",
       "      <th></th>\n",
       "      <th>360ONE</th>\n",
       "      <th>3MINDIA</th>\n",
       "      <th>ABB</th>\n",
       "      <th>ACC</th>\n",
       "      <th>AIAENG</th>\n",
       "      <th>APLAPOLLO</th>\n",
       "      <th>AUBANK</th>\n",
       "      <th>AARTIDRUGS</th>\n",
       "      <th>AARTIIND</th>\n",
       "      <th>AAVAS</th>\n",
       "      <th>...</th>\n",
       "      <th>YESBANK</th>\n",
       "      <th>ZFCVINDIA</th>\n",
       "      <th>ZEEL</th>\n",
       "      <th>ZENSARTECH</th>\n",
       "      <th>ZOMATO</th>\n",
       "      <th>ZYDUSLIFE</th>\n",
       "      <th>ZYDUSWELL</th>\n",
       "      <th>ECLERX</th>\n",
       "      <th>--date--</th>\n",
       "      <th>Date</th>\n",
       "    </tr>\n",
       "  </thead>\n",
       "  <tbody>\n",
       "    <tr>\n",
       "      <th>0</th>\n",
       "      <td>317.625000</td>\n",
       "      <td>18526.500000</td>\n",
       "      <td>1325.449951</td>\n",
       "      <td>1479.000000</td>\n",
       "      <td>1602.849976</td>\n",
       "      <td>127.620003</td>\n",
       "      <td>322.399994</td>\n",
       "      <td>111.312500</td>\n",
       "      <td>385.987488</td>\n",
       "      <td>1465.099976</td>\n",
       "      <td>...</td>\n",
       "      <td>54.099998</td>\n",
       "      <td>6060.049805</td>\n",
       "      <td>308.850006</td>\n",
       "      <td>214.850006</td>\n",
       "      <td>NaN</td>\n",
       "      <td>238.050003</td>\n",
       "      <td>1663.849976</td>\n",
       "      <td>334.799988</td>\n",
       "      <td>2019-09-19</td>\n",
       "      <td>0</td>\n",
       "    </tr>\n",
       "    <tr>\n",
       "      <th>1</th>\n",
       "      <td>333.500000</td>\n",
       "      <td>20224.449219</td>\n",
       "      <td>1409.099976</td>\n",
       "      <td>1633.849976</td>\n",
       "      <td>1649.550049</td>\n",
       "      <td>130.934998</td>\n",
       "      <td>322.250000</td>\n",
       "      <td>116.375000</td>\n",
       "      <td>405.950012</td>\n",
       "      <td>1498.750000</td>\n",
       "      <td>...</td>\n",
       "      <td>55.500000</td>\n",
       "      <td>6107.250000</td>\n",
       "      <td>301.399994</td>\n",
       "      <td>215.250000</td>\n",
       "      <td>NaN</td>\n",
       "      <td>247.449997</td>\n",
       "      <td>1646.699951</td>\n",
       "      <td>321.733337</td>\n",
       "      <td>2019-09-20</td>\n",
       "      <td>1</td>\n",
       "    </tr>\n",
       "    <tr>\n",
       "      <th>2</th>\n",
       "      <td>350.174988</td>\n",
       "      <td>20379.150391</td>\n",
       "      <td>1553.250000</td>\n",
       "      <td>1675.750000</td>\n",
       "      <td>1745.699951</td>\n",
       "      <td>140.604996</td>\n",
       "      <td>341.250000</td>\n",
       "      <td>119.737503</td>\n",
       "      <td>418.537506</td>\n",
       "      <td>1601.349976</td>\n",
       "      <td>...</td>\n",
       "      <td>55.450001</td>\n",
       "      <td>6338.850098</td>\n",
       "      <td>271.600006</td>\n",
       "      <td>210.750000</td>\n",
       "      <td>NaN</td>\n",
       "      <td>247.600006</td>\n",
       "      <td>1708.099976</td>\n",
       "      <td>312.433319</td>\n",
       "      <td>2019-09-23</td>\n",
       "      <td>2</td>\n",
       "    </tr>\n",
       "    <tr>\n",
       "      <th>3</th>\n",
       "      <td>367.674988</td>\n",
       "      <td>19722.300781</td>\n",
       "      <td>1573.349976</td>\n",
       "      <td>1650.800049</td>\n",
       "      <td>1759.650024</td>\n",
       "      <td>141.744995</td>\n",
       "      <td>334.975006</td>\n",
       "      <td>120.724998</td>\n",
       "      <td>409.450012</td>\n",
       "      <td>1585.250000</td>\n",
       "      <td>...</td>\n",
       "      <td>56.049999</td>\n",
       "      <td>6184.850098</td>\n",
       "      <td>279.000000</td>\n",
       "      <td>210.000000</td>\n",
       "      <td>NaN</td>\n",
       "      <td>253.949997</td>\n",
       "      <td>1746.550049</td>\n",
       "      <td>303.399994</td>\n",
       "      <td>2019-09-24</td>\n",
       "      <td>3</td>\n",
       "    </tr>\n",
       "    <tr>\n",
       "      <th>4</th>\n",
       "      <td>351.237488</td>\n",
       "      <td>20058.949219</td>\n",
       "      <td>1539.599976</td>\n",
       "      <td>1633.650024</td>\n",
       "      <td>1737.500000</td>\n",
       "      <td>139.139999</td>\n",
       "      <td>322.024994</td>\n",
       "      <td>116.487503</td>\n",
       "      <td>404.937500</td>\n",
       "      <td>1586.500000</td>\n",
       "      <td>...</td>\n",
       "      <td>53.700001</td>\n",
       "      <td>6290.600098</td>\n",
       "      <td>273.450012</td>\n",
       "      <td>210.100006</td>\n",
       "      <td>NaN</td>\n",
       "      <td>249.100006</td>\n",
       "      <td>1749.400024</td>\n",
       "      <td>296.066681</td>\n",
       "      <td>2019-09-25</td>\n",
       "      <td>4</td>\n",
       "    </tr>\n",
       "    <tr>\n",
       "      <th>...</th>\n",
       "      <td>...</td>\n",
       "      <td>...</td>\n",
       "      <td>...</td>\n",
       "      <td>...</td>\n",
       "      <td>...</td>\n",
       "      <td>...</td>\n",
       "      <td>...</td>\n",
       "      <td>...</td>\n",
       "      <td>...</td>\n",
       "      <td>...</td>\n",
       "      <td>...</td>\n",
       "      <td>...</td>\n",
       "      <td>...</td>\n",
       "      <td>...</td>\n",
       "      <td>...</td>\n",
       "      <td>...</td>\n",
       "      <td>...</td>\n",
       "      <td>...</td>\n",
       "      <td>...</td>\n",
       "      <td>...</td>\n",
       "      <td>...</td>\n",
       "    </tr>\n",
       "    <tr>\n",
       "      <th>1084</th>\n",
       "      <td>604.950012</td>\n",
       "      <td>32868.800781</td>\n",
       "      <td>4480.450195</td>\n",
       "      <td>2499.449951</td>\n",
       "      <td>4461.200195</td>\n",
       "      <td>1478.650024</td>\n",
       "      <td>629.000000</td>\n",
       "      <td>509.350006</td>\n",
       "      <td>644.700012</td>\n",
       "      <td>1484.050049</td>\n",
       "      <td>...</td>\n",
       "      <td>23.700001</td>\n",
       "      <td>14902.950195</td>\n",
       "      <td>172.899994</td>\n",
       "      <td>560.950012</td>\n",
       "      <td>143.800003</td>\n",
       "      <td>761.150024</td>\n",
       "      <td>1598.650024</td>\n",
       "      <td>2687.050049</td>\n",
       "      <td>2024-02-02</td>\n",
       "      <td>1084</td>\n",
       "    </tr>\n",
       "    <tr>\n",
       "      <th>1085</th>\n",
       "      <td>615.500000</td>\n",
       "      <td>32380.949219</td>\n",
       "      <td>4368.200195</td>\n",
       "      <td>2486.199951</td>\n",
       "      <td>4323.200195</td>\n",
       "      <td>1435.599976</td>\n",
       "      <td>622.599976</td>\n",
       "      <td>520.549988</td>\n",
       "      <td>643.799988</td>\n",
       "      <td>1438.500000</td>\n",
       "      <td>...</td>\n",
       "      <td>22.799999</td>\n",
       "      <td>14434.950195</td>\n",
       "      <td>178.000000</td>\n",
       "      <td>564.400024</td>\n",
       "      <td>140.250000</td>\n",
       "      <td>760.900024</td>\n",
       "      <td>1589.699951</td>\n",
       "      <td>2624.550049</td>\n",
       "      <td>2024-02-05</td>\n",
       "      <td>1085</td>\n",
       "    </tr>\n",
       "    <tr>\n",
       "      <th>1086</th>\n",
       "      <td>628.500000</td>\n",
       "      <td>33123.250000</td>\n",
       "      <td>4403.000000</td>\n",
       "      <td>2528.250000</td>\n",
       "      <td>4423.049805</td>\n",
       "      <td>1402.849976</td>\n",
       "      <td>616.500000</td>\n",
       "      <td>538.650024</td>\n",
       "      <td>660.049988</td>\n",
       "      <td>1447.000000</td>\n",
       "      <td>...</td>\n",
       "      <td>25.400000</td>\n",
       "      <td>14202.849609</td>\n",
       "      <td>175.800003</td>\n",
       "      <td>592.150024</td>\n",
       "      <td>139.949997</td>\n",
       "      <td>797.400024</td>\n",
       "      <td>1600.349976</td>\n",
       "      <td>2667.949951</td>\n",
       "      <td>2024-02-06</td>\n",
       "      <td>1086</td>\n",
       "    </tr>\n",
       "    <tr>\n",
       "      <th>1087</th>\n",
       "      <td>643.099976</td>\n",
       "      <td>33972.648438</td>\n",
       "      <td>4575.100098</td>\n",
       "      <td>2505.550049</td>\n",
       "      <td>4129.350098</td>\n",
       "      <td>1382.900024</td>\n",
       "      <td>618.900024</td>\n",
       "      <td>532.700012</td>\n",
       "      <td>666.549988</td>\n",
       "      <td>1438.449951</td>\n",
       "      <td>...</td>\n",
       "      <td>29.799999</td>\n",
       "      <td>14781.349609</td>\n",
       "      <td>182.350006</td>\n",
       "      <td>591.750000</td>\n",
       "      <td>140.399994</td>\n",
       "      <td>791.599976</td>\n",
       "      <td>1628.699951</td>\n",
       "      <td>2635.850098</td>\n",
       "      <td>2024-02-07</td>\n",
       "      <td>1087</td>\n",
       "    </tr>\n",
       "    <tr>\n",
       "      <th>1088</th>\n",
       "      <td>666.500000</td>\n",
       "      <td>34345.199219</td>\n",
       "      <td>4495.799805</td>\n",
       "      <td>2521.399902</td>\n",
       "      <td>3923.000000</td>\n",
       "      <td>1404.300049</td>\n",
       "      <td>600.049988</td>\n",
       "      <td>531.549988</td>\n",
       "      <td>649.400024</td>\n",
       "      <td>1420.250000</td>\n",
       "      <td>...</td>\n",
       "      <td>30.100000</td>\n",
       "      <td>14460.049805</td>\n",
       "      <td>190.199997</td>\n",
       "      <td>587.099976</td>\n",
       "      <td>143.899994</td>\n",
       "      <td>806.950012</td>\n",
       "      <td>1589.000000</td>\n",
       "      <td>2555.199951</td>\n",
       "      <td>2024-02-08</td>\n",
       "      <td>1088</td>\n",
       "    </tr>\n",
       "  </tbody>\n",
       "</table>\n",
       "<p>1089 rows × 503 columns</p>\n",
       "</div>"
      ],
      "text/plain": [
       "          360ONE       3MINDIA          ABB          ACC       AIAENG  \\\n",
       "0     317.625000  18526.500000  1325.449951  1479.000000  1602.849976   \n",
       "1     333.500000  20224.449219  1409.099976  1633.849976  1649.550049   \n",
       "2     350.174988  20379.150391  1553.250000  1675.750000  1745.699951   \n",
       "3     367.674988  19722.300781  1573.349976  1650.800049  1759.650024   \n",
       "4     351.237488  20058.949219  1539.599976  1633.650024  1737.500000   \n",
       "...          ...           ...          ...          ...          ...   \n",
       "1084  604.950012  32868.800781  4480.450195  2499.449951  4461.200195   \n",
       "1085  615.500000  32380.949219  4368.200195  2486.199951  4323.200195   \n",
       "1086  628.500000  33123.250000  4403.000000  2528.250000  4423.049805   \n",
       "1087  643.099976  33972.648438  4575.100098  2505.550049  4129.350098   \n",
       "1088  666.500000  34345.199219  4495.799805  2521.399902  3923.000000   \n",
       "\n",
       "        APLAPOLLO      AUBANK  AARTIDRUGS    AARTIIND        AAVAS  ...  \\\n",
       "0      127.620003  322.399994  111.312500  385.987488  1465.099976  ...   \n",
       "1      130.934998  322.250000  116.375000  405.950012  1498.750000  ...   \n",
       "2      140.604996  341.250000  119.737503  418.537506  1601.349976  ...   \n",
       "3      141.744995  334.975006  120.724998  409.450012  1585.250000  ...   \n",
       "4      139.139999  322.024994  116.487503  404.937500  1586.500000  ...   \n",
       "...           ...         ...         ...         ...          ...  ...   \n",
       "1084  1478.650024  629.000000  509.350006  644.700012  1484.050049  ...   \n",
       "1085  1435.599976  622.599976  520.549988  643.799988  1438.500000  ...   \n",
       "1086  1402.849976  616.500000  538.650024  660.049988  1447.000000  ...   \n",
       "1087  1382.900024  618.900024  532.700012  666.549988  1438.449951  ...   \n",
       "1088  1404.300049  600.049988  531.549988  649.400024  1420.250000  ...   \n",
       "\n",
       "        YESBANK     ZFCVINDIA        ZEEL  ZENSARTECH      ZOMATO   ZYDUSLIFE  \\\n",
       "0     54.099998   6060.049805  308.850006  214.850006         NaN  238.050003   \n",
       "1     55.500000   6107.250000  301.399994  215.250000         NaN  247.449997   \n",
       "2     55.450001   6338.850098  271.600006  210.750000         NaN  247.600006   \n",
       "3     56.049999   6184.850098  279.000000  210.000000         NaN  253.949997   \n",
       "4     53.700001   6290.600098  273.450012  210.100006         NaN  249.100006   \n",
       "...         ...           ...         ...         ...         ...         ...   \n",
       "1084  23.700001  14902.950195  172.899994  560.950012  143.800003  761.150024   \n",
       "1085  22.799999  14434.950195  178.000000  564.400024  140.250000  760.900024   \n",
       "1086  25.400000  14202.849609  175.800003  592.150024  139.949997  797.400024   \n",
       "1087  29.799999  14781.349609  182.350006  591.750000  140.399994  791.599976   \n",
       "1088  30.100000  14460.049805  190.199997  587.099976  143.899994  806.950012   \n",
       "\n",
       "        ZYDUSWELL       ECLERX   --date--  Date  \n",
       "0     1663.849976   334.799988 2019-09-19     0  \n",
       "1     1646.699951   321.733337 2019-09-20     1  \n",
       "2     1708.099976   312.433319 2019-09-23     2  \n",
       "3     1746.550049   303.399994 2019-09-24     3  \n",
       "4     1749.400024   296.066681 2019-09-25     4  \n",
       "...           ...          ...        ...   ...  \n",
       "1084  1598.650024  2687.050049 2024-02-02  1084  \n",
       "1085  1589.699951  2624.550049 2024-02-05  1085  \n",
       "1086  1600.349976  2667.949951 2024-02-06  1086  \n",
       "1087  1628.699951  2635.850098 2024-02-07  1087  \n",
       "1088  1589.000000  2555.199951 2024-02-08  1088  \n",
       "\n",
       "[1089 rows x 503 columns]"
      ]
     },
     "execution_count": 32,
     "metadata": {},
     "output_type": "execute_result"
    }
   ],
   "source": [
    "test"
   ]
  },
  {
   "cell_type": "code",
   "execution_count": 29,
   "id": "8737970f",
   "metadata": {},
   "outputs": [
    {
     "name": "stderr",
     "output_type": "stream",
     "text": [
      "C:\\Users\\Rohan Sheth\\AppData\\Local\\Temp\\ipykernel_6076\\735451407.py:1: PerformanceWarning: DataFrame is highly fragmented.  This is usually the result of calling `frame.insert` many times, which has poor performance.  Consider joining all columns at once using pd.concat(axis=1) instead. To get a de-fragmented frame, use `newframe = frame.copy()`\n",
      "  test['Date'] = test.index\n"
     ]
    }
   ],
   "source": [
    "test['Date'] = test.index\n",
    "\n",
    "# Reset the index\n",
    "test.reset_index(drop=True, inplace=True)"
   ]
  },
  {
   "cell_type": "code",
   "execution_count": 18,
   "id": "b7b668f1",
   "metadata": {},
   "outputs": [
    {
     "data": {
      "text/html": [
       "<div>\n",
       "<style scoped>\n",
       "    .dataframe tbody tr th:only-of-type {\n",
       "        vertical-align: middle;\n",
       "    }\n",
       "\n",
       "    .dataframe tbody tr th {\n",
       "        vertical-align: top;\n",
       "    }\n",
       "\n",
       "    .dataframe thead th {\n",
       "        text-align: right;\n",
       "    }\n",
       "</style>\n",
       "<table border=\"1\" class=\"dataframe\">\n",
       "  <thead>\n",
       "    <tr style=\"text-align: right;\">\n",
       "      <th></th>\n",
       "      <th>360ONE</th>\n",
       "      <th>3MINDIA</th>\n",
       "      <th>ABB</th>\n",
       "      <th>ACC</th>\n",
       "      <th>AIAENG</th>\n",
       "      <th>APLAPOLLO</th>\n",
       "      <th>AUBANK</th>\n",
       "      <th>AARTIDRUGS</th>\n",
       "      <th>AARTIIND</th>\n",
       "      <th>AAVAS</th>\n",
       "      <th>...</th>\n",
       "      <th>WHIRLPOOL</th>\n",
       "      <th>WIPRO</th>\n",
       "      <th>YESBANK</th>\n",
       "      <th>ZFCVINDIA</th>\n",
       "      <th>ZEEL</th>\n",
       "      <th>ZENSARTECH</th>\n",
       "      <th>ZOMATO</th>\n",
       "      <th>ZYDUSLIFE</th>\n",
       "      <th>ZYDUSWELL</th>\n",
       "      <th>ECLERX</th>\n",
       "    </tr>\n",
       "  </thead>\n",
       "  <tbody>\n",
       "    <tr>\n",
       "      <th>0</th>\n",
       "      <td>317.625000</td>\n",
       "      <td>18526.500000</td>\n",
       "      <td>1325.449951</td>\n",
       "      <td>1479.000000</td>\n",
       "      <td>1602.849976</td>\n",
       "      <td>127.620003</td>\n",
       "      <td>322.399994</td>\n",
       "      <td>111.312500</td>\n",
       "      <td>385.987488</td>\n",
       "      <td>1465.099976</td>\n",
       "      <td>...</td>\n",
       "      <td>1674.750000</td>\n",
       "      <td>241.500000</td>\n",
       "      <td>54.099998</td>\n",
       "      <td>6060.049805</td>\n",
       "      <td>308.850006</td>\n",
       "      <td>214.850006</td>\n",
       "      <td>NaN</td>\n",
       "      <td>238.050003</td>\n",
       "      <td>1663.849976</td>\n",
       "      <td>334.799988</td>\n",
       "    </tr>\n",
       "    <tr>\n",
       "      <th>1</th>\n",
       "      <td>333.500000</td>\n",
       "      <td>20224.449219</td>\n",
       "      <td>1409.099976</td>\n",
       "      <td>1633.849976</td>\n",
       "      <td>1649.550049</td>\n",
       "      <td>130.934998</td>\n",
       "      <td>322.250000</td>\n",
       "      <td>116.375000</td>\n",
       "      <td>405.950012</td>\n",
       "      <td>1498.750000</td>\n",
       "      <td>...</td>\n",
       "      <td>1807.900024</td>\n",
       "      <td>245.949997</td>\n",
       "      <td>55.500000</td>\n",
       "      <td>6107.250000</td>\n",
       "      <td>301.399994</td>\n",
       "      <td>215.250000</td>\n",
       "      <td>NaN</td>\n",
       "      <td>247.449997</td>\n",
       "      <td>1646.699951</td>\n",
       "      <td>321.733337</td>\n",
       "    </tr>\n",
       "    <tr>\n",
       "      <th>2</th>\n",
       "      <td>350.174988</td>\n",
       "      <td>20379.150391</td>\n",
       "      <td>1553.250000</td>\n",
       "      <td>1675.750000</td>\n",
       "      <td>1745.699951</td>\n",
       "      <td>140.604996</td>\n",
       "      <td>341.250000</td>\n",
       "      <td>119.737503</td>\n",
       "      <td>418.537506</td>\n",
       "      <td>1601.349976</td>\n",
       "      <td>...</td>\n",
       "      <td>1853.500000</td>\n",
       "      <td>239.350006</td>\n",
       "      <td>55.450001</td>\n",
       "      <td>6338.850098</td>\n",
       "      <td>271.600006</td>\n",
       "      <td>210.750000</td>\n",
       "      <td>NaN</td>\n",
       "      <td>247.600006</td>\n",
       "      <td>1708.099976</td>\n",
       "      <td>312.433319</td>\n",
       "    </tr>\n",
       "    <tr>\n",
       "      <th>3</th>\n",
       "      <td>367.674988</td>\n",
       "      <td>19722.300781</td>\n",
       "      <td>1573.349976</td>\n",
       "      <td>1650.800049</td>\n",
       "      <td>1759.650024</td>\n",
       "      <td>141.744995</td>\n",
       "      <td>334.975006</td>\n",
       "      <td>120.724998</td>\n",
       "      <td>409.450012</td>\n",
       "      <td>1585.250000</td>\n",
       "      <td>...</td>\n",
       "      <td>1885.400024</td>\n",
       "      <td>240.699997</td>\n",
       "      <td>56.049999</td>\n",
       "      <td>6184.850098</td>\n",
       "      <td>279.000000</td>\n",
       "      <td>210.000000</td>\n",
       "      <td>NaN</td>\n",
       "      <td>253.949997</td>\n",
       "      <td>1746.550049</td>\n",
       "      <td>303.399994</td>\n",
       "    </tr>\n",
       "    <tr>\n",
       "      <th>4</th>\n",
       "      <td>351.237488</td>\n",
       "      <td>20058.949219</td>\n",
       "      <td>1539.599976</td>\n",
       "      <td>1633.650024</td>\n",
       "      <td>1737.500000</td>\n",
       "      <td>139.139999</td>\n",
       "      <td>322.024994</td>\n",
       "      <td>116.487503</td>\n",
       "      <td>404.937500</td>\n",
       "      <td>1586.500000</td>\n",
       "      <td>...</td>\n",
       "      <td>1838.900024</td>\n",
       "      <td>238.800003</td>\n",
       "      <td>53.700001</td>\n",
       "      <td>6290.600098</td>\n",
       "      <td>273.450012</td>\n",
       "      <td>210.100006</td>\n",
       "      <td>NaN</td>\n",
       "      <td>249.100006</td>\n",
       "      <td>1749.400024</td>\n",
       "      <td>296.066681</td>\n",
       "    </tr>\n",
       "  </tbody>\n",
       "</table>\n",
       "<p>5 rows × 501 columns</p>\n",
       "</div>"
      ],
      "text/plain": [
       "       360ONE       3MINDIA          ABB          ACC       AIAENG  \\\n",
       "0  317.625000  18526.500000  1325.449951  1479.000000  1602.849976   \n",
       "1  333.500000  20224.449219  1409.099976  1633.849976  1649.550049   \n",
       "2  350.174988  20379.150391  1553.250000  1675.750000  1745.699951   \n",
       "3  367.674988  19722.300781  1573.349976  1650.800049  1759.650024   \n",
       "4  351.237488  20058.949219  1539.599976  1633.650024  1737.500000   \n",
       "\n",
       "    APLAPOLLO      AUBANK  AARTIDRUGS    AARTIIND        AAVAS  ...  \\\n",
       "0  127.620003  322.399994  111.312500  385.987488  1465.099976  ...   \n",
       "1  130.934998  322.250000  116.375000  405.950012  1498.750000  ...   \n",
       "2  140.604996  341.250000  119.737503  418.537506  1601.349976  ...   \n",
       "3  141.744995  334.975006  120.724998  409.450012  1585.250000  ...   \n",
       "4  139.139999  322.024994  116.487503  404.937500  1586.500000  ...   \n",
       "\n",
       "     WHIRLPOOL       WIPRO    YESBANK    ZFCVINDIA        ZEEL  ZENSARTECH  \\\n",
       "0  1674.750000  241.500000  54.099998  6060.049805  308.850006  214.850006   \n",
       "1  1807.900024  245.949997  55.500000  6107.250000  301.399994  215.250000   \n",
       "2  1853.500000  239.350006  55.450001  6338.850098  271.600006  210.750000   \n",
       "3  1885.400024  240.699997  56.049999  6184.850098  279.000000  210.000000   \n",
       "4  1838.900024  238.800003  53.700001  6290.600098  273.450012  210.100006   \n",
       "\n",
       "   ZOMATO   ZYDUSLIFE    ZYDUSWELL      ECLERX  \n",
       "0     NaN  238.050003  1663.849976  334.799988  \n",
       "1     NaN  247.449997  1646.699951  321.733337  \n",
       "2     NaN  247.600006  1708.099976  312.433319  \n",
       "3     NaN  253.949997  1746.550049  303.399994  \n",
       "4     NaN  249.100006  1749.400024  296.066681  \n",
       "\n",
       "[5 rows x 501 columns]"
      ]
     },
     "execution_count": 18,
     "metadata": {},
     "output_type": "execute_result"
    }
   ],
   "source": [
    "df = pd.read_csv(\"Fetched_nifty500_fm2019.csv\")\n",
    "df.head()"
   ]
  },
  {
   "cell_type": "code",
   "execution_count": 22,
   "id": "78cbd155",
   "metadata": {},
   "outputs": [
    {
     "data": {
      "text/plain": [
       "360ONE          0\n",
       "3MINDIA         1\n",
       "ABB             1\n",
       "ACC             0\n",
       "AIAENG          0\n",
       "             ... \n",
       "ZENSARTECH      0\n",
       "ZOMATO        457\n",
       "ZYDUSLIFE       0\n",
       "ZYDUSWELL       1\n",
       "ECLERX          1\n",
       "Length: 501, dtype: int64"
      ]
     },
     "execution_count": 22,
     "metadata": {},
     "output_type": "execute_result"
    }
   ],
   "source": [
    "df.isna().sum()"
   ]
  },
  {
   "cell_type": "code",
   "execution_count": null,
   "id": "282d6994",
   "metadata": {},
   "outputs": [],
   "source": []
  }
 ],
 "metadata": {
  "kernelspec": {
   "display_name": "Python 3 (ipykernel)",
   "language": "python",
   "name": "python3"
  },
  "language_info": {
   "codemirror_mode": {
    "name": "ipython",
    "version": 3
   },
   "file_extension": ".py",
   "mimetype": "text/x-python",
   "name": "python",
   "nbconvert_exporter": "python",
   "pygments_lexer": "ipython3",
   "version": "3.10.3"
  }
 },
 "nbformat": 4,
 "nbformat_minor": 5
}
